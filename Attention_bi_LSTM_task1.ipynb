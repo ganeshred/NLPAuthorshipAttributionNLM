{
  "nbformat": 4,
  "nbformat_minor": 0,
  "metadata": {
    "colab": {
      "provenance": [],
      "include_colab_link": true
    },
    "kernelspec": {
      "name": "python3",
      "display_name": "Python 3"
    },
    "language_info": {
      "name": "python"
    },
    "gpuClass": "standard",
    "accelerator": "GPU"
  },
  "cells": [
    {
      "cell_type": "markdown",
      "metadata": {
        "id": "view-in-github",
        "colab_type": "text"
      },
      "source": [
        "<a href=\"https://colab.research.google.com/github/ganeshred/NLPAuthorshipAttributionNLM/blob/main/Attention_bi_LSTM_task1.ipynb\" target=\"_parent\"><img src=\"https://colab.research.google.com/assets/colab-badge.svg\" alt=\"Open In Colab\"/></a>"
      ]
    },
    {
      "cell_type": "code",
      "source": [
        "!pip install torchtext==0.6.0"
      ],
      "metadata": {
        "colab": {
          "base_uri": "https://localhost:8080/"
        },
        "id": "5G4Pj56oNRv0",
        "outputId": "fba471b3-6012-4424-fb28-b75ef05a3406"
      },
      "execution_count": 1,
      "outputs": [
        {
          "output_type": "stream",
          "name": "stdout",
          "text": [
            "Looking in indexes: https://pypi.org/simple, https://us-python.pkg.dev/colab-wheels/public/simple/\n",
            "Requirement already satisfied: torchtext==0.6.0 in /usr/local/lib/python3.10/dist-packages (0.6.0)\n",
            "Requirement already satisfied: tqdm in /usr/local/lib/python3.10/dist-packages (from torchtext==0.6.0) (4.65.0)\n",
            "Requirement already satisfied: requests in /usr/local/lib/python3.10/dist-packages (from torchtext==0.6.0) (2.27.1)\n",
            "Requirement already satisfied: torch in /usr/local/lib/python3.10/dist-packages (from torchtext==0.6.0) (2.0.0+cu118)\n",
            "Requirement already satisfied: numpy in /usr/local/lib/python3.10/dist-packages (from torchtext==0.6.0) (1.22.4)\n",
            "Requirement already satisfied: six in /usr/local/lib/python3.10/dist-packages (from torchtext==0.6.0) (1.16.0)\n",
            "Requirement already satisfied: sentencepiece in /usr/local/lib/python3.10/dist-packages (from torchtext==0.6.0) (0.1.99)\n",
            "Requirement already satisfied: urllib3<1.27,>=1.21.1 in /usr/local/lib/python3.10/dist-packages (from requests->torchtext==0.6.0) (1.26.15)\n",
            "Requirement already satisfied: certifi>=2017.4.17 in /usr/local/lib/python3.10/dist-packages (from requests->torchtext==0.6.0) (2022.12.7)\n",
            "Requirement already satisfied: charset-normalizer~=2.0.0 in /usr/local/lib/python3.10/dist-packages (from requests->torchtext==0.6.0) (2.0.12)\n",
            "Requirement already satisfied: idna<4,>=2.5 in /usr/local/lib/python3.10/dist-packages (from requests->torchtext==0.6.0) (3.4)\n",
            "Requirement already satisfied: filelock in /usr/local/lib/python3.10/dist-packages (from torch->torchtext==0.6.0) (3.12.0)\n",
            "Requirement already satisfied: typing-extensions in /usr/local/lib/python3.10/dist-packages (from torch->torchtext==0.6.0) (4.5.0)\n",
            "Requirement already satisfied: sympy in /usr/local/lib/python3.10/dist-packages (from torch->torchtext==0.6.0) (1.11.1)\n",
            "Requirement already satisfied: networkx in /usr/local/lib/python3.10/dist-packages (from torch->torchtext==0.6.0) (3.1)\n",
            "Requirement already satisfied: jinja2 in /usr/local/lib/python3.10/dist-packages (from torch->torchtext==0.6.0) (3.1.2)\n",
            "Requirement already satisfied: triton==2.0.0 in /usr/local/lib/python3.10/dist-packages (from torch->torchtext==0.6.0) (2.0.0)\n",
            "Requirement already satisfied: cmake in /usr/local/lib/python3.10/dist-packages (from triton==2.0.0->torch->torchtext==0.6.0) (3.25.2)\n",
            "Requirement already satisfied: lit in /usr/local/lib/python3.10/dist-packages (from triton==2.0.0->torch->torchtext==0.6.0) (16.0.3)\n",
            "Requirement already satisfied: MarkupSafe>=2.0 in /usr/local/lib/python3.10/dist-packages (from jinja2->torch->torchtext==0.6.0) (2.1.2)\n",
            "Requirement already satisfied: mpmath>=0.19 in /usr/local/lib/python3.10/dist-packages (from sympy->torch->torchtext==0.6.0) (1.3.0)\n"
          ]
        }
      ]
    },
    {
      "cell_type": "code",
      "source": [
        "from google.colab import drive\n",
        "drive.mount('/content/gdrive')"
      ],
      "metadata": {
        "colab": {
          "base_uri": "https://localhost:8080/"
        },
        "id": "CerFcqhYNeo5",
        "outputId": "1f296741-3a35-47af-9125-210773b819f3"
      },
      "execution_count": 2,
      "outputs": [
        {
          "output_type": "stream",
          "name": "stdout",
          "text": [
            "Drive already mounted at /content/gdrive; to attempt to forcibly remount, call drive.mount(\"/content/gdrive\", force_remount=True).\n"
          ]
        }
      ]
    },
    {
      "cell_type": "code",
      "source": [
        "import torch\n",
        "from torchtext import data\n",
        "from torchtext import datasets\n",
        "\n",
        "SEED = 1234\n",
        "\n",
        "torch.manual_seed(SEED)\n",
        "torch.backends.cudnn.deterministic = True\n",
        "\n",
        "TEXT = data.Field(tokenize = 'spacy', tokenizer_language='en_core_web_sm', include_lengths = True)\n",
        "LABEL = data.LabelField(dtype = torch.float)\n",
        "     "
      ],
      "metadata": {
        "id": "2f31E7biNer0"
      },
      "execution_count": 3,
      "outputs": []
    },
    {
      "cell_type": "code",
      "source": [
        "import pandas as pd"
      ],
      "metadata": {
        "id": "869PvF4WNeuv"
      },
      "execution_count": 4,
      "outputs": []
    },
    {
      "cell_type": "code",
      "source": [
        "df = pd.read_csv('/content/task1_final.csv')"
      ],
      "metadata": {
        "id": "6n41G-m4Nexk"
      },
      "execution_count": 5,
      "outputs": []
    },
    {
      "cell_type": "code",
      "source": [
        "len(df)"
      ],
      "metadata": {
        "colab": {
          "base_uri": "https://localhost:8080/"
        },
        "id": "JvnIozbaNe0T",
        "outputId": "07bc0c7a-4f08-4353-ad7f-5afc10436087"
      },
      "execution_count": 6,
      "outputs": [
        {
          "output_type": "execute_result",
          "data": {
            "text/plain": [
              "10000"
            ]
          },
          "metadata": {},
          "execution_count": 6
        }
      ]
    },
    {
      "cell_type": "code",
      "source": [
        "df.head()"
      ],
      "metadata": {
        "colab": {
          "base_uri": "https://localhost:8080/",
          "height": 206
        },
        "id": "mqStd4TeNe3O",
        "outputId": "6552905e-8d6d-49fa-c90e-4e9bb14f5c10"
      },
      "execution_count": 7,
      "outputs": [
        {
          "output_type": "execute_result",
          "data": {
            "text/plain": [
              "   Unnamed: 0                                               text  label\n",
              "0           0  Senegal has partnered with a UK-based health d...      1\n",
              "1           1  the man on the phone: what's it like making hi...      1\n",
              "2           2  , Callum Michael RebelJenna Dewan has announce...      1\n",
              "3           3  learning to live with the coronavirus q if i h...      1\n",
              "4           4  athletes allege abuse, racism at u. of illinoi...      1"
            ],
            "text/html": [
              "\n",
              "  <div id=\"df-2d25acae-f643-4454-aac1-e7693a75f4e5\">\n",
              "    <div class=\"colab-df-container\">\n",
              "      <div>\n",
              "<style scoped>\n",
              "    .dataframe tbody tr th:only-of-type {\n",
              "        vertical-align: middle;\n",
              "    }\n",
              "\n",
              "    .dataframe tbody tr th {\n",
              "        vertical-align: top;\n",
              "    }\n",
              "\n",
              "    .dataframe thead th {\n",
              "        text-align: right;\n",
              "    }\n",
              "</style>\n",
              "<table border=\"1\" class=\"dataframe\">\n",
              "  <thead>\n",
              "    <tr style=\"text-align: right;\">\n",
              "      <th></th>\n",
              "      <th>Unnamed: 0</th>\n",
              "      <th>text</th>\n",
              "      <th>label</th>\n",
              "    </tr>\n",
              "  </thead>\n",
              "  <tbody>\n",
              "    <tr>\n",
              "      <th>0</th>\n",
              "      <td>0</td>\n",
              "      <td>Senegal has partnered with a UK-based health d...</td>\n",
              "      <td>1</td>\n",
              "    </tr>\n",
              "    <tr>\n",
              "      <th>1</th>\n",
              "      <td>1</td>\n",
              "      <td>the man on the phone: what's it like making hi...</td>\n",
              "      <td>1</td>\n",
              "    </tr>\n",
              "    <tr>\n",
              "      <th>2</th>\n",
              "      <td>2</td>\n",
              "      <td>, Callum Michael RebelJenna Dewan has announce...</td>\n",
              "      <td>1</td>\n",
              "    </tr>\n",
              "    <tr>\n",
              "      <th>3</th>\n",
              "      <td>3</td>\n",
              "      <td>learning to live with the coronavirus q if i h...</td>\n",
              "      <td>1</td>\n",
              "    </tr>\n",
              "    <tr>\n",
              "      <th>4</th>\n",
              "      <td>4</td>\n",
              "      <td>athletes allege abuse, racism at u. of illinoi...</td>\n",
              "      <td>1</td>\n",
              "    </tr>\n",
              "  </tbody>\n",
              "</table>\n",
              "</div>\n",
              "      <button class=\"colab-df-convert\" onclick=\"convertToInteractive('df-2d25acae-f643-4454-aac1-e7693a75f4e5')\"\n",
              "              title=\"Convert this dataframe to an interactive table.\"\n",
              "              style=\"display:none;\">\n",
              "        \n",
              "  <svg xmlns=\"http://www.w3.org/2000/svg\" height=\"24px\"viewBox=\"0 0 24 24\"\n",
              "       width=\"24px\">\n",
              "    <path d=\"M0 0h24v24H0V0z\" fill=\"none\"/>\n",
              "    <path d=\"M18.56 5.44l.94 2.06.94-2.06 2.06-.94-2.06-.94-.94-2.06-.94 2.06-2.06.94zm-11 1L8.5 8.5l.94-2.06 2.06-.94-2.06-.94L8.5 2.5l-.94 2.06-2.06.94zm10 10l.94 2.06.94-2.06 2.06-.94-2.06-.94-.94-2.06-.94 2.06-2.06.94z\"/><path d=\"M17.41 7.96l-1.37-1.37c-.4-.4-.92-.59-1.43-.59-.52 0-1.04.2-1.43.59L10.3 9.45l-7.72 7.72c-.78.78-.78 2.05 0 2.83L4 21.41c.39.39.9.59 1.41.59.51 0 1.02-.2 1.41-.59l7.78-7.78 2.81-2.81c.8-.78.8-2.07 0-2.86zM5.41 20L4 18.59l7.72-7.72 1.47 1.35L5.41 20z\"/>\n",
              "  </svg>\n",
              "      </button>\n",
              "      \n",
              "  <style>\n",
              "    .colab-df-container {\n",
              "      display:flex;\n",
              "      flex-wrap:wrap;\n",
              "      gap: 12px;\n",
              "    }\n",
              "\n",
              "    .colab-df-convert {\n",
              "      background-color: #E8F0FE;\n",
              "      border: none;\n",
              "      border-radius: 50%;\n",
              "      cursor: pointer;\n",
              "      display: none;\n",
              "      fill: #1967D2;\n",
              "      height: 32px;\n",
              "      padding: 0 0 0 0;\n",
              "      width: 32px;\n",
              "    }\n",
              "\n",
              "    .colab-df-convert:hover {\n",
              "      background-color: #E2EBFA;\n",
              "      box-shadow: 0px 1px 2px rgba(60, 64, 67, 0.3), 0px 1px 3px 1px rgba(60, 64, 67, 0.15);\n",
              "      fill: #174EA6;\n",
              "    }\n",
              "\n",
              "    [theme=dark] .colab-df-convert {\n",
              "      background-color: #3B4455;\n",
              "      fill: #D2E3FC;\n",
              "    }\n",
              "\n",
              "    [theme=dark] .colab-df-convert:hover {\n",
              "      background-color: #434B5C;\n",
              "      box-shadow: 0px 1px 3px 1px rgba(0, 0, 0, 0.15);\n",
              "      filter: drop-shadow(0px 1px 2px rgba(0, 0, 0, 0.3));\n",
              "      fill: #FFFFFF;\n",
              "    }\n",
              "  </style>\n",
              "\n",
              "      <script>\n",
              "        const buttonEl =\n",
              "          document.querySelector('#df-2d25acae-f643-4454-aac1-e7693a75f4e5 button.colab-df-convert');\n",
              "        buttonEl.style.display =\n",
              "          google.colab.kernel.accessAllowed ? 'block' : 'none';\n",
              "\n",
              "        async function convertToInteractive(key) {\n",
              "          const element = document.querySelector('#df-2d25acae-f643-4454-aac1-e7693a75f4e5');\n",
              "          const dataTable =\n",
              "            await google.colab.kernel.invokeFunction('convertToInteractive',\n",
              "                                                     [key], {});\n",
              "          if (!dataTable) return;\n",
              "\n",
              "          const docLinkHtml = 'Like what you see? Visit the ' +\n",
              "            '<a target=\"_blank\" href=https://colab.research.google.com/notebooks/data_table.ipynb>data table notebook</a>'\n",
              "            + ' to learn more about interactive tables.';\n",
              "          element.innerHTML = '';\n",
              "          dataTable['output_type'] = 'display_data';\n",
              "          await google.colab.output.renderOutput(dataTable, element);\n",
              "          const docLink = document.createElement('div');\n",
              "          docLink.innerHTML = docLinkHtml;\n",
              "          element.appendChild(docLink);\n",
              "        }\n",
              "      </script>\n",
              "    </div>\n",
              "  </div>\n",
              "  "
            ]
          },
          "metadata": {},
          "execution_count": 7
        }
      ]
    },
    {
      "cell_type": "code",
      "source": [
        "#df['text'] = df['T1']+df['T2']\n",
        "df = df.rename(columns={'label': 'class'})\n",
        "df = df[['text','class']]"
      ],
      "metadata": {
        "id": "6Be0yF6sNe6A"
      },
      "execution_count": 13,
      "outputs": []
    },
    {
      "cell_type": "code",
      "source": [
        "df[['text']] = df[['text']]. astype(str)\n",
        "df[['class']] = df[['class']].astype(int)"
      ],
      "metadata": {
        "id": "Z-yGAkfcNe80"
      },
      "execution_count": 14,
      "outputs": []
    },
    {
      "cell_type": "code",
      "execution_count": 16,
      "metadata": {
        "colab": {
          "base_uri": "https://localhost:8080/"
        },
        "id": "UNZ4SOoGKjm3",
        "outputId": "91eaac22-eda6-47d4-e1d7-354380d3be4e"
      },
      "outputs": [
        {
          "output_type": "stream",
          "name": "stderr",
          "text": [
            ".vector_cache/glove.6B.zip: 862MB [02:39, 5.41MB/s]                           \n",
            "100%|█████████▉| 399999/400000 [00:10<00:00, 37528.16it/s]\n"
          ]
        }
      ],
      "source": [
        "# text_field = data.Field(\n",
        "#     sequential=True,\n",
        "#     tokenize='basic_english', \n",
        "#     fix_length=500,\n",
        "#     lower=True\n",
        "# )\n",
        "TEXT = data.Field(tokenize = 'spacy', tokenizer_language='en_core_web_sm', include_lengths = True)\n",
        "LABEL = data.LabelField(sequential=False, use_vocab=False, dtype = torch.float)\n",
        "\n",
        "# label_field = data.Field(sequential=False, use_vocab=False)\n",
        "\n",
        "# sadly have to apply preprocess manually\n",
        "preprocessed_text = df['text'].apply(\n",
        "    lambda x: TEXT.preprocess(x)\n",
        ")\n",
        "\n",
        "# load fastext simple embedding with 300d\n",
        "TEXT.build_vocab(\n",
        "    preprocessed_text, \n",
        "    max_size = 25000,\n",
        "    vectors='glove.6B.50d',\n",
        "    unk_init = torch.Tensor.normal_\n",
        ")\n",
        "\n",
        "# get the vocab instance\n",
        "vocab = TEXT.vocab"
      ]
    },
    {
      "cell_type": "code",
      "source": [
        "df.head()"
      ],
      "metadata": {
        "colab": {
          "base_uri": "https://localhost:8080/",
          "height": 206
        },
        "id": "6FZJIjAMKiIs",
        "outputId": "8ddb7f22-06d2-4401-95f8-9e9b8cb1567c"
      },
      "execution_count": 17,
      "outputs": [
        {
          "output_type": "execute_result",
          "data": {
            "text/plain": [
              "                                                text  class\n",
              "0  Senegal has partnered with a UK-based health d...      1\n",
              "1  the man on the phone: what's it like making hi...      1\n",
              "2  , Callum Michael RebelJenna Dewan has announce...      1\n",
              "3  learning to live with the coronavirus q if i h...      1\n",
              "4  athletes allege abuse, racism at u. of illinoi...      1"
            ],
            "text/html": [
              "\n",
              "  <div id=\"df-8bdb15bd-f60f-44b2-8af8-36d4464e854b\">\n",
              "    <div class=\"colab-df-container\">\n",
              "      <div>\n",
              "<style scoped>\n",
              "    .dataframe tbody tr th:only-of-type {\n",
              "        vertical-align: middle;\n",
              "    }\n",
              "\n",
              "    .dataframe tbody tr th {\n",
              "        vertical-align: top;\n",
              "    }\n",
              "\n",
              "    .dataframe thead th {\n",
              "        text-align: right;\n",
              "    }\n",
              "</style>\n",
              "<table border=\"1\" class=\"dataframe\">\n",
              "  <thead>\n",
              "    <tr style=\"text-align: right;\">\n",
              "      <th></th>\n",
              "      <th>text</th>\n",
              "      <th>class</th>\n",
              "    </tr>\n",
              "  </thead>\n",
              "  <tbody>\n",
              "    <tr>\n",
              "      <th>0</th>\n",
              "      <td>Senegal has partnered with a UK-based health d...</td>\n",
              "      <td>1</td>\n",
              "    </tr>\n",
              "    <tr>\n",
              "      <th>1</th>\n",
              "      <td>the man on the phone: what's it like making hi...</td>\n",
              "      <td>1</td>\n",
              "    </tr>\n",
              "    <tr>\n",
              "      <th>2</th>\n",
              "      <td>, Callum Michael RebelJenna Dewan has announce...</td>\n",
              "      <td>1</td>\n",
              "    </tr>\n",
              "    <tr>\n",
              "      <th>3</th>\n",
              "      <td>learning to live with the coronavirus q if i h...</td>\n",
              "      <td>1</td>\n",
              "    </tr>\n",
              "    <tr>\n",
              "      <th>4</th>\n",
              "      <td>athletes allege abuse, racism at u. of illinoi...</td>\n",
              "      <td>1</td>\n",
              "    </tr>\n",
              "  </tbody>\n",
              "</table>\n",
              "</div>\n",
              "      <button class=\"colab-df-convert\" onclick=\"convertToInteractive('df-8bdb15bd-f60f-44b2-8af8-36d4464e854b')\"\n",
              "              title=\"Convert this dataframe to an interactive table.\"\n",
              "              style=\"display:none;\">\n",
              "        \n",
              "  <svg xmlns=\"http://www.w3.org/2000/svg\" height=\"24px\"viewBox=\"0 0 24 24\"\n",
              "       width=\"24px\">\n",
              "    <path d=\"M0 0h24v24H0V0z\" fill=\"none\"/>\n",
              "    <path d=\"M18.56 5.44l.94 2.06.94-2.06 2.06-.94-2.06-.94-.94-2.06-.94 2.06-2.06.94zm-11 1L8.5 8.5l.94-2.06 2.06-.94-2.06-.94L8.5 2.5l-.94 2.06-2.06.94zm10 10l.94 2.06.94-2.06 2.06-.94-2.06-.94-.94-2.06-.94 2.06-2.06.94z\"/><path d=\"M17.41 7.96l-1.37-1.37c-.4-.4-.92-.59-1.43-.59-.52 0-1.04.2-1.43.59L10.3 9.45l-7.72 7.72c-.78.78-.78 2.05 0 2.83L4 21.41c.39.39.9.59 1.41.59.51 0 1.02-.2 1.41-.59l7.78-7.78 2.81-2.81c.8-.78.8-2.07 0-2.86zM5.41 20L4 18.59l7.72-7.72 1.47 1.35L5.41 20z\"/>\n",
              "  </svg>\n",
              "      </button>\n",
              "      \n",
              "  <style>\n",
              "    .colab-df-container {\n",
              "      display:flex;\n",
              "      flex-wrap:wrap;\n",
              "      gap: 12px;\n",
              "    }\n",
              "\n",
              "    .colab-df-convert {\n",
              "      background-color: #E8F0FE;\n",
              "      border: none;\n",
              "      border-radius: 50%;\n",
              "      cursor: pointer;\n",
              "      display: none;\n",
              "      fill: #1967D2;\n",
              "      height: 32px;\n",
              "      padding: 0 0 0 0;\n",
              "      width: 32px;\n",
              "    }\n",
              "\n",
              "    .colab-df-convert:hover {\n",
              "      background-color: #E2EBFA;\n",
              "      box-shadow: 0px 1px 2px rgba(60, 64, 67, 0.3), 0px 1px 3px 1px rgba(60, 64, 67, 0.15);\n",
              "      fill: #174EA6;\n",
              "    }\n",
              "\n",
              "    [theme=dark] .colab-df-convert {\n",
              "      background-color: #3B4455;\n",
              "      fill: #D2E3FC;\n",
              "    }\n",
              "\n",
              "    [theme=dark] .colab-df-convert:hover {\n",
              "      background-color: #434B5C;\n",
              "      box-shadow: 0px 1px 3px 1px rgba(0, 0, 0, 0.15);\n",
              "      filter: drop-shadow(0px 1px 2px rgba(0, 0, 0, 0.3));\n",
              "      fill: #FFFFFF;\n",
              "    }\n",
              "  </style>\n",
              "\n",
              "      <script>\n",
              "        const buttonEl =\n",
              "          document.querySelector('#df-8bdb15bd-f60f-44b2-8af8-36d4464e854b button.colab-df-convert');\n",
              "        buttonEl.style.display =\n",
              "          google.colab.kernel.accessAllowed ? 'block' : 'none';\n",
              "\n",
              "        async function convertToInteractive(key) {\n",
              "          const element = document.querySelector('#df-8bdb15bd-f60f-44b2-8af8-36d4464e854b');\n",
              "          const dataTable =\n",
              "            await google.colab.kernel.invokeFunction('convertToInteractive',\n",
              "                                                     [key], {});\n",
              "          if (!dataTable) return;\n",
              "\n",
              "          const docLinkHtml = 'Like what you see? Visit the ' +\n",
              "            '<a target=\"_blank\" href=https://colab.research.google.com/notebooks/data_table.ipynb>data table notebook</a>'\n",
              "            + ' to learn more about interactive tables.';\n",
              "          element.innerHTML = '';\n",
              "          dataTable['output_type'] = 'display_data';\n",
              "          await google.colab.output.renderOutput(dataTable, element);\n",
              "          const docLink = document.createElement('div');\n",
              "          docLink.innerHTML = docLinkHtml;\n",
              "          element.appendChild(docLink);\n",
              "        }\n",
              "      </script>\n",
              "    </div>\n",
              "  </div>\n",
              "  "
            ]
          },
          "metadata": {},
          "execution_count": 17
        }
      ]
    },
    {
      "cell_type": "code",
      "source": [
        "# ltoi = {l: i for i, l in enumerate(df['class'].unique())}"
      ],
      "metadata": {
        "id": "7fo-4PymNKox"
      },
      "execution_count": 18,
      "outputs": []
    },
    {
      "cell_type": "code",
      "source": [
        "df['label1'] = df['class']\n",
        "\n",
        "class DataFrameDataset(data.Dataset):\n",
        "    def __init__(self, df: pd.DataFrame, fields: list):\n",
        "        super(DataFrameDataset, self).__init__(\n",
        "            [\n",
        "                data.Example.fromlist(list(r), fields) \n",
        "                for i, r in df.iterrows()\n",
        "            ], \n",
        "            fields\n",
        "        )"
      ],
      "metadata": {
        "id": "hlf6Q7ioSuzm"
      },
      "execution_count": 19,
      "outputs": []
    },
    {
      "cell_type": "code",
      "source": [
        "df1=df[['text','label1']]"
      ],
      "metadata": {
        "id": "n7EivRJkWJAA"
      },
      "execution_count": 20,
      "outputs": []
    },
    {
      "cell_type": "code",
      "source": [
        "examples=[]\n",
        "for i,row in df1.iterrows():\n",
        "  # print(example)\n",
        "  examples.append(data.Example.fromlist(row, fields=[('text', TEXT), ('label', LABEL)]))"
      ],
      "metadata": {
        "id": "ykBCGeBlWoY6"
      },
      "execution_count": 21,
      "outputs": []
    },
    {
      "cell_type": "code",
      "source": [
        "# examples[2000].label\n",
        "c=0\n",
        "for i in examples:\n",
        "  if type(i.label) != int:\n",
        "    c+=1"
      ],
      "metadata": {
        "id": "yKl9xYuWYWbI"
      },
      "execution_count": 22,
      "outputs": []
    },
    {
      "cell_type": "code",
      "source": [
        "c"
      ],
      "metadata": {
        "colab": {
          "base_uri": "https://localhost:8080/"
        },
        "id": "lL6ysKUOePcV",
        "outputId": "c19760d6-a89e-483d-e657-1a634517712c"
      },
      "execution_count": 23,
      "outputs": [
        {
          "output_type": "execute_result",
          "data": {
            "text/plain": [
              "0"
            ]
          },
          "metadata": {},
          "execution_count": 23
        }
      ]
    },
    {
      "cell_type": "code",
      "source": [
        "dataset = data.Dataset(examples, fields=[('text', TEXT), ('label', LABEL)])"
      ],
      "metadata": {
        "id": "SludIWxDW1TI"
      },
      "execution_count": 24,
      "outputs": []
    },
    {
      "cell_type": "code",
      "source": [
        "train_dataset, test_dataset, valid_dataset = dataset.split(split_ratio=[0.6, 0.2, 0.2], stratified=True, strata_field='label')"
      ],
      "metadata": {
        "id": "VnPGmyi0W8d2"
      },
      "execution_count": 25,
      "outputs": []
    },
    {
      "cell_type": "code",
      "source": [
        "len(train_dataset)"
      ],
      "metadata": {
        "colab": {
          "base_uri": "https://localhost:8080/"
        },
        "id": "hgkg66ZGX6-R",
        "outputId": "ef85487c-b69c-4a37-ea0c-ba59556885da"
      },
      "execution_count": 26,
      "outputs": [
        {
          "output_type": "execute_result",
          "data": {
            "text/plain": [
              "6000"
            ]
          },
          "metadata": {},
          "execution_count": 26
        }
      ]
    },
    {
      "cell_type": "code",
      "source": [],
      "metadata": {
        "id": "p8Co6x6lWD5i"
      },
      "execution_count": 26,
      "outputs": []
    },
    {
      "cell_type": "code",
      "source": [],
      "metadata": {
        "id": "xbOzHGfaSx0l"
      },
      "execution_count": 26,
      "outputs": []
    },
    {
      "cell_type": "code",
      "source": [
        "device = torch.device('cuda' if torch.cuda.is_available() else 'cpu')\n",
        "print(\"We are working with \", device)\n",
        "# device = 'cpu'\n",
        "train_iter, test_iter, valid_iter = data.BucketIterator.splits(\n",
        "    datasets=(train_dataset, test_dataset, valid_dataset), \n",
        "    batch_size=32,\n",
        "    sort_within_batch = True,\n",
        "    sort_key=lambda x: len(x.text),\n",
        "    device=device\n",
        ")"
      ],
      "metadata": {
        "colab": {
          "base_uri": "https://localhost:8080/"
        },
        "id": "JE5GcV87TO-7",
        "outputId": "94ef9df2-e2a7-40ed-ec09-7b9b9f631480"
      },
      "execution_count": 27,
      "outputs": [
        {
          "output_type": "stream",
          "name": "stdout",
          "text": [
            "We are working with  cuda\n"
          ]
        }
      ]
    },
    {
      "cell_type": "code",
      "source": [],
      "metadata": {
        "id": "CXumcJOZTSuh"
      },
      "execution_count": null,
      "outputs": []
    },
    {
      "cell_type": "code",
      "source": [],
      "metadata": {
        "id": "D_CtpAOWvV9a"
      },
      "execution_count": null,
      "outputs": []
    },
    {
      "cell_type": "code",
      "source": [
        "import torch.nn as nn\n",
        "\n",
        "class Attention(nn.Module):\n",
        "    def __init__(self, hidden_size):\n",
        "        super(Attention, self).__init__()\n",
        "        self.hidden_size = hidden_size\n",
        "        self.attn = nn.Linear(self.hidden_size * 2, self.hidden_size)\n",
        "        self.v = nn.Linear(self.hidden_size, 1, bias=False)\n",
        "        \n",
        "    def forward(self, hidden, encoder_outputs):\n",
        "        # hidden = [batch size, hidden size]\n",
        "        # encoder_outputs = [src sent len, batch size, hidden size]\n",
        "        batch_size = encoder_outputs.shape[1]\n",
        "        src_len = encoder_outputs.shape[0]\n",
        "        # print(hidden.shape)\n",
        "        # repeat the last hidden state of the decoder\n",
        "        hidden = hidden.unsqueeze(1).repeat(1, src_len, 1)\n",
        "\n",
        "        # print(hidden.shape)\n",
        "        # print(encoder_outputs.transpose(1,0).shape)\n",
        "\n",
        "        # # hidden = hidden.transpose(1, 0)\n",
        "\n",
        "        # print(hidden.shape)\n",
        "        \n",
        "        # concatenate hidden and encoder_outputs\n",
        "        energy = torch.tanh(self.attn(torch.cat((hidden, encoder_outputs.transpose(1,0)), dim=2))) \n",
        "        \n",
        "        # compute attention scores\n",
        "        attention = self.v(energy).squeeze(2)\n",
        "        attention = torch.softmax(attention, dim=1).unsqueeze(1)\n",
        "        # compute context vector\n",
        "        # print(attention.shape)\n",
        "        # print(encoder_outputs.shape)\n",
        "        context = torch.bmm(attention, encoder_outputs.transpose(0, 1))\n",
        "        return context, attention\n",
        "\n",
        "class LSTMAttention(nn.Module):\n",
        "    def __init__(self, vocab_size, embedding_dim, hidden_dim, output_dim, n_layers, \n",
        "                 bidirectional, dropout, pad_idx, weight_decay=1e-5):\n",
        "        super().__init__()\n",
        "        #1. Initialize Embedding Layer\n",
        "        self.embedding = nn.Embedding(num_embeddings=vocab_size, embedding_dim=embedding_dim, padding_idx=pad_idx)\n",
        "        #2. Initialize LSTM layer\n",
        "        self.lstm = nn.LSTM(input_size=embedding_dim, hidden_size=hidden_dim, num_layers=n_layers, dropout=dropout, bidirectional=bidirectional)\n",
        "        #3. Initialize attention layer\n",
        "        self.attention = Attention(hidden_dim*2)\n",
        "        #4. Initialize a fully connected layer with Linear transformation\n",
        "        self.fc = nn.Linear(hidden_dim*4, output_dim)\n",
        "        #5. Initialize Dropout\n",
        "        self.dropout = nn.Dropout(dropout)\n",
        "        #6. Initialize a projection layer for hidden tensor\n",
        "        if bidirectional:\n",
        "            self.hidden_proj = nn.Linear(2*hidden_dim, 2*hidden_dim)\n",
        "        else:\n",
        "            self.hidden_proj = nn.Linear(hidden_dim, hidden_dim)\n",
        "        self.fc.weight_decay = weight_decay\n",
        "        self.fc.bias.requires_grad = False\n",
        "        self.hidden_proj.weight_decay = weight_decay\n",
        "        self.hidden_proj.bias.requires_grad = False\n",
        "        self.attention.attn.weight_decay = weight_decay\n",
        "        self.attention.v.weight_decay = weight_decay\n",
        "\n",
        "    def forward(self, text, text_lengths):\n",
        "        #1. Apply embedding layer that matches each word to its vector and apply dropout. Dim [sent_len, batch_size, emb_dim]\n",
        "        embedding = self.embedding(text)\n",
        "        embedding_dropout = self.dropout(embedding)\n",
        "        #2. Run the LSTM along the sentences of length sent_len. #output = [sent len, batch size, hid dim * num directions]; #hidden = [num layers * num directions, batch size, hid dim]\n",
        "        packed_embedded = nn.utils.rnn.pack_padded_sequence(embedding_dropout, text_lengths.to('cpu'), enforce_sorted=False)\n",
        "        packed_output, (hidden, cell) = self.lstm(packed_embedded)\n",
        "        finalhidden = hidden\n",
        "        encoder_outputs, _ = nn.utils.rnn.pad_packed_sequence(packed_output)\n",
        "        #3. Compute the attention vector and apply attention to the encoder outputs\n",
        "        if self.lstm.bidirectional:\n",
        "            hidden = torch.tanh(self.hidden_proj(torch.cat((hidden[-2,:,:], hidden[-1,:,:]), dim=1)))\n",
        "        else:\n",
        "            hidden = torch.tanh(self.hidden_proj(hidden[-1,:,:]))\n",
        "        # print(hidden.shape)\n",
        "        # print(encoder_outputs.shape)\n",
        "        context, attention = self.attention(hidden, encoder_outputs)\n",
        "        # print(context.squeeze(1).shape)\n",
        "        # finalhidden = finalhidden.unsqueeze(1)\n",
        "        # print(torch.cat((finalhidden[-2,:,:], finalhidden[-1,:,:]), dim=1).shape)\n",
        "        #4. Concatenate the final hidden state and the context vector\n",
        "        output = torch.cat((torch.cat((finalhidden[-2,:,:], finalhidden[-1,:,:]), dim=1), context.squeeze(1)), dim=1)\n",
        "        #5. Apply the fully connected layer and return the output\n",
        "        output = self.dropout(output)\n",
        "        return self.fc(output)\n",
        "\n"
      ],
      "metadata": {
        "id": "qUbf6ZAfY16w"
      },
      "execution_count": 28,
      "outputs": []
    },
    {
      "cell_type": "code",
      "source": [
        "INPUT_DIM = len(TEXT.vocab)\n",
        "EMBEDDING_DIM = 50\n",
        "HIDDEN_DIM = 126\n",
        "OUTPUT_DIM = 2\n",
        "N_LAYERS = 2\n",
        "BIDIRECTIONAL = True\n",
        "DROPOUT = 0.5\n",
        "PAD_IDX = TEXT.vocab.stoi[TEXT.pad_token]\n",
        "\n",
        "model = LSTMAttention(INPUT_DIM, \n",
        "            EMBEDDING_DIM, \n",
        "            HIDDEN_DIM, \n",
        "            OUTPUT_DIM, \n",
        "            N_LAYERS, \n",
        "            BIDIRECTIONAL, \n",
        "            DROPOUT,\n",
        "            PAD_IDX)"
      ],
      "metadata": {
        "id": "wpAXkTBMTXyL"
      },
      "execution_count": 29,
      "outputs": []
    },
    {
      "cell_type": "code",
      "source": [
        "def count_parameters(model):\n",
        "    return sum(p.numel() for p in model.parameters() if p.requires_grad)\n",
        "\n",
        "print(f'The model has {count_parameters(model):,} trainable parameters')"
      ],
      "metadata": {
        "colab": {
          "base_uri": "https://localhost:8080/"
        },
        "id": "fvdde4iOa1v_",
        "outputId": "70abdc2e-c217-47af-85e0-ca2779f59a27"
      },
      "execution_count": 30,
      "outputs": [
        {
          "output_type": "stream",
          "name": "stdout",
          "text": [
            "The model has 2,004,588 trainable parameters\n"
          ]
        }
      ]
    },
    {
      "cell_type": "code",
      "source": [
        "pretrained_embeddings = TEXT.vocab.vectors\n",
        "\n",
        "print(pretrained_embeddings.shape)"
      ],
      "metadata": {
        "colab": {
          "base_uri": "https://localhost:8080/"
        },
        "id": "BHmh7_nOa1zJ",
        "outputId": "20f4ab92-f669-46ca-d2b6-16031814bfab"
      },
      "execution_count": 31,
      "outputs": [
        {
          "output_type": "stream",
          "name": "stdout",
          "text": [
            "torch.Size([25002, 50])\n"
          ]
        }
      ]
    },
    {
      "cell_type": "code",
      "source": [
        "model.embedding.weight.data.copy_(pretrained_embeddings)"
      ],
      "metadata": {
        "colab": {
          "base_uri": "https://localhost:8080/"
        },
        "id": "R1ORmYIWa12R",
        "outputId": "a75a068a-09a1-4c57-daaa-16cd03dd8847"
      },
      "execution_count": 32,
      "outputs": [
        {
          "output_type": "execute_result",
          "data": {
            "text/plain": [
              "tensor([[-0.1117, -0.4966,  0.1631,  ...,  0.7372,  0.3910,  0.5158],\n",
              "        [ 0.1825, -0.0737,  0.3147,  ...,  1.3226, -2.6796, -0.1297],\n",
              "        [ 0.1516,  0.3018, -0.1676,  ..., -0.3565,  0.0164,  0.1022],\n",
              "        ...,\n",
              "        [ 0.8592, -0.2636,  0.8312,  ..., -0.6837, -0.4972, -1.2572],\n",
              "        [ 0.2264, -0.3114, -0.4730,  ...,  0.2161, -0.7029, -0.5723],\n",
              "        [-0.5662,  1.0200,  0.0947,  ..., -0.8159, -0.5983,  1.0125]])"
            ]
          },
          "metadata": {},
          "execution_count": 32
        }
      ]
    },
    {
      "cell_type": "code",
      "source": [
        "UNK_IDX = TEXT.vocab.stoi[TEXT.unk_token]\n",
        "\n",
        "model.embedding.weight.data[UNK_IDX] = torch.zeros(EMBEDDING_DIM)\n",
        "model.embedding.weight.data[PAD_IDX] = torch.zeros(EMBEDDING_DIM)\n",
        "\n",
        "print(model.embedding.weight.data)"
      ],
      "metadata": {
        "colab": {
          "base_uri": "https://localhost:8080/"
        },
        "id": "4zGvhmlja15V",
        "outputId": "76d022f9-11a1-4661-d239-d9eadbb51e36"
      },
      "execution_count": 33,
      "outputs": [
        {
          "output_type": "stream",
          "name": "stdout",
          "text": [
            "tensor([[ 0.0000,  0.0000,  0.0000,  ...,  0.0000,  0.0000,  0.0000],\n",
            "        [ 0.0000,  0.0000,  0.0000,  ...,  0.0000,  0.0000,  0.0000],\n",
            "        [ 0.1516,  0.3018, -0.1676,  ..., -0.3565,  0.0164,  0.1022],\n",
            "        ...,\n",
            "        [ 0.8592, -0.2636,  0.8312,  ..., -0.6837, -0.4972, -1.2572],\n",
            "        [ 0.2264, -0.3114, -0.4730,  ...,  0.2161, -0.7029, -0.5723],\n",
            "        [-0.5662,  1.0200,  0.0947,  ..., -0.8159, -0.5983,  1.0125]])\n"
          ]
        }
      ]
    },
    {
      "cell_type": "code",
      "source": [
        "import torch.optim as optim\n",
        "\n",
        "optimizer = optim.Adam(model.parameters())"
      ],
      "metadata": {
        "id": "ieDloipFa18e"
      },
      "execution_count": 34,
      "outputs": []
    },
    {
      "cell_type": "code",
      "source": [
        "criterion = nn.CrossEntropyLoss()\n",
        "\n",
        "# device='cpu'\n",
        "model = model.to(device)\n",
        "criterion = criterion.to(device)"
      ],
      "metadata": {
        "id": "BQyW1WnMa1_x"
      },
      "execution_count": 35,
      "outputs": []
    },
    {
      "cell_type": "code",
      "source": [
        "def multiclass_accuracy(preds, y):\n",
        "    \"\"\"\n",
        "    Returns accuracy per batch, i.e. if you get 8/10 right, this returns 0.8, NOT 8\n",
        "    \"\"\"\n",
        "    # get the index of the highest prediction for each instance\n",
        "    _, preds = torch.max(preds, dim=1)\n",
        "    correct = (preds == y).float() #convert into float for division \n",
        "    acc = correct.sum() / len(correct)\n",
        "    return acc\n",
        "\n",
        "# def binary_accuracy(preds, y):\n",
        "#     \"\"\"\n",
        "#     Returns accuracy per batch, i.e. if you get 8/10 right, this returns 0.8, NOT 8\n",
        "#     \"\"\"\n",
        "#     #round predictions to the closest integer\n",
        "#     rounded_preds = torch.round(torch.sigmoid(preds))\n",
        "#     predicted_labels = torch.argmax(rounded_preds, dim=1)\n",
        "#     correct = (predicted_labels == y).float() #convert into float for division \n",
        "#     acc = correct.sum() / len(correct)\n",
        "#     return acc"
      ],
      "metadata": {
        "id": "BcQX2TKNa2Cc"
      },
      "execution_count": 36,
      "outputs": []
    },
    {
      "cell_type": "code",
      "source": [
        "def train(model, iterator, optimizer, criterion):\n",
        "    \n",
        "    epoch_loss = 0\n",
        "    epoch_acc = 0\n",
        "    \n",
        "    model.train()\n",
        "    \n",
        "    for batch in iterator:\n",
        "        \n",
        "        optimizer.zero_grad()\n",
        "        \n",
        "        # print(batch.text)\n",
        "        text, text_lengths = batch.text\n",
        "        \n",
        "        predictions = model(text, text_lengths).squeeze(1)\n",
        "\n",
        "        target = batch.label\n",
        "        target = target.type(torch.LongTensor)\n",
        "\n",
        "        # print(target.shape)\n",
        "\n",
        "        # print(predictions.shape)\n",
        "        \n",
        "        loss = criterion(predictions.to(device), target.to(device))\n",
        "        \n",
        "        acc = multiclass_accuracy(predictions, batch.label)\n",
        "        \n",
        "        loss.backward()\n",
        "        \n",
        "        optimizer.step()\n",
        "        \n",
        "        epoch_loss += loss.item()\n",
        "        epoch_acc += acc.item()\n",
        "        \n",
        "    return epoch_loss / len(iterator), epoch_acc / len(iterator)"
      ],
      "metadata": {
        "id": "Hb9Y1yqJa2FP"
      },
      "execution_count": 37,
      "outputs": []
    },
    {
      "cell_type": "code",
      "source": [
        "def evaluate(model, iterator, criterion):\n",
        "    \n",
        "    epoch_loss = 0\n",
        "    epoch_acc = 0\n",
        "    \n",
        "    model.eval()\n",
        "    \n",
        "    with torch.no_grad():\n",
        "    \n",
        "        for batch in iterator:\n",
        "            \n",
        "            text, text_lengths = batch.text\n",
        "            \n",
        "            predictions = model(text, text_lengths).squeeze(1)\n",
        "            target = batch.label\n",
        "            target = target.type(torch.LongTensor)\n",
        "            \n",
        "            loss = criterion(predictions.to(device), target.to(device))\n",
        "            \n",
        "            acc = multiclass_accuracy(predictions, batch.label)\n",
        "\n",
        "            epoch_loss += loss.item()\n",
        "            epoch_acc += acc.item()\n",
        "\n",
        "\n",
        "\n",
        "    return epoch_loss / len(iterator), epoch_acc / len(iterator)"
      ],
      "metadata": {
        "id": "o1x24ifjcGgs"
      },
      "execution_count": 38,
      "outputs": []
    },
    {
      "cell_type": "code",
      "source": [
        "import time\n",
        "\n",
        "def epoch_time(start_time, end_time):\n",
        "    elapsed_time = end_time - start_time\n",
        "    elapsed_mins = int(elapsed_time / 60)\n",
        "    elapsed_secs = int(elapsed_time - (elapsed_mins * 60))\n",
        "    return elapsed_mins, elapsed_secs"
      ],
      "metadata": {
        "id": "76kTNu64cKJO"
      },
      "execution_count": 39,
      "outputs": []
    },
    {
      "cell_type": "code",
      "source": [
        "train_losses_list = []\n",
        "valid_losses_list = []\n",
        "train_accs=[]\n",
        "valid_accs=[]"
      ],
      "metadata": {
        "id": "Gb7Us6pm2PCo"
      },
      "execution_count": 40,
      "outputs": []
    },
    {
      "cell_type": "code",
      "source": [
        "N_EPOCHS = 20\n",
        "path = F\"/content/gdrive/My Drive/attentionbilstm_model_task1.pt\"\n",
        "best_valid_loss = float('inf')\n",
        "\n",
        "for epoch in range(N_EPOCHS):\n",
        "    train_dataset, test_dataset, valid_dataset = dataset.split(split_ratio=[0.6, 0.2, 0.2], stratified=True, strata_field='label')\n",
        "    train_iter, test_iter, valid_iter = data.BucketIterator.splits(\n",
        "        datasets=(train_dataset, test_dataset, valid_dataset), \n",
        "        batch_size=32,\n",
        "        sort_within_batch = True,\n",
        "        sort_key=lambda x: len(x.text),\n",
        "        device=device\n",
        "    )\n",
        "    start_time = time.time()\n",
        "    \n",
        "    train_loss, train_acc = train(model, train_iter, optimizer, criterion)\n",
        "    valid_loss, valid_acc = evaluate(model, valid_iter, criterion)\n",
        "    \n",
        "    end_time = time.time()\n",
        "\n",
        "    epoch_mins, epoch_secs = epoch_time(start_time, end_time)\n",
        "    train_losses_list.append(train_loss)\n",
        "    valid_losses_list.append(valid_loss)\n",
        "    train_accs.append(train_acc*100)\n",
        "    valid_accs.append(valid_acc*100)\n",
        "    \n",
        "    if valid_loss < best_valid_loss:\n",
        "        best_valid_loss = valid_loss\n",
        "        torch.save(model.state_dict(), path)\n",
        "    \n",
        "    print(f'Epoch: {epoch+1:02} | Epoch Time: {epoch_mins}m {epoch_secs}s')\n",
        "    print(f'\\tTrain Loss: {train_loss:.3f} | Train Acc: {train_acc*100:.2f}%')\n",
        "    print(f'\\t Val. Loss: {valid_loss:.3f} |  Val. Acc: {valid_acc*100:.2f}%')"
      ],
      "metadata": {
        "colab": {
          "base_uri": "https://localhost:8080/"
        },
        "id": "F9RiGfJpcNX1",
        "outputId": "1632809f-6ac0-4483-ecc4-438a7264aebb"
      },
      "execution_count": 41,
      "outputs": [
        {
          "output_type": "stream",
          "name": "stdout",
          "text": [
            "Epoch: 01 | Epoch Time: 0m 29s\n",
            "\tTrain Loss: 0.696 | Train Acc: 50.98%\n",
            "\t Val. Loss: 0.695 |  Val. Acc: 50.05%\n",
            "Epoch: 02 | Epoch Time: 0m 27s\n",
            "\tTrain Loss: 0.692 | Train Acc: 52.19%\n",
            "\t Val. Loss: 0.690 |  Val. Acc: 53.97%\n",
            "Epoch: 03 | Epoch Time: 0m 28s\n",
            "\tTrain Loss: 0.687 | Train Acc: 54.70%\n",
            "\t Val. Loss: 0.686 |  Val. Acc: 55.46%\n",
            "Epoch: 04 | Epoch Time: 0m 28s\n",
            "\tTrain Loss: 0.669 | Train Acc: 58.68%\n",
            "\t Val. Loss: 0.685 |  Val. Acc: 56.15%\n",
            "Epoch: 05 | Epoch Time: 0m 28s\n",
            "\tTrain Loss: 0.644 | Train Acc: 62.50%\n",
            "\t Val. Loss: 0.689 |  Val. Acc: 57.49%\n",
            "Epoch: 06 | Epoch Time: 0m 27s\n",
            "\tTrain Loss: 0.611 | Train Acc: 66.02%\n",
            "\t Val. Loss: 0.693 |  Val. Acc: 59.87%\n",
            "Epoch: 07 | Epoch Time: 0m 27s\n",
            "\tTrain Loss: 0.572 | Train Acc: 69.93%\n",
            "\t Val. Loss: 0.696 |  Val. Acc: 58.48%\n",
            "Epoch: 08 | Epoch Time: 0m 28s\n",
            "\tTrain Loss: 0.533 | Train Acc: 73.12%\n",
            "\t Val. Loss: 0.716 |  Val. Acc: 59.03%\n",
            "Epoch: 09 | Epoch Time: 0m 28s\n",
            "\tTrain Loss: 0.495 | Train Acc: 75.58%\n",
            "\t Val. Loss: 0.743 |  Val. Acc: 58.18%\n",
            "Epoch: 10 | Epoch Time: 0m 28s\n",
            "\tTrain Loss: 0.476 | Train Acc: 77.23%\n",
            "\t Val. Loss: 0.772 |  Val. Acc: 59.42%\n",
            "Epoch: 11 | Epoch Time: 0m 28s\n",
            "\tTrain Loss: 0.449 | Train Acc: 78.64%\n",
            "\t Val. Loss: 0.786 |  Val. Acc: 60.12%\n",
            "Epoch: 12 | Epoch Time: 0m 28s\n",
            "\tTrain Loss: 0.401 | Train Acc: 81.38%\n",
            "\t Val. Loss: 0.862 |  Val. Acc: 58.98%\n",
            "Epoch: 13 | Epoch Time: 0m 30s\n",
            "\tTrain Loss: 0.385 | Train Acc: 82.53%\n",
            "\t Val. Loss: 0.886 |  Val. Acc: 60.02%\n",
            "Epoch: 14 | Epoch Time: 0m 28s\n",
            "\tTrain Loss: 0.362 | Train Acc: 84.01%\n",
            "\t Val. Loss: 0.949 |  Val. Acc: 59.77%\n",
            "Epoch: 15 | Epoch Time: 0m 28s\n",
            "\tTrain Loss: 0.339 | Train Acc: 84.56%\n",
            "\t Val. Loss: 0.893 |  Val. Acc: 59.62%\n",
            "Epoch: 16 | Epoch Time: 0m 29s\n",
            "\tTrain Loss: 0.319 | Train Acc: 86.10%\n",
            "\t Val. Loss: 1.002 |  Val. Acc: 60.71%\n",
            "Epoch: 17 | Epoch Time: 0m 29s\n",
            "\tTrain Loss: 0.286 | Train Acc: 87.52%\n",
            "\t Val. Loss: 1.145 |  Val. Acc: 59.77%\n",
            "Epoch: 18 | Epoch Time: 0m 28s\n",
            "\tTrain Loss: 0.278 | Train Acc: 88.35%\n",
            "\t Val. Loss: 1.149 |  Val. Acc: 62.00%\n",
            "Epoch: 19 | Epoch Time: 0m 28s\n",
            "\tTrain Loss: 0.271 | Train Acc: 88.07%\n",
            "\t Val. Loss: 1.108 |  Val. Acc: 60.47%\n",
            "Epoch: 20 | Epoch Time: 0m 29s\n",
            "\tTrain Loss: 0.253 | Train Acc: 89.13%\n",
            "\t Val. Loss: 1.186 |  Val. Acc: 59.62%\n"
          ]
        }
      ]
    },
    {
      "cell_type": "code",
      "source": [
        "test_loss, test_acc = evaluate(model, test_iter, criterion)\n",
        "\n",
        "print(f'Test Loss: {test_loss:.3f} | Test Acc: {test_acc*100:.2f}%')"
      ],
      "metadata": {
        "id": "5-Z-Ols0cbiL",
        "colab": {
          "base_uri": "https://localhost:8080/"
        },
        "outputId": "137fdaf9-aef2-43c7-92b0-c723cb8e082d"
      },
      "execution_count": 42,
      "outputs": [
        {
          "output_type": "stream",
          "name": "stdout",
          "text": [
            "Test Loss: 1.170 | Test Acc: 59.38%\n"
          ]
        }
      ]
    },
    {
      "cell_type": "code",
      "source": [
        "import matplotlib.pyplot as plt\n",
        "\n",
        "plt.plot(train_losses_list)"
      ],
      "metadata": {
        "id": "Cc3WNW5GqR48",
        "colab": {
          "base_uri": "https://localhost:8080/",
          "height": 447
        },
        "outputId": "6a104bb9-ed34-4608-ab92-7127d08dfcd2"
      },
      "execution_count": 43,
      "outputs": [
        {
          "output_type": "execute_result",
          "data": {
            "text/plain": [
              "[<matplotlib.lines.Line2D at 0x7f12343413c0>]"
            ]
          },
          "metadata": {},
          "execution_count": 43
        },
        {
          "output_type": "display_data",
          "data": {
            "text/plain": [
              "<Figure size 640x480 with 1 Axes>"
            ],
            "image/png": "[encoded data removed]"
          },
          "metadata": {}
        }
      ]
    },
    {
      "cell_type": "code",
      "source": [
        "plt.plot(valid_losses_list)"
      ],
      "metadata": {
        "colab": {
          "base_uri": "https://localhost:8080/",
          "height": 447
        },
        "id": "2Smeh1Mc2hC9",
        "outputId": "b12dbdf1-1ad1-4aad-b1c8-f42fa61455df"
      },
      "execution_count": 44,
      "outputs": [
        {
          "output_type": "execute_result",
          "data": {
            "text/plain": [
              "[<matplotlib.lines.Line2D at 0x7f12342c5810>]"
            ]
          },
          "metadata": {},
          "execution_count": 44
        },
        {
          "output_type": "display_data",
          "data": {
            "text/plain": [
              "<Figure size 640x480 with 1 Axes>"
            ],
            "image/png": "[encoded data removed]"
          },
          "metadata": {}
        }
      ]
    },
    {
      "cell_type": "code",
      "source": [
        "plt.plot(train_accs)"
      ],
      "metadata": {
        "colab": {
          "base_uri": "https://localhost:8080/",
          "height": 447
        },
        "id": "1VqJIzlq2h8C",
        "outputId": "14de19db-d429-4ebf-b5f1-8a95c03b08f7"
      },
      "execution_count": 45,
      "outputs": [
        {
          "output_type": "execute_result",
          "data": {
            "text/plain": [
              "[<matplotlib.lines.Line2D at 0x7f123412b160>]"
            ]
          },
          "metadata": {},
          "execution_count": 45
        },
        {
          "output_type": "display_data",
          "data": {
            "text/plain": [
              "<Figure size 640x480 with 1 Axes>"
            ],
            "image/png": "[encoded data removed]"
          },
          "metadata": {}
        }
      ]
    },
    {
      "cell_type": "code",
      "source": [
        "plt.plot(valid_accs)"
      ],
      "metadata": {
        "colab": {
          "base_uri": "https://localhost:8080/",
          "height": 447
        },
        "id": "0AVoyywb2nms",
        "outputId": "3d3a796a-cf7a-47c3-83bc-64b8a9b5c09c"
      },
      "execution_count": 46,
      "outputs": [
        {
          "output_type": "execute_result",
          "data": {
            "text/plain": [
              "[<matplotlib.lines.Line2D at 0x7f12341b30a0>]"
            ]
          },
          "metadata": {},
          "execution_count": 46
        },
        {
          "output_type": "display_data",
          "data": {
            "text/plain": [
              "<Figure size 640x480 with 1 Axes>"
            ],
            "image/png": "[encoded data removed]"
          },
          "metadata": {}
        }
      ]
    },
    {
      "cell_type": "code",
      "source": [],
      "metadata": {
        "id": "py5qNtvb2oo0"
      },
      "execution_count": null,
      "outputs": []
    }
  ]
}