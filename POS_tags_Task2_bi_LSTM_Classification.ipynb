{
  "nbformat": 4,
  "nbformat_minor": 0,
  "metadata": {
    "colab": {
      "provenance": [],
      "gpuType": "T4",
      "authorship_tag": "ABX9TyORGSE92KhAQFl/pnlY0pmb",
      "include_colab_link": true
    },
    "kernelspec": {
      "name": "python3",
      "display_name": "Python 3"
    },
    "language_info": {
      "name": "python"
    },
    "accelerator": "GPU",
    "gpuClass": "standard"
  },
  "cells": [
    {
      "cell_type": "markdown",
      "metadata": {
        "id": "view-in-github",
        "colab_type": "text"
      },
      "source": [
        "<a href=\"https://colab.research.google.com/github/ganeshred/NLPAuthorshipAttributionNLM/blob/main/POS_tags_Task2_bi_LSTM_Classification.ipynb\" target=\"_parent\"><img src=\"https://colab.research.google.com/assets/colab-badge.svg\" alt=\"Open In Colab\"/></a>"
      ]
    },
    {
      "cell_type": "code",
      "execution_count": 1,
      "metadata": {
        "colab": {
          "base_uri": "https://localhost:8080/"
        },
        "id": "cpl2phjkfSKG",
        "outputId": "dc14c8ae-0153-46b1-d187-38bd29b5e649"
      },
      "outputs": [
        {
          "output_type": "stream",
          "name": "stdout",
          "text": [
            "Looking in indexes: https://pypi.org/simple, https://us-python.pkg.dev/colab-wheels/public/simple/\n",
            "Collecting torchtext==0.6.0\n",
            "  Downloading torchtext-0.6.0-py3-none-any.whl (64 kB)\n",
            "\u001b[2K     \u001b[90m━━━━━━━━━━━━━━━━━━━━━━━━━━━━━━━━━━━━━━━━\u001b[0m \u001b[32m64.2/64.2 kB\u001b[0m \u001b[31m2.7 MB/s\u001b[0m eta \u001b[36m0:00:00\u001b[0m\n",
            "\u001b[?25hRequirement already satisfied: tqdm in /usr/local/lib/python3.10/dist-packages (from torchtext==0.6.0) (4.65.0)\n",
            "Requirement already satisfied: requests in /usr/local/lib/python3.10/dist-packages (from torchtext==0.6.0) (2.27.1)\n",
            "Requirement already satisfied: torch in /usr/local/lib/python3.10/dist-packages (from torchtext==0.6.0) (2.0.0+cu118)\n",
            "Requirement already satisfied: numpy in /usr/local/lib/python3.10/dist-packages (from torchtext==0.6.0) (1.22.4)\n",
            "Requirement already satisfied: six in /usr/local/lib/python3.10/dist-packages (from torchtext==0.6.0) (1.16.0)\n",
            "Collecting sentencepiece (from torchtext==0.6.0)\n",
            "  Downloading sentencepiece-0.1.99-cp310-cp310-manylinux_2_17_x86_64.manylinux2014_x86_64.whl (1.3 MB)\n",
            "\u001b[2K     \u001b[90m━━━━━━━━━━━━━━━━━━━━━━━━━━━━━━━━━━━━━━━━\u001b[0m \u001b[32m1.3/1.3 MB\u001b[0m \u001b[31m21.8 MB/s\u001b[0m eta \u001b[36m0:00:00\u001b[0m\n",
            "\u001b[?25hRequirement already satisfied: urllib3<1.27,>=1.21.1 in /usr/local/lib/python3.10/dist-packages (from requests->torchtext==0.6.0) (1.26.15)\n",
            "Requirement already satisfied: certifi>=2017.4.17 in /usr/local/lib/python3.10/dist-packages (from requests->torchtext==0.6.0) (2022.12.7)\n",
            "Requirement already satisfied: charset-normalizer~=2.0.0 in /usr/local/lib/python3.10/dist-packages (from requests->torchtext==0.6.0) (2.0.12)\n",
            "Requirement already satisfied: idna<4,>=2.5 in /usr/local/lib/python3.10/dist-packages (from requests->torchtext==0.6.0) (3.4)\n",
            "Requirement already satisfied: filelock in /usr/local/lib/python3.10/dist-packages (from torch->torchtext==0.6.0) (3.12.0)\n",
            "Requirement already satisfied: typing-extensions in /usr/local/lib/python3.10/dist-packages (from torch->torchtext==0.6.0) (4.5.0)\n",
            "Requirement already satisfied: sympy in /usr/local/lib/python3.10/dist-packages (from torch->torchtext==0.6.0) (1.11.1)\n",
            "Requirement already satisfied: networkx in /usr/local/lib/python3.10/dist-packages (from torch->torchtext==0.6.0) (3.1)\n",
            "Requirement already satisfied: jinja2 in /usr/local/lib/python3.10/dist-packages (from torch->torchtext==0.6.0) (3.1.2)\n",
            "Requirement already satisfied: triton==2.0.0 in /usr/local/lib/python3.10/dist-packages (from torch->torchtext==0.6.0) (2.0.0)\n",
            "Requirement already satisfied: cmake in /usr/local/lib/python3.10/dist-packages (from triton==2.0.0->torch->torchtext==0.6.0) (3.25.2)\n",
            "Requirement already satisfied: lit in /usr/local/lib/python3.10/dist-packages (from triton==2.0.0->torch->torchtext==0.6.0) (16.0.3)\n",
            "Requirement already satisfied: MarkupSafe>=2.0 in /usr/local/lib/python3.10/dist-packages (from jinja2->torch->torchtext==0.6.0) (2.1.2)\n",
            "Requirement already satisfied: mpmath>=0.19 in /usr/local/lib/python3.10/dist-packages (from sympy->torch->torchtext==0.6.0) (1.3.0)\n",
            "Installing collected packages: sentencepiece, torchtext\n",
            "  Attempting uninstall: torchtext\n",
            "    Found existing installation: torchtext 0.15.1\n",
            "    Uninstalling torchtext-0.15.1:\n",
            "      Successfully uninstalled torchtext-0.15.1\n",
            "Successfully installed sentencepiece-0.1.99 torchtext-0.6.0\n"
          ]
        }
      ],
      "source": [
        "!pip install torchtext==0.6.0"
      ]
    },
    {
      "cell_type": "code",
      "source": [
        "from google.colab import drive\n",
        "drive.mount('/content/gdrive')"
      ],
      "metadata": {
        "colab": {
          "base_uri": "https://localhost:8080/"
        },
        "id": "gylVe3ozfUAh",
        "outputId": "ddebabd7-4f50-4dcb-fa8e-7deab4519303"
      },
      "execution_count": 2,
      "outputs": [
        {
          "output_type": "stream",
          "name": "stdout",
          "text": [
            "Mounted at /content/gdrive\n"
          ]
        }
      ]
    },
    {
      "cell_type": "code",
      "source": [
        "import pandas as pd"
      ],
      "metadata": {
        "id": "ze-cAYbYfWQJ"
      },
      "execution_count": 3,
      "outputs": []
    },
    {
      "cell_type": "code",
      "source": [
        "df = pd.read_csv('/content/gdrive/MyDrive/balanced_task2.csv')"
      ],
      "metadata": {
        "id": "vqjTSmsvfbRD"
      },
      "execution_count": 4,
      "outputs": []
    },
    {
      "cell_type": "code",
      "source": [
        "df.head()"
      ],
      "metadata": {
        "colab": {
          "base_uri": "https://localhost:8080/",
          "height": 206
        },
        "id": "jrNehKW1f0MH",
        "outputId": "17daabb4-58dc-43c8-96ae-28c45d32e026"
      },
      "execution_count": 5,
      "outputs": [
        {
          "output_type": "execute_result",
          "data": {
            "text/plain": [
              "   Unnamed: 0                                               text  class\n",
              "0         664  Netanyahu barely scratches out a victory in Is...      0\n",
              "1          61  In \"Hunters,\" the premiere episode of a new se...      0\n",
              "2         518  . cricket ice cream is a luxury ice cream made...      0\n",
              "3         248  Graciela Iturbide was born in Mexico City in 1...      0\n",
              "4         435  A new study from the University of Rochester d...      0"
            ],
            "text/html": [
              "\n",
              "  <div id=\"df-6a8ef42b-0a15-4b77-a400-376294b7c762\">\n",
              "    <div class=\"colab-df-container\">\n",
              "      <div>\n",
              "<style scoped>\n",
              "    .dataframe tbody tr th:only-of-type {\n",
              "        vertical-align: middle;\n",
              "    }\n",
              "\n",
              "    .dataframe tbody tr th {\n",
              "        vertical-align: top;\n",
              "    }\n",
              "\n",
              "    .dataframe thead th {\n",
              "        text-align: right;\n",
              "    }\n",
              "</style>\n",
              "<table border=\"1\" class=\"dataframe\">\n",
              "  <thead>\n",
              "    <tr style=\"text-align: right;\">\n",
              "      <th></th>\n",
              "      <th>Unnamed: 0</th>\n",
              "      <th>text</th>\n",
              "      <th>class</th>\n",
              "    </tr>\n",
              "  </thead>\n",
              "  <tbody>\n",
              "    <tr>\n",
              "      <th>0</th>\n",
              "      <td>664</td>\n",
              "      <td>Netanyahu barely scratches out a victory in Is...</td>\n",
              "      <td>0</td>\n",
              "    </tr>\n",
              "    <tr>\n",
              "      <th>1</th>\n",
              "      <td>61</td>\n",
              "      <td>In \"Hunters,\" the premiere episode of a new se...</td>\n",
              "      <td>0</td>\n",
              "    </tr>\n",
              "    <tr>\n",
              "      <th>2</th>\n",
              "      <td>518</td>\n",
              "      <td>. cricket ice cream is a luxury ice cream made...</td>\n",
              "      <td>0</td>\n",
              "    </tr>\n",
              "    <tr>\n",
              "      <th>3</th>\n",
              "      <td>248</td>\n",
              "      <td>Graciela Iturbide was born in Mexico City in 1...</td>\n",
              "      <td>0</td>\n",
              "    </tr>\n",
              "    <tr>\n",
              "      <th>4</th>\n",
              "      <td>435</td>\n",
              "      <td>A new study from the University of Rochester d...</td>\n",
              "      <td>0</td>\n",
              "    </tr>\n",
              "  </tbody>\n",
              "</table>\n",
              "</div>\n",
              "      <button class=\"colab-df-convert\" onclick=\"convertToInteractive('df-6a8ef42b-0a15-4b77-a400-376294b7c762')\"\n",
              "              title=\"Convert this dataframe to an interactive table.\"\n",
              "              style=\"display:none;\">\n",
              "        \n",
              "  <svg xmlns=\"http://www.w3.org/2000/svg\" height=\"24px\"viewBox=\"0 0 24 24\"\n",
              "       width=\"24px\">\n",
              "    <path d=\"M0 0h24v24H0V0z\" fill=\"none\"/>\n",
              "    <path d=\"M18.56 5.44l.94 2.06.94-2.06 2.06-.94-2.06-.94-.94-2.06-.94 2.06-2.06.94zm-11 1L8.5 8.5l.94-2.06 2.06-.94-2.06-.94L8.5 2.5l-.94 2.06-2.06.94zm10 10l.94 2.06.94-2.06 2.06-.94-2.06-.94-.94-2.06-.94 2.06-2.06.94z\"/><path d=\"M17.41 7.96l-1.37-1.37c-.4-.4-.92-.59-1.43-.59-.52 0-1.04.2-1.43.59L10.3 9.45l-7.72 7.72c-.78.78-.78 2.05 0 2.83L4 21.41c.39.39.9.59 1.41.59.51 0 1.02-.2 1.41-.59l7.78-7.78 2.81-2.81c.8-.78.8-2.07 0-2.86zM5.41 20L4 18.59l7.72-7.72 1.47 1.35L5.41 20z\"/>\n",
              "  </svg>\n",
              "      </button>\n",
              "      \n",
              "  <style>\n",
              "    .colab-df-container {\n",
              "      display:flex;\n",
              "      flex-wrap:wrap;\n",
              "      gap: 12px;\n",
              "    }\n",
              "\n",
              "    .colab-df-convert {\n",
              "      background-color: #E8F0FE;\n",
              "      border: none;\n",
              "      border-radius: 50%;\n",
              "      cursor: pointer;\n",
              "      display: none;\n",
              "      fill: #1967D2;\n",
              "      height: 32px;\n",
              "      padding: 0 0 0 0;\n",
              "      width: 32px;\n",
              "    }\n",
              "\n",
              "    .colab-df-convert:hover {\n",
              "      background-color: #E2EBFA;\n",
              "      box-shadow: 0px 1px 2px rgba(60, 64, 67, 0.3), 0px 1px 3px 1px rgba(60, 64, 67, 0.15);\n",
              "      fill: #174EA6;\n",
              "    }\n",
              "\n",
              "    [theme=dark] .colab-df-convert {\n",
              "      background-color: #3B4455;\n",
              "      fill: #D2E3FC;\n",
              "    }\n",
              "\n",
              "    [theme=dark] .colab-df-convert:hover {\n",
              "      background-color: #434B5C;\n",
              "      box-shadow: 0px 1px 3px 1px rgba(0, 0, 0, 0.15);\n",
              "      filter: drop-shadow(0px 1px 2px rgba(0, 0, 0, 0.3));\n",
              "      fill: #FFFFFF;\n",
              "    }\n",
              "  </style>\n",
              "\n",
              "      <script>\n",
              "        const buttonEl =\n",
              "          document.querySelector('#df-6a8ef42b-0a15-4b77-a400-376294b7c762 button.colab-df-convert');\n",
              "        buttonEl.style.display =\n",
              "          google.colab.kernel.accessAllowed ? 'block' : 'none';\n",
              "\n",
              "        async function convertToInteractive(key) {\n",
              "          const element = document.querySelector('#df-6a8ef42b-0a15-4b77-a400-376294b7c762');\n",
              "          const dataTable =\n",
              "            await google.colab.kernel.invokeFunction('convertToInteractive',\n",
              "                                                     [key], {});\n",
              "          if (!dataTable) return;\n",
              "\n",
              "          const docLinkHtml = 'Like what you see? Visit the ' +\n",
              "            '<a target=\"_blank\" href=https://colab.research.google.com/notebooks/data_table.ipynb>data table notebook</a>'\n",
              "            + ' to learn more about interactive tables.';\n",
              "          element.innerHTML = '';\n",
              "          dataTable['output_type'] = 'display_data';\n",
              "          await google.colab.output.renderOutput(dataTable, element);\n",
              "          const docLink = document.createElement('div');\n",
              "          docLink.innerHTML = docLinkHtml;\n",
              "          element.appendChild(docLink);\n",
              "        }\n",
              "      </script>\n",
              "    </div>\n",
              "  </div>\n",
              "  "
            ]
          },
          "metadata": {},
          "execution_count": 5
        }
      ]
    },
    {
      "cell_type": "code",
      "source": [
        "import nltk\n",
        "from nltk.tokenize import word_tokenize\n",
        "\n",
        "# Example texts\n",
        "texts = df['text']\n",
        "\n",
        "# Example labels\n",
        "labels = df['class']\n",
        "\n"
      ],
      "metadata": {
        "id": "M4yOfdxgfeNn"
      },
      "execution_count": 6,
      "outputs": []
    },
    {
      "cell_type": "code",
      "source": [
        "nltk.download('punkt')\n",
        "nltk.download('averaged_perceptron_tagger')"
      ],
      "metadata": {
        "colab": {
          "base_uri": "https://localhost:8080/"
        },
        "id": "orBrbhWqgAr3",
        "outputId": "ac048648-c19c-4f25-f9b4-8700a90f8b32"
      },
      "execution_count": 7,
      "outputs": [
        {
          "output_type": "stream",
          "name": "stderr",
          "text": [
            "[nltk_data] Downloading package punkt to /root/nltk_data...\n",
            "[nltk_data]   Unzipping tokenizers/punkt.zip.\n",
            "[nltk_data] Downloading package averaged_perceptron_tagger to\n",
            "[nltk_data]     /root/nltk_data...\n",
            "[nltk_data]   Unzipping taggers/averaged_perceptron_tagger.zip.\n"
          ]
        },
        {
          "output_type": "execute_result",
          "data": {
            "text/plain": [
              "True"
            ]
          },
          "metadata": {},
          "execution_count": 7
        }
      ]
    },
    {
      "cell_type": "code",
      "source": [
        "import nltk\n",
        "from nltk.tokenize import word_tokenize\n",
        "\n",
        "pos_tagged_texts = []\n",
        "for i in range(len(texts)):\n",
        "    text = texts[i]\n",
        "    label = labels[i]\n",
        "    if text is not None and not isinstance(text, float): # make sure text is not None or NaN\n",
        "      tokens = word_tokenize(text)\n",
        "      pos_tags = nltk.pos_tag(tokens)\n",
        "      pos_tagged_text = [(word, pos) for (word, pos) in pos_tags]\n",
        "      pos_tagged_texts.append((pos_tagged_text, label))\n"
      ],
      "metadata": {
        "id": "EYvnhsZsfzGL"
      },
      "execution_count": 8,
      "outputs": []
    },
    {
      "cell_type": "code",
      "source": [
        "pos_tagged_texts[0]"
      ],
      "metadata": {
        "colab": {
          "base_uri": "https://localhost:8080/"
        },
        "id": "3G0qxnJcgg2r",
        "outputId": "9d6ff9f1-cc21-4a43-def8-81549c3f7321"
      },
      "execution_count": 9,
      "outputs": [
        {
          "output_type": "execute_result",
          "data": {
            "text/plain": [
              "([('Netanyahu', 'NNP'),\n",
              "  ('barely', 'RB'),\n",
              "  ('scratches', 'VBZ'),\n",
              "  ('out', 'RP'),\n",
              "  ('a', 'DT'),\n",
              "  ('victory', 'NN'),\n",
              "  ('in', 'IN'),\n",
              "  ('Israeli', 'NNP'),\n",
              "  ('elections', 'NNS')],\n",
              " 0)"
            ]
          },
          "metadata": {},
          "execution_count": 9
        }
      ]
    },
    {
      "cell_type": "code",
      "source": [
        "import torch\n",
        "import torch.nn as nn\n",
        "import torch.optim as optim\n",
        "from torch.utils.data import Dataset, DataLoader\n",
        "\n",
        "\n",
        "\n",
        "\n",
        "class POSTaggedTextDataset(Dataset):\n",
        "    def __init__(self, pos_tagged_texts, pos_to_index, label_to_index):\n",
        "        self.pos_tagged_texts = pos_tagged_texts\n",
        "        self.pos_to_index = pos_to_index\n",
        "        self.label_to_index = label_to_index\n",
        "        \n",
        "    def __len__(self):\n",
        "        return len(self.pos_tagged_texts)\n",
        "    \n",
        "    def __getitem__(self, index):\n",
        "        text, label = self.pos_tagged_texts[index]\n",
        "        pos_indices = [self.pos_to_index[pos] for word, pos in text]\n",
        "        label_index = self.label_to_index[label]\n",
        "        return torch.LongTensor(pos_indices), torch.LongTensor([label_index])\n"
      ],
      "metadata": {
        "id": "PzIM8TIiiIvK"
      },
      "execution_count": 10,
      "outputs": []
    },
    {
      "cell_type": "code",
      "source": [
        "pos_to_index = {pos: i for i, pos in enumerate(set([pos for text, label in pos_tagged_texts for word, pos in text]))}\n",
        "label_to_index = {label: i for i, label in enumerate(set([label for text, label in pos_tagged_texts]))}"
      ],
      "metadata": {
        "id": "lKFVyWVPidz2"
      },
      "execution_count": 11,
      "outputs": []
    },
    {
      "cell_type": "code",
      "source": [
        "pos_to_index"
      ],
      "metadata": {
        "colab": {
          "base_uri": "https://localhost:8080/"
        },
        "id": "tzRYX49FjC44",
        "outputId": "9708578a-d8ad-4b73-da93-0ba9919b9991"
      },
      "execution_count": 12,
      "outputs": [
        {
          "output_type": "execute_result",
          "data": {
            "text/plain": [
              "{'RBS': 0,\n",
              " 'VBN': 1,\n",
              " 'VBG': 2,\n",
              " 'JJR': 3,\n",
              " ':': 4,\n",
              " 'JJS': 5,\n",
              " 'TO': 6,\n",
              " 'RBR': 7,\n",
              " 'VBD': 8,\n",
              " 'MD': 9,\n",
              " ',': 10,\n",
              " '(': 11,\n",
              " 'DT': 12,\n",
              " 'NNPS': 13,\n",
              " 'NN': 14,\n",
              " 'VB': 15,\n",
              " '#': 16,\n",
              " ')': 17,\n",
              " 'PRP$': 18,\n",
              " 'WP': 19,\n",
              " 'CC': 20,\n",
              " 'SYM': 21,\n",
              " 'EX': 22,\n",
              " 'WDT': 23,\n",
              " 'RP': 24,\n",
              " 'WRB': 25,\n",
              " 'VBZ': 26,\n",
              " 'NNS': 27,\n",
              " 'PRP': 28,\n",
              " 'IN': 29,\n",
              " 'VBP': 30,\n",
              " \"''\": 31,\n",
              " 'JJ': 32,\n",
              " 'POS': 33,\n",
              " 'FW': 34,\n",
              " 'PDT': 35,\n",
              " '.': 36,\n",
              " 'RB': 37,\n",
              " 'CD': 38,\n",
              " 'UH': 39,\n",
              " 'WP$': 40,\n",
              " '$': 41,\n",
              " '``': 42,\n",
              " 'NNP': 43}"
            ]
          },
          "metadata": {},
          "execution_count": 12
        }
      ]
    },
    {
      "cell_type": "code",
      "source": [
        "label_to_index"
      ],
      "metadata": {
        "colab": {
          "base_uri": "https://localhost:8080/"
        },
        "id": "oQd4O5FMjEw_",
        "outputId": "6c313b20-9b82-4ffe-ece0-1a1cdf95dea5"
      },
      "execution_count": 13,
      "outputs": [
        {
          "output_type": "execute_result",
          "data": {
            "text/plain": [
              "{0: 0, 1: 1}"
            ]
          },
          "metadata": {},
          "execution_count": 13
        }
      ]
    },
    {
      "cell_type": "code",
      "source": [
        "from torch.nn.utils.rnn import pad_sequence\n",
        "\n",
        "def collate_fn(batch):\n",
        "    pos_indices = [torch.tensor(sample[0], dtype=torch.long) for sample in batch]\n",
        "    pos_indices_padded = pad_sequence(pos_indices, batch_first=True, padding_value=0)\n",
        "    labels = torch.tensor([sample[1] for sample in batch], dtype=torch.long)\n",
        "    return pos_indices_padded, labels\n"
      ],
      "metadata": {
        "id": "7OXgMbm3lLUT"
      },
      "execution_count": 14,
      "outputs": []
    },
    {
      "cell_type": "code",
      "source": [
        "dataset = POSTaggedTextDataset(pos_tagged_texts, pos_to_index, label_to_index)\n",
        "dataloader = DataLoader(dataset, batch_size=32, shuffle=True, collate_fn=collate_fn)"
      ],
      "metadata": {
        "id": "_f14lSLGjIOm"
      },
      "execution_count": 15,
      "outputs": []
    },
    {
      "cell_type": "code",
      "source": [
        "# class POSBiLSTM(nn.Module):\n",
        "#     def __init__(self, num_pos_tags, num_labels, hidden_size, num_layers):\n",
        "#         super(POSBiLSTM, self).__init__()\n",
        "#         self.embedding = nn.Embedding(num_pos_tags, hidden_size)\n",
        "#         self.lstm = nn.LSTM(hidden_size, hidden_size, num_layers=num_layers, bidirectional=True)\n",
        "#         self.fc = nn.Linear(hidden_size*2, num_labels)\n",
        "        \n",
        "#     def forward(self, pos_indices):\n",
        "#         x = self.embedding(pos_indices).permute(1, 0, 2) # shape: (seq_len, batch_size, hidden_size)\n",
        "\n",
        "#         # h_n = h_n.permute(1, 0, 2)\n",
        "#         # h_n = torch.cat([h_n[-1,:,:self.lstm.hidden_size], h_n[0,:,self.lstm.hidden_size:]], dim=-1) # shape: (batch_size, hidden_size*2)\n",
        "\n",
        "#         _, (h_n, _) = self.lstm(x) # h_n has shape (num_layers * num_directions, batch_size, hidden_size)\n",
        "#         h_n = h_n.permute(1, 0, 2).reshape(-1, self.lstm.hidden_size*2) # shape: (batch_size, hidden_size*2)\n",
        "#         print(h_n.size())\n",
        "#         out = self.fc(h_n) # shape: (batch_size, num_labels)\n",
        "#         print(out.size())\n",
        "#         return out\n",
        "\n",
        "\n",
        "class POSBiLSTM(nn.Module):\n",
        "    def __init__(self, num_pos_tags, num_labels, hidden_size, num_layers):\n",
        "        super(POSBiLSTM, self).__init__()\n",
        "        self.embedding = nn.Embedding(num_pos_tags, hidden_size)\n",
        "        self.lstm = nn.LSTM(hidden_size, hidden_size, num_layers=num_layers, bidirectional=True)\n",
        "        self.fc = nn.Linear(hidden_size*2, num_labels)\n",
        "        \n",
        "    def forward(self, pos_indices):\n",
        "        x = self.embedding(pos_indices).permute(1, 0, 2) # shape: (seq_len, batch_size, hidden_size)\n",
        "        lstm_out, _ = self.lstm(x) # lstm_out has shape (seq_len, batch_size, hidden_size*num_directions)\n",
        "        last_hidden_state = self.get_last_hidden_state(lstm_out)\n",
        "        out = self.fc(last_hidden_state) # shape: (batch_size, num_labels)\n",
        "        return out\n",
        "    \n",
        "    def get_last_hidden_state(self, lstm_out):\n",
        "        # Extract the last hidden state of the LSTM\n",
        "        last_hidden_state_fw = lstm_out[-1, :, :self.lstm.hidden_size]\n",
        "        last_hidden_state_bw = lstm_out[0, :, self.lstm.hidden_size:]\n",
        "        last_hidden_state = torch.cat((last_hidden_state_fw, last_hidden_state_bw), dim=-1)\n",
        "        return last_hidden_state\n",
        "\n"
      ],
      "metadata": {
        "id": "jiBVfG5njNGD"
      },
      "execution_count": 16,
      "outputs": []
    },
    {
      "cell_type": "code",
      "source": [
        "num_pos_tags = len(pos_to_index)\n",
        "num_labels = len(label_to_index)\n",
        "hidden_size = 128\n",
        "num_layers = 2\n",
        "model = POSBiLSTM(num_pos_tags, num_labels, hidden_size, num_layers)\n",
        "\n",
        "# Define the loss function and optimizer\n",
        "criterion = nn.CrossEntropyLoss()\n",
        "optimizer = optim.Adam(model.parameters())\n",
        "\n"
      ],
      "metadata": {
        "id": "2bLIeZZFjjhQ"
      },
      "execution_count": 17,
      "outputs": []
    },
    {
      "cell_type": "code",
      "source": [
        "# Train function\n",
        "def train(model, dataloader, optimizer, criterion, device):\n",
        "    model.train()\n",
        "    running_loss = 0.0\n",
        "    for pos_indices, labels in dataloader:\n",
        "        pos_indices, labels = pos_indices.to(device), labels.to(device)\n",
        "        # print(pos_indices.size())\n",
        "        optimizer.zero_grad()\n",
        "        outputs = model(pos_indices)\n",
        "        # print(outputs.size())\n",
        "        # print(labels.size())\n",
        "        loss = criterion(outputs, labels.squeeze())\n",
        "        loss.backward()\n",
        "        optimizer.step()\n",
        "        running_loss += loss.item()\n",
        "    return running_loss / len(dataloader)\n",
        "\n",
        "# Evaluate function\n",
        "def evaluate(model, dataloader, device):\n",
        "    model.eval()\n",
        "    num_correct = 0\n",
        "    num_total = 0\n",
        "    with torch.no_grad():\n",
        "        for pos_indices, labels in dataloader:\n",
        "            pos_indices, labels = pos_indices.to(device), labels.to(device)\n",
        "            outputs = model(pos_indices)\n",
        "            _, predicted = torch.max(outputs.data, 1)\n",
        "            num_correct += (predicted == labels.squeeze()).sum().item()\n",
        "            num_total += pos_indices.size(0)\n",
        "    return num_correct / num_total\n"
      ],
      "metadata": {
        "id": "M6-L9BCJjoR3"
      },
      "execution_count": 18,
      "outputs": []
    },
    {
      "cell_type": "code",
      "source": [
        "# Split the dataset into training and validation sets\n",
        "train_size = int(0.8 * len(dataset))\n",
        "val_size = len(dataset) - train_size\n",
        "train_dataset, val_dataset = torch.utils.data.random_split(dataset, [train_size, val_size])\n",
        "\n",
        "# Create data loaders for training and validation sets\n",
        "batch_size = 32\n",
        "train_dataloader = DataLoader(train_dataset, batch_size=batch_size, shuffle=True,collate_fn=collate_fn)\n",
        "val_dataloader = DataLoader(val_dataset, batch_size=batch_size,collate_fn=collate_fn)\n"
      ],
      "metadata": {
        "id": "5kgHH85qkuDu"
      },
      "execution_count": 19,
      "outputs": []
    },
    {
      "cell_type": "code",
      "source": [
        "# Train the model\n",
        "num_epochs = 10\n",
        "device = torch.device(\"cuda\" if torch.cuda.is_available() else \"cpu\")\n",
        "model.to(device)\n",
        "for epoch in range(num_epochs):\n",
        "    train_loss = train(model, train_dataloader, optimizer, criterion, device)\n",
        "    val_acc = evaluate(model, val_dataloader, device)\n",
        "    print(\"Epoch {}/{} - Train Loss: {:.4f} - Val Acc: {:.4f}\".format(epoch+1, num_epochs, train_loss, val_acc))\n"
      ],
      "metadata": {
        "colab": {
          "base_uri": "https://localhost:8080/"
        },
        "id": "VKEIfA5MkTdl",
        "outputId": "4e3a39e0-4604-4041-8ba8-02ea95b8a730"
      },
      "execution_count": 20,
      "outputs": [
        {
          "output_type": "stream",
          "name": "stderr",
          "text": [
            "<ipython-input-14-3543d5b4b178>:4: UserWarning: To copy construct from a tensor, it is recommended to use sourceTensor.clone().detach() or sourceTensor.clone().detach().requires_grad_(True), rather than torch.tensor(sourceTensor).\n",
            "  pos_indices = [torch.tensor(sample[0], dtype=torch.long) for sample in batch]\n"
          ]
        },
        {
          "output_type": "stream",
          "name": "stdout",
          "text": [
            "Epoch 1/10 - Train Loss: 0.5727 - Val Acc: 0.8056\n",
            "Epoch 2/10 - Train Loss: 0.4555 - Val Acc: 0.8080\n",
            "Epoch 3/10 - Train Loss: 0.3853 - Val Acc: 0.8525\n",
            "Epoch 4/10 - Train Loss: 0.3333 - Val Acc: 0.8642\n",
            "Epoch 5/10 - Train Loss: 0.2870 - Val Acc: 0.8806\n",
            "Epoch 6/10 - Train Loss: 0.2539 - Val Acc: 0.8852\n",
            "Epoch 7/10 - Train Loss: 0.2176 - Val Acc: 0.8595\n",
            "Epoch 8/10 - Train Loss: 0.1882 - Val Acc: 0.8642\n",
            "Epoch 9/10 - Train Loss: 0.1665 - Val Acc: 0.8571\n",
            "Epoch 10/10 - Train Loss: 0.1734 - Val Acc: 0.8525\n"
          ]
        }
      ]
    },
    {
      "cell_type": "code",
      "source": [],
      "metadata": {
        "id": "2Xx9NDK8kxPq"
      },
      "execution_count": 20,
      "outputs": []
    }
  ]
}