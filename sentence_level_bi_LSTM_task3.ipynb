{
  "nbformat": 4,
  "nbformat_minor": 0,
  "metadata": {
    "colab": {
      "provenance": [],
      "authorship_tag": "ABX9TyPiTuD+IbgXyZxZa4oNSPmU",
      "include_colab_link": true
    },
    "kernelspec": {
      "name": "python3",
      "display_name": "Python 3"
    },
    "language_info": {
      "name": "python"
    },
    "gpuClass": "standard"
  },
  "cells": [
    {
      "cell_type": "markdown",
      "metadata": {
        "id": "view-in-github",
        "colab_type": "text"
      },
      "source": [
        "<a href=\"https://colab.research.google.com/github/ganeshred/NLPAuthorshipAttributionNLM/blob/main/sentence_level_bi_LSTM_task3.ipynb\" target=\"_parent\"><img src=\"https://colab.research.google.com/assets/colab-badge.svg\" alt=\"Open In Colab\"/></a>"
      ]
    },
    {
      "cell_type": "code",
      "source": [
        "!pip install torchtext==0.6.0"
      ],
      "metadata": {
        "colab": {
          "base_uri": "https://localhost:8080/"
        },
        "id": "5G4Pj56oNRv0",
        "outputId": "8389e755-f62f-4de5-ab3d-0151d781104b"
      },
      "execution_count": 65,
      "outputs": [
        {
          "output_type": "stream",
          "name": "stdout",
          "text": [
            "Looking in indexes: https://pypi.org/simple, https://us-python.pkg.dev/colab-wheels/public/simple/\n",
            "Requirement already satisfied: torchtext==0.6.0 in /usr/local/lib/python3.10/dist-packages (0.6.0)\n",
            "Requirement already satisfied: requests in /usr/local/lib/python3.10/dist-packages (from torchtext==0.6.0) (2.27.1)\n",
            "Requirement already satisfied: torch in /usr/local/lib/python3.10/dist-packages (from torchtext==0.6.0) (2.0.0+cu118)\n",
            "Requirement already satisfied: sentencepiece in /usr/local/lib/python3.10/dist-packages (from torchtext==0.6.0) (0.1.99)\n",
            "Requirement already satisfied: tqdm in /usr/local/lib/python3.10/dist-packages (from torchtext==0.6.0) (4.65.0)\n",
            "Requirement already satisfied: numpy in /usr/local/lib/python3.10/dist-packages (from torchtext==0.6.0) (1.22.4)\n",
            "Requirement already satisfied: six in /usr/local/lib/python3.10/dist-packages (from torchtext==0.6.0) (1.16.0)\n",
            "Requirement already satisfied: idna<4,>=2.5 in /usr/local/lib/python3.10/dist-packages (from requests->torchtext==0.6.0) (3.4)\n",
            "Requirement already satisfied: certifi>=2017.4.17 in /usr/local/lib/python3.10/dist-packages (from requests->torchtext==0.6.0) (2022.12.7)\n",
            "Requirement already satisfied: urllib3<1.27,>=1.21.1 in /usr/local/lib/python3.10/dist-packages (from requests->torchtext==0.6.0) (1.26.15)\n",
            "Requirement already satisfied: charset-normalizer~=2.0.0 in /usr/local/lib/python3.10/dist-packages (from requests->torchtext==0.6.0) (2.0.12)\n",
            "Requirement already satisfied: networkx in /usr/local/lib/python3.10/dist-packages (from torch->torchtext==0.6.0) (3.1)\n",
            "Requirement already satisfied: filelock in /usr/local/lib/python3.10/dist-packages (from torch->torchtext==0.6.0) (3.12.0)\n",
            "Requirement already satisfied: sympy in /usr/local/lib/python3.10/dist-packages (from torch->torchtext==0.6.0) (1.11.1)\n",
            "Requirement already satisfied: typing-extensions in /usr/local/lib/python3.10/dist-packages (from torch->torchtext==0.6.0) (4.5.0)\n",
            "Requirement already satisfied: jinja2 in /usr/local/lib/python3.10/dist-packages (from torch->torchtext==0.6.0) (3.1.2)\n",
            "Requirement already satisfied: triton==2.0.0 in /usr/local/lib/python3.10/dist-packages (from torch->torchtext==0.6.0) (2.0.0)\n",
            "Requirement already satisfied: lit in /usr/local/lib/python3.10/dist-packages (from triton==2.0.0->torch->torchtext==0.6.0) (16.0.2)\n",
            "Requirement already satisfied: cmake in /usr/local/lib/python3.10/dist-packages (from triton==2.0.0->torch->torchtext==0.6.0) (3.25.2)\n",
            "Requirement already satisfied: MarkupSafe>=2.0 in /usr/local/lib/python3.10/dist-packages (from jinja2->torch->torchtext==0.6.0) (2.1.2)\n",
            "Requirement already satisfied: mpmath>=0.19 in /usr/local/lib/python3.10/dist-packages (from sympy->torch->torchtext==0.6.0) (1.3.0)\n"
          ]
        }
      ]
    },
    {
      "cell_type": "code",
      "source": [
        "import os\n",
        "os.environ['CUDA_LAUNCH_BLOCKING'] = '1'\n"
      ],
      "metadata": {
        "id": "mVdKsozD-ABs"
      },
      "execution_count": 66,
      "outputs": []
    },
    {
      "cell_type": "code",
      "source": [
        "from google.colab import drive\n",
        "drive.mount('/content/gdrive')"
      ],
      "metadata": {
        "colab": {
          "base_uri": "https://localhost:8080/"
        },
        "id": "CerFcqhYNeo5",
        "outputId": "5c56899f-1dc6-4a5e-ac7b-0a764bcffb7b"
      },
      "execution_count": 67,
      "outputs": [
        {
          "output_type": "stream",
          "name": "stdout",
          "text": [
            "Drive already mounted at /content/gdrive; to attempt to forcibly remount, call drive.mount(\"/content/gdrive\", force_remount=True).\n"
          ]
        }
      ]
    },
    {
      "cell_type": "code",
      "source": [
        "import torch\n",
        "from torchtext import data\n",
        "from torchtext import datasets\n",
        "\n",
        "SEED = 1234\n",
        "\n",
        "torch.manual_seed(SEED)\n",
        "torch.backends.cudnn.deterministic = True\n",
        "\n",
        "TEXT = data.Field(tokenize = 'spacy', tokenizer_language='en_core_web_sm', include_lengths = True)\n",
        "LABEL = data.LabelField(dtype = torch.float)"
      ],
      "metadata": {
        "id": "2f31E7biNer0"
      },
      "execution_count": 68,
      "outputs": []
    },
    {
      "cell_type": "code",
      "source": [
        "import pandas as pd"
      ],
      "metadata": {
        "id": "869PvF4WNeuv"
      },
      "execution_count": 69,
      "outputs": []
    },
    {
      "cell_type": "code",
      "source": [
        "df = pd.read_csv('/content/gdrive/MyDrive/Task3.csv')"
      ],
      "metadata": {
        "id": "6n41G-m4Nexk"
      },
      "execution_count": 70,
      "outputs": []
    },
    {
      "cell_type": "code",
      "source": [],
      "metadata": {
        "id": "kmj6-xRwslY8"
      },
      "execution_count": 70,
      "outputs": []
    },
    {
      "cell_type": "code",
      "source": [
        "ctrl_df = pd.read_csv('/content/gdrive/MyDrive/NLP/new_ctrl.csv')\n",
        "fair_df = pd.read_csv('/content/gdrive/MyDrive/NLP/new_fair.csv')\n",
        "gpt_df = pd.read_csv('/content/gdrive/MyDrive/NLP/new_gpt.csv')\n",
        "gpt2_df = pd.read_csv('/content/gdrive/MyDrive/NLP/new_gpt2.csv')\n",
        "grover_df = pd.read_csv('/content/gdrive/MyDrive/NLP/new_grover.csv')\n",
        "human_df = pd.read_csv('/content/gdrive/MyDrive/NLP/new_human.csv')\n",
        "pplm_df = pd.read_csv('/content/gdrive/MyDrive/NLP/new_pplm.csv')\n",
        "xlm_df = pd.read_csv('/content/gdrive/MyDrive/NLP/new_xlm.csv')\n",
        "xlnet_df = pd.read_csv('/content/gdrive/MyDrive/NLP/new_xlnet.csv')\n",
        "instruct_df = pd.read_csv('/content/gdrive/MyDrive/NLP/instruct.csv')\n",
        "gpt3_df = pd.read_csv('/content/gdrive/MyDrive/NLP/gpt3.csv')"
      ],
      "metadata": {
        "id": "M8ifmQe8slbw"
      },
      "execution_count": 71,
      "outputs": []
    },
    {
      "cell_type": "code",
      "source": [
        "ctrl_df = ctrl_df[['Generation','label']]\n",
        "fair_df = fair_df[['Generation','label']]\n",
        "gpt_df = gpt_df[['Generation','label']]\n",
        "gpt3_df = gpt3_df[['Generation','label']]\n",
        "gpt2_df = gpt2_df[['Generation','label']]\n",
        "grover_df = grover_df[['Generation','label']]\n",
        "human_df = human_df[['Generation','label']]\n",
        "pplm_df = pplm_df[['Generation','label']]\n",
        "xlm_df = xlm_df[['Generation','label']]\n",
        "xlnet_df = xlnet_df[['Generation','label']]\n",
        "instruct_df = instruct_df[['Generation','label']]\n"
      ],
      "metadata": {
        "id": "pEVbWXJN1Q3H"
      },
      "execution_count": 72,
      "outputs": []
    },
    {
      "cell_type": "code",
      "source": [
        "combined_df = pd.concat([ctrl_df,fair_df,gpt_df,gpt3_df,gpt2_df,grover_df,human_df,pplm_df,xlm_df,xlnet_df,instruct_df], ignore_index=True)\n"
      ],
      "metadata": {
        "id": "RyK4O89l1Q0T"
      },
      "execution_count": 73,
      "outputs": []
    },
    {
      "cell_type": "code",
      "source": [
        "combined_df[['Generation']] = combined_df[['Generation']]. astype(str)"
      ],
      "metadata": {
        "id": "7ingS9XO3Mcl"
      },
      "execution_count": 74,
      "outputs": []
    },
    {
      "cell_type": "code",
      "source": [
        "import nltk\n",
        "from nltk.tokenize import word_tokenize\n",
        "from nltk.corpus import stopwords\n",
        "from nltk.stem import WordNetLemmatizer\n",
        "import string\n",
        "\n",
        "nltk.download('punkt')\n",
        "nltk.download('stopwords')\n",
        "nltk.download('wordnet')\n",
        "\n",
        "def preprocess_text(text):\n",
        "    # convert text to lowercase\n",
        "    text = text.lower()\n",
        "\n",
        "    # remove punctuation except fullstops\n",
        "    exclude = set(string.punctuation) - set('.')\n",
        "    text = ''.join(ch for ch in text if ch not in exclude)\n",
        "\n",
        "    # tokenize text into words\n",
        "    words = word_tokenize(text)\n",
        "\n",
        "    # remove stopwords\n",
        "    stop_words = set(stopwords.words(\"english\"))\n",
        "    filtered_words = [word for word in words if word not in stop_words]\n",
        "\n",
        "    # lemmatize words\n",
        "    lemmatizer = WordNetLemmatizer()\n",
        "    lemmatized_words = [lemmatizer.lemmatize(word) for word in filtered_words]\n",
        "\n",
        "    # join words back into a string\n",
        "    processed_text = \" \".join(lemmatized_words)\n",
        "\n",
        "    return processed_text\n",
        "\n",
        "# def split_sentences(paragraph):\n",
        "#     sentences = nltk.sent_tokenize(paragraph)\n",
        "#     sentences = [preprocess_text(sentence) for sentence in sentences]\n",
        "#     return sentences\n",
        "\n",
        "def split_sentences(paragraph):\n",
        "    sentences = nltk.sent_tokenize(paragraph)\n",
        "    sentences = [preprocess_text(sentence) for sentence in sentences]\n",
        "\n",
        "    # merge every other sentence\n",
        "    merged_sentences = []\n",
        "    for i in range(0, len(sentences), 5):\n",
        "        if i+5 < len(sentences):\n",
        "            merged_sentence = sentences[i] + '. ' + sentences[i+1] + '. ' + sentences[i+2] + '. ' + sentences[i+3] + '. ' + sentences[i+4]\n",
        "            merged_sentences.append(merged_sentence)\n",
        "        else:\n",
        "            merged_sentences.append(sentences[i])\n",
        "\n",
        "    return merged_sentences\n",
        "\n",
        "\n",
        "combined_df\n",
        "# apply the function to the paragraph column and create a new column with the sentences\n",
        "combined_df['Generation_sentences'] = combined_df['Generation'].apply(split_sentences)\n",
        "combined_df1 = combined_df.explode('Generation_sentences')\n"
      ],
      "metadata": {
        "colab": {
          "base_uri": "https://localhost:8080/"
        },
        "id": "LQ2eBdyN1Qxl",
        "outputId": "36c07c45-bb34-4d4d-ae79-1dac7929d7cb"
      },
      "execution_count": 75,
      "outputs": [
        {
          "output_type": "stream",
          "name": "stderr",
          "text": [
            "[nltk_data] Downloading package punkt to /root/nltk_data...\n",
            "[nltk_data]   Package punkt is already up-to-date!\n",
            "[nltk_data] Downloading package stopwords to /root/nltk_data...\n",
            "[nltk_data]   Package stopwords is already up-to-date!\n",
            "[nltk_data] Downloading package wordnet to /root/nltk_data...\n",
            "[nltk_data]   Package wordnet is already up-to-date!\n"
          ]
        }
      ]
    },
    {
      "cell_type": "code",
      "source": [
        "len(combined_df)"
      ],
      "metadata": {
        "colab": {
          "base_uri": "https://localhost:8080/"
        },
        "id": "Kn9UyofG1Qu9",
        "outputId": "0d0d93e3-2b8e-436b-d393-3f2c359a2caa"
      },
      "execution_count": 76,
      "outputs": [
        {
          "output_type": "execute_result",
          "data": {
            "text/plain": [
              "11726"
            ]
          },
          "metadata": {},
          "execution_count": 76
        }
      ]
    },
    {
      "cell_type": "code",
      "source": [
        "len(combined_df1)"
      ],
      "metadata": {
        "colab": {
          "base_uri": "https://localhost:8080/"
        },
        "id": "NNuVmrGC1QsE",
        "outputId": "f5c2bc6e-b5e0-410c-a169-1028580e61ae"
      },
      "execution_count": 77,
      "outputs": [
        {
          "output_type": "execute_result",
          "data": {
            "text/plain": [
              "48730"
            ]
          },
          "metadata": {},
          "execution_count": 77
        }
      ]
    },
    {
      "cell_type": "code",
      "source": [
        "combined_df1.head()"
      ],
      "metadata": {
        "colab": {
          "base_uri": "https://localhost:8080/",
          "height": 206
        },
        "id": "wXR-r-bZ1QpJ",
        "outputId": "41b542cb-2e60-43df-ee67-ca8f83900fcd"
      },
      "execution_count": 78,
      "outputs": [
        {
          "output_type": "execute_result",
          "data": {
            "text/plain": [
              "                                          Generation label  \\\n",
              "0  latest headlines on cnn business tl;dr the u.s...  ctrl   \n",
              "0  latest headlines on cnn business tl;dr the u.s...  ctrl   \n",
              "0  latest headlines on cnn business tl;dr the u.s...  ctrl   \n",
              "0  latest headlines on cnn business tl;dr the u.s...  ctrl   \n",
              "1  china wants to take a victory lap over its han...  ctrl   \n",
              "\n",
              "                                Generation_sentences  \n",
              "0  latest headline cnn business tldr u.s. governm...  \n",
              "0  click close article ... read morehttpwww.reute...  \n",
              "0  fun reading answer question posted reddit user...  \n",
              "0                             long term 5 year old .  \n",
              "1  china want take victory lap handling coronavir...  "
            ],
            "text/html": [
              "\n",
              "  <div id=\"df-0e9f0712-ebe2-4557-ae1a-387bc39cfc1f\">\n",
              "    <div class=\"colab-df-container\">\n",
              "      <div>\n",
              "<style scoped>\n",
              "    .dataframe tbody tr th:only-of-type {\n",
              "        vertical-align: middle;\n",
              "    }\n",
              "\n",
              "    .dataframe tbody tr th {\n",
              "        vertical-align: top;\n",
              "    }\n",
              "\n",
              "    .dataframe thead th {\n",
              "        text-align: right;\n",
              "    }\n",
              "</style>\n",
              "<table border=\"1\" class=\"dataframe\">\n",
              "  <thead>\n",
              "    <tr style=\"text-align: right;\">\n",
              "      <th></th>\n",
              "      <th>Generation</th>\n",
              "      <th>label</th>\n",
              "      <th>Generation_sentences</th>\n",
              "    </tr>\n",
              "  </thead>\n",
              "  <tbody>\n",
              "    <tr>\n",
              "      <th>0</th>\n",
              "      <td>latest headlines on cnn business tl;dr the u.s...</td>\n",
              "      <td>ctrl</td>\n",
              "      <td>latest headline cnn business tldr u.s. governm...</td>\n",
              "    </tr>\n",
              "    <tr>\n",
              "      <th>0</th>\n",
              "      <td>latest headlines on cnn business tl;dr the u.s...</td>\n",
              "      <td>ctrl</td>\n",
              "      <td>click close article ... read morehttpwww.reute...</td>\n",
              "    </tr>\n",
              "    <tr>\n",
              "      <th>0</th>\n",
              "      <td>latest headlines on cnn business tl;dr the u.s...</td>\n",
              "      <td>ctrl</td>\n",
              "      <td>fun reading answer question posted reddit user...</td>\n",
              "    </tr>\n",
              "    <tr>\n",
              "      <th>0</th>\n",
              "      <td>latest headlines on cnn business tl;dr the u.s...</td>\n",
              "      <td>ctrl</td>\n",
              "      <td>long term 5 year old .</td>\n",
              "    </tr>\n",
              "    <tr>\n",
              "      <th>1</th>\n",
              "      <td>china wants to take a victory lap over its han...</td>\n",
              "      <td>ctrl</td>\n",
              "      <td>china want take victory lap handling coronavir...</td>\n",
              "    </tr>\n",
              "  </tbody>\n",
              "</table>\n",
              "</div>\n",
              "      <button class=\"colab-df-convert\" onclick=\"convertToInteractive('df-0e9f0712-ebe2-4557-ae1a-387bc39cfc1f')\"\n",
              "              title=\"Convert this dataframe to an interactive table.\"\n",
              "              style=\"display:none;\">\n",
              "        \n",
              "  <svg xmlns=\"http://www.w3.org/2000/svg\" height=\"24px\"viewBox=\"0 0 24 24\"\n",
              "       width=\"24px\">\n",
              "    <path d=\"M0 0h24v24H0V0z\" fill=\"none\"/>\n",
              "    <path d=\"M18.56 5.44l.94 2.06.94-2.06 2.06-.94-2.06-.94-.94-2.06-.94 2.06-2.06.94zm-11 1L8.5 8.5l.94-2.06 2.06-.94-2.06-.94L8.5 2.5l-.94 2.06-2.06.94zm10 10l.94 2.06.94-2.06 2.06-.94-2.06-.94-.94-2.06-.94 2.06-2.06.94z\"/><path d=\"M17.41 7.96l-1.37-1.37c-.4-.4-.92-.59-1.43-.59-.52 0-1.04.2-1.43.59L10.3 9.45l-7.72 7.72c-.78.78-.78 2.05 0 2.83L4 21.41c.39.39.9.59 1.41.59.51 0 1.02-.2 1.41-.59l7.78-7.78 2.81-2.81c.8-.78.8-2.07 0-2.86zM5.41 20L4 18.59l7.72-7.72 1.47 1.35L5.41 20z\"/>\n",
              "  </svg>\n",
              "      </button>\n",
              "      \n",
              "  <style>\n",
              "    .colab-df-container {\n",
              "      display:flex;\n",
              "      flex-wrap:wrap;\n",
              "      gap: 12px;\n",
              "    }\n",
              "\n",
              "    .colab-df-convert {\n",
              "      background-color: #E8F0FE;\n",
              "      border: none;\n",
              "      border-radius: 50%;\n",
              "      cursor: pointer;\n",
              "      display: none;\n",
              "      fill: #1967D2;\n",
              "      height: 32px;\n",
              "      padding: 0 0 0 0;\n",
              "      width: 32px;\n",
              "    }\n",
              "\n",
              "    .colab-df-convert:hover {\n",
              "      background-color: #E2EBFA;\n",
              "      box-shadow: 0px 1px 2px rgba(60, 64, 67, 0.3), 0px 1px 3px 1px rgba(60, 64, 67, 0.15);\n",
              "      fill: #174EA6;\n",
              "    }\n",
              "\n",
              "    [theme=dark] .colab-df-convert {\n",
              "      background-color: #3B4455;\n",
              "      fill: #D2E3FC;\n",
              "    }\n",
              "\n",
              "    [theme=dark] .colab-df-convert:hover {\n",
              "      background-color: #434B5C;\n",
              "      box-shadow: 0px 1px 3px 1px rgba(0, 0, 0, 0.15);\n",
              "      filter: drop-shadow(0px 1px 2px rgba(0, 0, 0, 0.3));\n",
              "      fill: #FFFFFF;\n",
              "    }\n",
              "  </style>\n",
              "\n",
              "      <script>\n",
              "        const buttonEl =\n",
              "          document.querySelector('#df-0e9f0712-ebe2-4557-ae1a-387bc39cfc1f button.colab-df-convert');\n",
              "        buttonEl.style.display =\n",
              "          google.colab.kernel.accessAllowed ? 'block' : 'none';\n",
              "\n",
              "        async function convertToInteractive(key) {\n",
              "          const element = document.querySelector('#df-0e9f0712-ebe2-4557-ae1a-387bc39cfc1f');\n",
              "          const dataTable =\n",
              "            await google.colab.kernel.invokeFunction('convertToInteractive',\n",
              "                                                     [key], {});\n",
              "          if (!dataTable) return;\n",
              "\n",
              "          const docLinkHtml = 'Like what you see? Visit the ' +\n",
              "            '<a target=\"_blank\" href=https://colab.research.google.com/notebooks/data_table.ipynb>data table notebook</a>'\n",
              "            + ' to learn more about interactive tables.';\n",
              "          element.innerHTML = '';\n",
              "          dataTable['output_type'] = 'display_data';\n",
              "          await google.colab.output.renderOutput(dataTable, element);\n",
              "          const docLink = document.createElement('div');\n",
              "          docLink.innerHTML = docLinkHtml;\n",
              "          element.appendChild(docLink);\n",
              "        }\n",
              "      </script>\n",
              "    </div>\n",
              "  </div>\n",
              "  "
            ]
          },
          "metadata": {},
          "execution_count": 78
        }
      ]
    },
    {
      "cell_type": "code",
      "source": [
        "combined_df1"
      ],
      "metadata": {
        "colab": {
          "base_uri": "https://localhost:8080/",
          "height": 424
        },
        "id": "rK2oUusu1QmX",
        "outputId": "86a57942-c783-4a90-bfa0-24d2f270e862"
      },
      "execution_count": 79,
      "outputs": [
        {
          "output_type": "execute_result",
          "data": {
            "text/plain": [
              "                                              Generation        label  \\\n",
              "0      latest headlines on cnn business tl;dr the u.s...         ctrl   \n",
              "0      latest headlines on cnn business tl;dr the u.s...         ctrl   \n",
              "0      latest headlines on cnn business tl;dr the u.s...         ctrl   \n",
              "0      latest headlines on cnn business tl;dr the u.s...         ctrl   \n",
              "1      china wants to take a victory lap over its han...         ctrl   \n",
              "...                                                  ...          ...   \n",
              "11721                                         All of it!  instructgpt   \n",
              "11722  Space stations must be kept clean to prevent t...  instructgpt   \n",
              "11723  It is not mandatory to pay a year's rent up fr...  instructgpt   \n",
              "11724  . Stay up to date with the latest news, featur...  instructgpt   \n",
              "11725  In order to strengthen trust and transparency ...  instructgpt   \n",
              "\n",
              "                                    Generation_sentences  \n",
              "0      latest headline cnn business tldr u.s. governm...  \n",
              "0      click close article ... read morehttpwww.reute...  \n",
              "0      fun reading answer question posted reddit user...  \n",
              "0                                 long term 5 year old .  \n",
              "1      china want take victory lap handling coronavir...  \n",
              "...                                                  ...  \n",
              "11721                                                     \n",
              "11722  space station must kept clean prevent spread b...  \n",
              "11723               mandatory pay year rent front city .  \n",
              "11724                                                  .  \n",
              "11725  order strengthen trust transparency online new...  \n",
              "\n",
              "[48730 rows x 3 columns]"
            ],
            "text/html": [
              "\n",
              "  <div id=\"df-229d33ae-2a01-4657-8956-1aa2a161d4b3\">\n",
              "    <div class=\"colab-df-container\">\n",
              "      <div>\n",
              "<style scoped>\n",
              "    .dataframe tbody tr th:only-of-type {\n",
              "        vertical-align: middle;\n",
              "    }\n",
              "\n",
              "    .dataframe tbody tr th {\n",
              "        vertical-align: top;\n",
              "    }\n",
              "\n",
              "    .dataframe thead th {\n",
              "        text-align: right;\n",
              "    }\n",
              "</style>\n",
              "<table border=\"1\" class=\"dataframe\">\n",
              "  <thead>\n",
              "    <tr style=\"text-align: right;\">\n",
              "      <th></th>\n",
              "      <th>Generation</th>\n",
              "      <th>label</th>\n",
              "      <th>Generation_sentences</th>\n",
              "    </tr>\n",
              "  </thead>\n",
              "  <tbody>\n",
              "    <tr>\n",
              "      <th>0</th>\n",
              "      <td>latest headlines on cnn business tl;dr the u.s...</td>\n",
              "      <td>ctrl</td>\n",
              "      <td>latest headline cnn business tldr u.s. governm...</td>\n",
              "    </tr>\n",
              "    <tr>\n",
              "      <th>0</th>\n",
              "      <td>latest headlines on cnn business tl;dr the u.s...</td>\n",
              "      <td>ctrl</td>\n",
              "      <td>click close article ... read morehttpwww.reute...</td>\n",
              "    </tr>\n",
              "    <tr>\n",
              "      <th>0</th>\n",
              "      <td>latest headlines on cnn business tl;dr the u.s...</td>\n",
              "      <td>ctrl</td>\n",
              "      <td>fun reading answer question posted reddit user...</td>\n",
              "    </tr>\n",
              "    <tr>\n",
              "      <th>0</th>\n",
              "      <td>latest headlines on cnn business tl;dr the u.s...</td>\n",
              "      <td>ctrl</td>\n",
              "      <td>long term 5 year old .</td>\n",
              "    </tr>\n",
              "    <tr>\n",
              "      <th>1</th>\n",
              "      <td>china wants to take a victory lap over its han...</td>\n",
              "      <td>ctrl</td>\n",
              "      <td>china want take victory lap handling coronavir...</td>\n",
              "    </tr>\n",
              "    <tr>\n",
              "      <th>...</th>\n",
              "      <td>...</td>\n",
              "      <td>...</td>\n",
              "      <td>...</td>\n",
              "    </tr>\n",
              "    <tr>\n",
              "      <th>11721</th>\n",
              "      <td>All of it!</td>\n",
              "      <td>instructgpt</td>\n",
              "      <td></td>\n",
              "    </tr>\n",
              "    <tr>\n",
              "      <th>11722</th>\n",
              "      <td>Space stations must be kept clean to prevent t...</td>\n",
              "      <td>instructgpt</td>\n",
              "      <td>space station must kept clean prevent spread b...</td>\n",
              "    </tr>\n",
              "    <tr>\n",
              "      <th>11723</th>\n",
              "      <td>It is not mandatory to pay a year's rent up fr...</td>\n",
              "      <td>instructgpt</td>\n",
              "      <td>mandatory pay year rent front city .</td>\n",
              "    </tr>\n",
              "    <tr>\n",
              "      <th>11724</th>\n",
              "      <td>. Stay up to date with the latest news, featur...</td>\n",
              "      <td>instructgpt</td>\n",
              "      <td>.</td>\n",
              "    </tr>\n",
              "    <tr>\n",
              "      <th>11725</th>\n",
              "      <td>In order to strengthen trust and transparency ...</td>\n",
              "      <td>instructgpt</td>\n",
              "      <td>order strengthen trust transparency online new...</td>\n",
              "    </tr>\n",
              "  </tbody>\n",
              "</table>\n",
              "<p>48730 rows × 3 columns</p>\n",
              "</div>\n",
              "      <button class=\"colab-df-convert\" onclick=\"convertToInteractive('df-229d33ae-2a01-4657-8956-1aa2a161d4b3')\"\n",
              "              title=\"Convert this dataframe to an interactive table.\"\n",
              "              style=\"display:none;\">\n",
              "        \n",
              "  <svg xmlns=\"http://www.w3.org/2000/svg\" height=\"24px\"viewBox=\"0 0 24 24\"\n",
              "       width=\"24px\">\n",
              "    <path d=\"M0 0h24v24H0V0z\" fill=\"none\"/>\n",
              "    <path d=\"M18.56 5.44l.94 2.06.94-2.06 2.06-.94-2.06-.94-.94-2.06-.94 2.06-2.06.94zm-11 1L8.5 8.5l.94-2.06 2.06-.94-2.06-.94L8.5 2.5l-.94 2.06-2.06.94zm10 10l.94 2.06.94-2.06 2.06-.94-2.06-.94-.94-2.06-.94 2.06-2.06.94z\"/><path d=\"M17.41 7.96l-1.37-1.37c-.4-.4-.92-.59-1.43-.59-.52 0-1.04.2-1.43.59L10.3 9.45l-7.72 7.72c-.78.78-.78 2.05 0 2.83L4 21.41c.39.39.9.59 1.41.59.51 0 1.02-.2 1.41-.59l7.78-7.78 2.81-2.81c.8-.78.8-2.07 0-2.86zM5.41 20L4 18.59l7.72-7.72 1.47 1.35L5.41 20z\"/>\n",
              "  </svg>\n",
              "      </button>\n",
              "      \n",
              "  <style>\n",
              "    .colab-df-container {\n",
              "      display:flex;\n",
              "      flex-wrap:wrap;\n",
              "      gap: 12px;\n",
              "    }\n",
              "\n",
              "    .colab-df-convert {\n",
              "      background-color: #E8F0FE;\n",
              "      border: none;\n",
              "      border-radius: 50%;\n",
              "      cursor: pointer;\n",
              "      display: none;\n",
              "      fill: #1967D2;\n",
              "      height: 32px;\n",
              "      padding: 0 0 0 0;\n",
              "      width: 32px;\n",
              "    }\n",
              "\n",
              "    .colab-df-convert:hover {\n",
              "      background-color: #E2EBFA;\n",
              "      box-shadow: 0px 1px 2px rgba(60, 64, 67, 0.3), 0px 1px 3px 1px rgba(60, 64, 67, 0.15);\n",
              "      fill: #174EA6;\n",
              "    }\n",
              "\n",
              "    [theme=dark] .colab-df-convert {\n",
              "      background-color: #3B4455;\n",
              "      fill: #D2E3FC;\n",
              "    }\n",
              "\n",
              "    [theme=dark] .colab-df-convert:hover {\n",
              "      background-color: #434B5C;\n",
              "      box-shadow: 0px 1px 3px 1px rgba(0, 0, 0, 0.15);\n",
              "      filter: drop-shadow(0px 1px 2px rgba(0, 0, 0, 0.3));\n",
              "      fill: #FFFFFF;\n",
              "    }\n",
              "  </style>\n",
              "\n",
              "      <script>\n",
              "        const buttonEl =\n",
              "          document.querySelector('#df-229d33ae-2a01-4657-8956-1aa2a161d4b3 button.colab-df-convert');\n",
              "        buttonEl.style.display =\n",
              "          google.colab.kernel.accessAllowed ? 'block' : 'none';\n",
              "\n",
              "        async function convertToInteractive(key) {\n",
              "          const element = document.querySelector('#df-229d33ae-2a01-4657-8956-1aa2a161d4b3');\n",
              "          const dataTable =\n",
              "            await google.colab.kernel.invokeFunction('convertToInteractive',\n",
              "                                                     [key], {});\n",
              "          if (!dataTable) return;\n",
              "\n",
              "          const docLinkHtml = 'Like what you see? Visit the ' +\n",
              "            '<a target=\"_blank\" href=https://colab.research.google.com/notebooks/data_table.ipynb>data table notebook</a>'\n",
              "            + ' to learn more about interactive tables.';\n",
              "          element.innerHTML = '';\n",
              "          dataTable['output_type'] = 'display_data';\n",
              "          await google.colab.output.renderOutput(dataTable, element);\n",
              "          const docLink = document.createElement('div');\n",
              "          docLink.innerHTML = docLinkHtml;\n",
              "          element.appendChild(docLink);\n",
              "        }\n",
              "      </script>\n",
              "    </div>\n",
              "  </div>\n",
              "  "
            ]
          },
          "metadata": {},
          "execution_count": 79
        }
      ]
    },
    {
      "cell_type": "code",
      "source": [
        "combined_df1['label'] = combined_df1['label'].str.lower()"
      ],
      "metadata": {
        "id": "GD8zHx_X1Qjg"
      },
      "execution_count": 80,
      "outputs": []
    },
    {
      "cell_type": "code",
      "source": [
        "combined_df1['label'].unique()"
      ],
      "metadata": {
        "colab": {
          "base_uri": "https://localhost:8080/"
        },
        "id": "qRwizqKN1Qgd",
        "outputId": "4cba83c3-f693-4ec9-fb96-4b279ea3b972"
      },
      "execution_count": 81,
      "outputs": [
        {
          "output_type": "execute_result",
          "data": {
            "text/plain": [
              "array(['ctrl', 'fair', 'gpt', 'gpt3', 'gpt2', 'grover', 'human', 'pplm',\n",
              "       'xlm', 'xlnet', 'instructgpt'], dtype=object)"
            ]
          },
          "metadata": {},
          "execution_count": 81
        }
      ]
    },
    {
      "cell_type": "code",
      "source": [],
      "metadata": {
        "id": "Eb2cfRyDsle5"
      },
      "execution_count": 81,
      "outputs": []
    },
    {
      "cell_type": "code",
      "source": [],
      "metadata": {
        "id": "9wt41Pb7slhs"
      },
      "execution_count": 81,
      "outputs": []
    },
    {
      "cell_type": "code",
      "source": [
        "# import nltk\n",
        "# from nltk.tokenize import word_tokenize\n",
        "# from nltk.corpus import stopwords\n",
        "# from nltk.stem import WordNetLemmatizer\n",
        "# import string\n",
        "\n",
        "# nltk.download('punkt')\n",
        "# nltk.download('stopwords')\n",
        "# nltk.download('wordnet')\n",
        "\n",
        "# def preprocess_text(text):\n",
        "#     # convert text to lowercase\n",
        "#     text = text.lower()\n",
        "\n",
        "#     # remove punctuation except fullstops\n",
        "#     exclude = set(string.punctuation) - set('.')\n",
        "#     text = ''.join(ch for ch in text if ch not in exclude)\n",
        "\n",
        "#     # tokenize text into words\n",
        "#     words = word_tokenize(text)\n",
        "\n",
        "#     # remove stopwords\n",
        "#     stop_words = set(stopwords.words(\"english\"))\n",
        "#     filtered_words = [word for word in words if word not in stop_words]\n",
        "\n",
        "#     # lemmatize words\n",
        "#     lemmatizer = WordNetLemmatizer()\n",
        "#     lemmatized_words = [lemmatizer.lemmatize(word) for word in filtered_words]\n",
        "\n",
        "#     # join words back into a string\n",
        "#     processed_text = \" \".join(lemmatized_words)\n",
        "\n",
        "#     return processed_text\n",
        "\n",
        "# # def split_sentences(paragraph):\n",
        "# #     sentences = nltk.sent_tokenize(paragraph)\n",
        "# #     sentences = [preprocess_text(sentence) for sentence in sentences]\n",
        "# #     return sentences\n",
        "\n",
        "# def split_sentences(paragraph):\n",
        "#     sentences = nltk.sent_tokenize(paragraph)\n",
        "#     sentences = [preprocess_text(sentence) for sentence in sentences]\n",
        "\n",
        "#     # merge every other sentence\n",
        "#     merged_sentences = []\n",
        "#     for i in range(0, len(sentences), 5):\n",
        "#         if i+5 < len(sentences):\n",
        "#             merged_sentence = sentences[i] + '. ' + sentences[i+1] + '. ' + sentences[i+2] + '. ' + sentences[i+3] + '. ' + sentences[i+4]\n",
        "#             merged_sentences.append(merged_sentence)\n",
        "#         else:\n",
        "#             merged_sentences.append(sentences[i])\n",
        "\n",
        "#     return merged_sentences\n",
        "\n",
        "\n",
        "# # apply the function to the paragraph column and create a new column with the sentences\n",
        "# ctrl_df['Generation_sentences'] = ctrl_df['Generation'].apply(split_sentences)\n",
        "# ctrl_df1 = ctrl_df.explode('Generation_sentences')\n"
      ],
      "metadata": {
        "id": "cCNCO8pxslke"
      },
      "execution_count": 82,
      "outputs": []
    },
    {
      "cell_type": "code",
      "source": [
        "# ctrl_df1.head(20)"
      ],
      "metadata": {
        "id": "JvnIozbaNe0T"
      },
      "execution_count": 83,
      "outputs": []
    },
    {
      "cell_type": "code",
      "source": [
        "df = combined_df1[['Generation_sentences','label']]"
      ],
      "metadata": {
        "id": "6Be0yF6sNe6A"
      },
      "execution_count": 84,
      "outputs": []
    },
    {
      "cell_type": "code",
      "source": [
        "# df[['Generation']] = df[['Generation']]. astype(str)"
      ],
      "metadata": {
        "id": "Z-yGAkfcNe80"
      },
      "execution_count": 85,
      "outputs": []
    },
    {
      "cell_type": "code",
      "source": [
        "df.head()"
      ],
      "metadata": {
        "id": "8_5obTi_npck",
        "colab": {
          "base_uri": "https://localhost:8080/",
          "height": 206
        },
        "outputId": "3040e723-ccd5-4859-d574-19c88bf04d80"
      },
      "execution_count": 86,
      "outputs": [
        {
          "output_type": "execute_result",
          "data": {
            "text/plain": [
              "                                Generation_sentences label\n",
              "0  latest headline cnn business tldr u.s. governm...  ctrl\n",
              "0  click close article ... read morehttpwww.reute...  ctrl\n",
              "0  fun reading answer question posted reddit user...  ctrl\n",
              "0                             long term 5 year old .  ctrl\n",
              "1  china want take victory lap handling coronavir...  ctrl"
            ],
            "text/html": [
              "\n",
              "  <div id=\"df-cb64838d-5fad-4ec9-9138-13160de546d4\">\n",
              "    <div class=\"colab-df-container\">\n",
              "      <div>\n",
              "<style scoped>\n",
              "    .dataframe tbody tr th:only-of-type {\n",
              "        vertical-align: middle;\n",
              "    }\n",
              "\n",
              "    .dataframe tbody tr th {\n",
              "        vertical-align: top;\n",
              "    }\n",
              "\n",
              "    .dataframe thead th {\n",
              "        text-align: right;\n",
              "    }\n",
              "</style>\n",
              "<table border=\"1\" class=\"dataframe\">\n",
              "  <thead>\n",
              "    <tr style=\"text-align: right;\">\n",
              "      <th></th>\n",
              "      <th>Generation_sentences</th>\n",
              "      <th>label</th>\n",
              "    </tr>\n",
              "  </thead>\n",
              "  <tbody>\n",
              "    <tr>\n",
              "      <th>0</th>\n",
              "      <td>latest headline cnn business tldr u.s. governm...</td>\n",
              "      <td>ctrl</td>\n",
              "    </tr>\n",
              "    <tr>\n",
              "      <th>0</th>\n",
              "      <td>click close article ... read morehttpwww.reute...</td>\n",
              "      <td>ctrl</td>\n",
              "    </tr>\n",
              "    <tr>\n",
              "      <th>0</th>\n",
              "      <td>fun reading answer question posted reddit user...</td>\n",
              "      <td>ctrl</td>\n",
              "    </tr>\n",
              "    <tr>\n",
              "      <th>0</th>\n",
              "      <td>long term 5 year old .</td>\n",
              "      <td>ctrl</td>\n",
              "    </tr>\n",
              "    <tr>\n",
              "      <th>1</th>\n",
              "      <td>china want take victory lap handling coronavir...</td>\n",
              "      <td>ctrl</td>\n",
              "    </tr>\n",
              "  </tbody>\n",
              "</table>\n",
              "</div>\n",
              "      <button class=\"colab-df-convert\" onclick=\"convertToInteractive('df-cb64838d-5fad-4ec9-9138-13160de546d4')\"\n",
              "              title=\"Convert this dataframe to an interactive table.\"\n",
              "              style=\"display:none;\">\n",
              "        \n",
              "  <svg xmlns=\"http://www.w3.org/2000/svg\" height=\"24px\"viewBox=\"0 0 24 24\"\n",
              "       width=\"24px\">\n",
              "    <path d=\"M0 0h24v24H0V0z\" fill=\"none\"/>\n",
              "    <path d=\"M18.56 5.44l.94 2.06.94-2.06 2.06-.94-2.06-.94-.94-2.06-.94 2.06-2.06.94zm-11 1L8.5 8.5l.94-2.06 2.06-.94-2.06-.94L8.5 2.5l-.94 2.06-2.06.94zm10 10l.94 2.06.94-2.06 2.06-.94-2.06-.94-.94-2.06-.94 2.06-2.06.94z\"/><path d=\"M17.41 7.96l-1.37-1.37c-.4-.4-.92-.59-1.43-.59-.52 0-1.04.2-1.43.59L10.3 9.45l-7.72 7.72c-.78.78-.78 2.05 0 2.83L4 21.41c.39.39.9.59 1.41.59.51 0 1.02-.2 1.41-.59l7.78-7.78 2.81-2.81c.8-.78.8-2.07 0-2.86zM5.41 20L4 18.59l7.72-7.72 1.47 1.35L5.41 20z\"/>\n",
              "  </svg>\n",
              "      </button>\n",
              "      \n",
              "  <style>\n",
              "    .colab-df-container {\n",
              "      display:flex;\n",
              "      flex-wrap:wrap;\n",
              "      gap: 12px;\n",
              "    }\n",
              "\n",
              "    .colab-df-convert {\n",
              "      background-color: #E8F0FE;\n",
              "      border: none;\n",
              "      border-radius: 50%;\n",
              "      cursor: pointer;\n",
              "      display: none;\n",
              "      fill: #1967D2;\n",
              "      height: 32px;\n",
              "      padding: 0 0 0 0;\n",
              "      width: 32px;\n",
              "    }\n",
              "\n",
              "    .colab-df-convert:hover {\n",
              "      background-color: #E2EBFA;\n",
              "      box-shadow: 0px 1px 2px rgba(60, 64, 67, 0.3), 0px 1px 3px 1px rgba(60, 64, 67, 0.15);\n",
              "      fill: #174EA6;\n",
              "    }\n",
              "\n",
              "    [theme=dark] .colab-df-convert {\n",
              "      background-color: #3B4455;\n",
              "      fill: #D2E3FC;\n",
              "    }\n",
              "\n",
              "    [theme=dark] .colab-df-convert:hover {\n",
              "      background-color: #434B5C;\n",
              "      box-shadow: 0px 1px 3px 1px rgba(0, 0, 0, 0.15);\n",
              "      filter: drop-shadow(0px 1px 2px rgba(0, 0, 0, 0.3));\n",
              "      fill: #FFFFFF;\n",
              "    }\n",
              "  </style>\n",
              "\n",
              "      <script>\n",
              "        const buttonEl =\n",
              "          document.querySelector('#df-cb64838d-5fad-4ec9-9138-13160de546d4 button.colab-df-convert');\n",
              "        buttonEl.style.display =\n",
              "          google.colab.kernel.accessAllowed ? 'block' : 'none';\n",
              "\n",
              "        async function convertToInteractive(key) {\n",
              "          const element = document.querySelector('#df-cb64838d-5fad-4ec9-9138-13160de546d4');\n",
              "          const dataTable =\n",
              "            await google.colab.kernel.invokeFunction('convertToInteractive',\n",
              "                                                     [key], {});\n",
              "          if (!dataTable) return;\n",
              "\n",
              "          const docLinkHtml = 'Like what you see? Visit the ' +\n",
              "            '<a target=\"_blank\" href=https://colab.research.google.com/notebooks/data_table.ipynb>data table notebook</a>'\n",
              "            + ' to learn more about interactive tables.';\n",
              "          element.innerHTML = '';\n",
              "          dataTable['output_type'] = 'display_data';\n",
              "          await google.colab.output.renderOutput(dataTable, element);\n",
              "          const docLink = document.createElement('div');\n",
              "          docLink.innerHTML = docLinkHtml;\n",
              "          element.appendChild(docLink);\n",
              "        }\n",
              "      </script>\n",
              "    </div>\n",
              "  </div>\n",
              "  "
            ]
          },
          "metadata": {},
          "execution_count": 86
        }
      ]
    },
    {
      "cell_type": "code",
      "source": [
        "len(df)"
      ],
      "metadata": {
        "colab": {
          "base_uri": "https://localhost:8080/"
        },
        "id": "6qyo0T2Lnpfk",
        "outputId": "9ee4b30e-369e-4b82-938a-73b474028e1a"
      },
      "execution_count": 87,
      "outputs": [
        {
          "output_type": "execute_result",
          "data": {
            "text/plain": [
              "48730"
            ]
          },
          "metadata": {},
          "execution_count": 87
        }
      ]
    },
    {
      "cell_type": "code",
      "source": [],
      "metadata": {
        "id": "2LxxFqHTnpiM"
      },
      "execution_count": 87,
      "outputs": []
    },
    {
      "cell_type": "code",
      "source": [],
      "metadata": {
        "id": "6ndzGpr9nplB"
      },
      "execution_count": 87,
      "outputs": []
    },
    {
      "cell_type": "code",
      "execution_count": 88,
      "metadata": {
        "id": "UNZ4SOoGKjm3"
      },
      "outputs": [],
      "source": [
        "# text_field = data.Field(\n",
        "#     sequential=True,\n",
        "#     tokenize='basic_english', \n",
        "#     fix_length=500,\n",
        "#     lower=True\n",
        "# )\n",
        "TEXT = data.Field(tokenize = 'spacy', tokenizer_language='en_core_web_sm' , include_lengths = True)\n",
        "LABEL = data.LabelField(sequential=False, use_vocab=False, dtype = torch.float)\n",
        "\n",
        "# label_field = data.Field(sequential=False, use_vocab=False)\n",
        "\n",
        "# sadly have to apply preprocess manually\n",
        "preprocessed_text = df['Generation_sentences'].apply(\n",
        "    lambda x: TEXT.preprocess(x)\n",
        ")\n",
        "\n",
        "# load fastext simple embedding with 300d\n",
        "TEXT.build_vocab(\n",
        "    preprocessed_text, \n",
        "    max_size = 30000,\n",
        "    vectors='glove.6B.50d',\n",
        "    unk_init = torch.Tensor.normal_\n",
        ")\n",
        "\n",
        "# get the vocab instance\n",
        "vocab = TEXT.vocab"
      ]
    },
    {
      "cell_type": "code",
      "source": [
        "preprocessed_text"
      ],
      "metadata": {
        "colab": {
          "base_uri": "https://localhost:8080/"
        },
        "id": "oqYJ2xY-hb_o",
        "outputId": "95b2971e-765d-4f72-a9b6-4765b7bee18e"
      },
      "execution_count": 89,
      "outputs": [
        {
          "output_type": "execute_result",
          "data": {
            "text/plain": [
              "0        [latest, headline, cnn, business, tldr, u.s, ....\n",
              "0        [click, close, article, ..., read, morehttpwww...\n",
              "0        [fun, reading, answer, question, posted, reddi...\n",
              "0                            [long, term, 5, year, old, .]\n",
              "1        [china, want, take, victory, lap, handling, co...\n",
              "                               ...                        \n",
              "11721                                                   []\n",
              "11722    [space, station, must, kept, clean, prevent, s...\n",
              "11723         [mandatory, pay, year, rent, front, city, .]\n",
              "11724                                                  [.]\n",
              "11725    [order, strengthen, trust, transparency, onlin...\n",
              "Name: Generation_sentences, Length: 48730, dtype: object"
            ]
          },
          "metadata": {},
          "execution_count": 89
        }
      ]
    },
    {
      "cell_type": "code",
      "source": [
        "ltoi = {l: i for i, l in enumerate(df['label'].unique())}"
      ],
      "metadata": {
        "id": "7fo-4PymNKox"
      },
      "execution_count": 90,
      "outputs": []
    },
    {
      "cell_type": "code",
      "source": [
        "df['label1'] = df['label'].apply(lambda y: ltoi[y])\n",
        "\n",
        "class DataFrameDataset(data.Dataset):\n",
        "    def __init__(self, df: pd.DataFrame, fields: list):\n",
        "        super(DataFrameDataset, self).__init__(\n",
        "            [\n",
        "                data.Example.fromlist(list(r), fields) \n",
        "                for i, r in df.iterrows()\n",
        "            ], \n",
        "            fields\n",
        "        )"
      ],
      "metadata": {
        "id": "hlf6Q7ioSuzm"
      },
      "execution_count": 91,
      "outputs": []
    },
    {
      "cell_type": "code",
      "source": [
        "df1=df[['Generation_sentences','label1']]"
      ],
      "metadata": {
        "id": "n7EivRJkWJAA"
      },
      "execution_count": 92,
      "outputs": []
    },
    {
      "cell_type": "code",
      "source": [
        "examples=[]\n",
        "for i,row in df1.iterrows():\n",
        "  # print(example)\n",
        "  examples.append(data.Example.fromlist(row, fields=[('text', TEXT), ('label', LABEL)]))"
      ],
      "metadata": {
        "id": "ykBCGeBlWoY6"
      },
      "execution_count": 93,
      "outputs": []
    },
    {
      "cell_type": "code",
      "source": [
        "# examples[2000].label\n",
        "c=0\n",
        "for i in examples:\n",
        "  if type(i.label) != int:\n",
        "    c+=1"
      ],
      "metadata": {
        "id": "yKl9xYuWYWbI"
      },
      "execution_count": 94,
      "outputs": []
    },
    {
      "cell_type": "code",
      "source": [
        "ltoi"
      ],
      "metadata": {
        "colab": {
          "base_uri": "https://localhost:8080/"
        },
        "id": "lL6ysKUOePcV",
        "outputId": "113cf624-1beb-4fd9-c8d4-1938cf9c9aa1"
      },
      "execution_count": 95,
      "outputs": [
        {
          "output_type": "execute_result",
          "data": {
            "text/plain": [
              "{'ctrl': 0,\n",
              " 'fair': 1,\n",
              " 'gpt': 2,\n",
              " 'gpt3': 3,\n",
              " 'gpt2': 4,\n",
              " 'grover': 5,\n",
              " 'human': 6,\n",
              " 'pplm': 7,\n",
              " 'xlm': 8,\n",
              " 'xlnet': 9,\n",
              " 'instructgpt': 10}"
            ]
          },
          "metadata": {},
          "execution_count": 95
        }
      ]
    },
    {
      "cell_type": "code",
      "source": [
        "dataset = data.Dataset(examples, fields=[('text', TEXT), ('label', LABEL)])"
      ],
      "metadata": {
        "id": "SludIWxDW1TI"
      },
      "execution_count": 96,
      "outputs": []
    },
    {
      "cell_type": "code",
      "source": [
        "train_dataset, test_dataset, valid_dataset = dataset.split(split_ratio=[0.65, 0.15, 0.2], stratified=True, strata_field='label')"
      ],
      "metadata": {
        "id": "VnPGmyi0W8d2"
      },
      "execution_count": 97,
      "outputs": []
    },
    {
      "cell_type": "code",
      "source": [
        "len(train_dataset)"
      ],
      "metadata": {
        "colab": {
          "base_uri": "https://localhost:8080/"
        },
        "id": "hgkg66ZGX6-R",
        "outputId": "02d503ba-5baf-4d65-e67f-6f35e9256dba"
      },
      "execution_count": 98,
      "outputs": [
        {
          "output_type": "execute_result",
          "data": {
            "text/plain": [
              "31675"
            ]
          },
          "metadata": {},
          "execution_count": 98
        }
      ]
    },
    {
      "cell_type": "code",
      "source": [
        "train_dataset[0].text"
      ],
      "metadata": {
        "id": "p8Co6x6lWD5i",
        "colab": {
          "base_uri": "https://localhost:8080/"
        },
        "outputId": "9b443863-6ad2-4ec3-f029-948d004615ae"
      },
      "execution_count": 99,
      "outputs": [
        {
          "output_type": "execute_result",
          "data": {
            "text/plain": [
              "['information',\n",
              " 'visit',\n",
              " 'www.vietnam.traveltourism',\n",
              " '..',\n",
              " 'cnn.com',\n",
              " 'travel',\n",
              " 'writer',\n",
              " 'michael',\n",
              " 'j.',\n",
              " 'de',\n",
              " 'la',\n",
              " 'merced',\n",
              " 'contributed',\n",
              " 'reporting',\n",
              " 'cnn',\n",
              " 'staff',\n",
              " 'writer',\n",
              " 'andy',\n",
              " 'kroll',\n",
              " 'john',\n",
              " 'murgatroyd',\n",
              " 'jim',\n",
              " 'bittermann',\n",
              " 'writing',\n",
              " 'carol',\n",
              " 'landy',\n",
              " 'new',\n",
              " 'york',\n",
              " 'editing',\n",
              " 'eric',\n",
              " 'walsh',\n",
              " 'peter',\n",
              " 'cooneyhttpwww.nytimes.com20110203world03china.htmlr1hp',\n",
              " 'tldr',\n",
              " 'new',\n",
              " 'law',\n",
              " 'would',\n",
              " 'allow',\n",
              " 'chinese',\n",
              " 'citizen',\n",
              " 'ethnic',\n",
              " 'minority',\n",
              " 'foreigner',\n",
              " 'living',\n",
              " 'legally',\n",
              " 'since',\n",
              " '1997',\n",
              " '—',\n",
              " 'whose',\n",
              " 'child',\n",
              " 'born',\n",
              " '1978',\n",
              " '—',\n",
              " 'citizenship',\n",
              " 'right',\n",
              " 'equal',\n",
              " 'enjoyed',\n",
              " 'existing',\n",
              " 'law',\n",
              " '..',\n",
              " 'could',\n",
              " 'year',\n",
              " 'become',\n",
              " 'citizen',\n",
              " '..',\n",
              " 'earlier',\n",
              " 'version',\n",
              " 'misstated',\n",
              " 'age',\n",
              " '..',\n",
              " 'must',\n",
              " 'turn',\n",
              " '21',\n",
              " 'within',\n",
              " 'three',\n",
              " 'year',\n",
              " 'time',\n",
              " 'legal',\n",
              " 'resident',\n",
              " 'automatically',\n",
              " 'acquire',\n",
              " 'citizenship',\n",
              " '.']"
            ]
          },
          "metadata": {},
          "execution_count": 99
        }
      ]
    },
    {
      "cell_type": "code",
      "source": [
        "ltoi"
      ],
      "metadata": {
        "colab": {
          "base_uri": "https://localhost:8080/"
        },
        "id": "xbOzHGfaSx0l",
        "outputId": "088fcbfa-8296-4e28-d508-a2bc83a077e4"
      },
      "execution_count": 100,
      "outputs": [
        {
          "output_type": "execute_result",
          "data": {
            "text/plain": [
              "{'ctrl': 0,\n",
              " 'fair': 1,\n",
              " 'gpt': 2,\n",
              " 'gpt3': 3,\n",
              " 'gpt2': 4,\n",
              " 'grover': 5,\n",
              " 'human': 6,\n",
              " 'pplm': 7,\n",
              " 'xlm': 8,\n",
              " 'xlnet': 9,\n",
              " 'instructgpt': 10}"
            ]
          },
          "metadata": {},
          "execution_count": 100
        }
      ]
    },
    {
      "cell_type": "code",
      "source": [
        "device = torch.device('cuda' if torch.cuda.is_available() else 'cpu')\n",
        "print(\"We are working with \", device)\n",
        "# device = 'cpu'\n",
        "train_iter, test_iter, valid_iter = data.BucketIterator.splits(\n",
        "    datasets=(train_dataset, test_dataset, valid_dataset), \n",
        "    batch_size=32,\n",
        "    sort_within_batch = True,\n",
        "    sort_key=lambda x: len(x.text),\n",
        "    device=device\n",
        ")"
      ],
      "metadata": {
        "colab": {
          "base_uri": "https://localhost:8080/"
        },
        "id": "JE5GcV87TO-7",
        "outputId": "478b8cb7-f499-48ae-89c4-84862d1e4a2b"
      },
      "execution_count": 101,
      "outputs": [
        {
          "output_type": "stream",
          "name": "stdout",
          "text": [
            "We are working with  cpu\n"
          ]
        }
      ]
    },
    {
      "cell_type": "code",
      "source": [
        "import torch.nn as nn\n",
        "\n",
        "class LSTM(nn.Module):\n",
        "    def __init__(self, vocab_size, embedding_dim, hidden_dim, output_dim, n_layers, \n",
        "                 bidirectional, dropout, pad_idx):\n",
        "        super().__init__()\n",
        "        #1. Initialize Embedding Layer\n",
        "        self.embedding = nn.Embedding(num_embeddings = vocab_size, embedding_dim = embedding_dim, padding_idx = pad_idx)\n",
        "        #2. Initialize LSTM layer\n",
        "        self.lstm = nn.LSTM(input_size = embedding_dim, hidden_size = hidden_dim, num_layers = n_layers, dropout = dropout, bidirectional = bidirectional)\n",
        "        #3. Initialize a fully connected layer with Linear transformation\n",
        "        self.fc = nn.Linear(hidden_dim * n_layers, output_dim)\n",
        "        #4. Initialize Dropout\n",
        "        self.dropout = nn.Dropout(dropout)\n",
        "        \n",
        "    def forward(self, text, text_lengths):\n",
        "        #1. Apply embedding layer that matches each word to its vector and apply dropout. Dim [sent_len, batch_size, emb_dim]\n",
        "        embedding = self.embedding(text)\n",
        "        embedding_dropout = self.dropout(embedding)\n",
        "        #2. Run the LSTM along the sentences of length sent_len. #output = [sent len, batch size, hid dim * num directions]; #hidden = [num layers * num directions, batch size, hid dim]\n",
        "        output, (hidden,cell) = self.lstm(embedding_dropout)\n",
        "        #3. Concat the final forward (hidden[-2,:,:]) and backward (hidden[-1,:,:]) hidden layers and apply dropout\n",
        "        concat = torch.cat((hidden[-2, :, :], hidden[-1, :, :]), dim=1)\n",
        "        hidden = self.dropout(concat)     \n",
        "        return self.fc(hidden)"
      ],
      "metadata": {
        "id": "CXumcJOZTSuh"
      },
      "execution_count": 102,
      "outputs": []
    },
    {
      "cell_type": "code",
      "source": [
        "INPUT_DIM = len(TEXT.vocab)\n",
        "EMBEDDING_DIM = 50\n",
        "HIDDEN_DIM = 126\n",
        "OUTPUT_DIM = 11\n",
        "N_LAYERS = 2\n",
        "BIDIRECTIONAL = True\n",
        "DROPOUT = 0.5\n",
        "PAD_IDX = TEXT.vocab.stoi[TEXT.pad_token]\n",
        "\n",
        "model = LSTM(INPUT_DIM, \n",
        "            EMBEDDING_DIM, \n",
        "            HIDDEN_DIM, \n",
        "            OUTPUT_DIM, \n",
        "            N_LAYERS, \n",
        "            BIDIRECTIONAL, \n",
        "            DROPOUT,\n",
        "            PAD_IDX)"
      ],
      "metadata": {
        "id": "wpAXkTBMTXyL"
      },
      "execution_count": 103,
      "outputs": []
    },
    {
      "cell_type": "code",
      "source": [
        "def count_parameters(model):\n",
        "    return sum(p.numel() for p in model.parameters() if p.requires_grad)\n",
        "\n",
        "print(f'The model has {count_parameters(model):,} trainable parameters')"
      ],
      "metadata": {
        "colab": {
          "base_uri": "https://localhost:8080/"
        },
        "id": "fvdde4iOa1v_",
        "outputId": "c0d91dbb-1672-45dc-82ff-2087dfdfdca2"
      },
      "execution_count": 104,
      "outputs": [
        {
          "output_type": "stream",
          "name": "stdout",
          "text": [
            "The model has 2,065,347 trainable parameters\n"
          ]
        }
      ]
    },
    {
      "cell_type": "code",
      "source": [
        "pretrained_embeddings = TEXT.vocab.vectors\n",
        "\n",
        "print(pretrained_embeddings.shape)"
      ],
      "metadata": {
        "colab": {
          "base_uri": "https://localhost:8080/"
        },
        "id": "BHmh7_nOa1zJ",
        "outputId": "979025c2-8dca-4033-c14e-c4a3ed23f171"
      },
      "execution_count": 105,
      "outputs": [
        {
          "output_type": "stream",
          "name": "stdout",
          "text": [
            "torch.Size([30002, 50])\n"
          ]
        }
      ]
    },
    {
      "cell_type": "code",
      "source": [
        "model.embedding.weight.data.copy_(pretrained_embeddings)"
      ],
      "metadata": {
        "colab": {
          "base_uri": "https://localhost:8080/"
        },
        "id": "R1ORmYIWa12R",
        "outputId": "132a8ec4-8ba3-4886-a80c-0dae2facd1dc"
      },
      "execution_count": 106,
      "outputs": [
        {
          "output_type": "execute_result",
          "data": {
            "text/plain": [
              "tensor([[-0.1117, -0.4966,  0.1631,  ...,  0.7372,  0.3910,  0.5158],\n",
              "        [ 0.1825, -0.0737,  0.3147,  ...,  1.3226, -2.6796, -0.1297],\n",
              "        [ 1.2907,  0.2612, -0.5862,  ..., -0.7711, -1.8497,  0.2240],\n",
              "        ...,\n",
              "        [-0.0997, -0.7484, -0.3954,  ..., -0.0219, -0.4788, -1.1504],\n",
              "        [-0.6693, -0.0655, -0.2100,  ...,  0.0623, -0.5882, -0.1216],\n",
              "        [-0.4310, -0.7707,  0.1562,  ..., -0.5575,  0.9139,  0.3053]])"
            ]
          },
          "metadata": {},
          "execution_count": 106
        }
      ]
    },
    {
      "cell_type": "code",
      "source": [
        "UNK_IDX = TEXT.vocab.stoi[TEXT.unk_token]\n",
        "\n",
        "model.embedding.weight.data[UNK_IDX] = torch.zeros(EMBEDDING_DIM)\n",
        "model.embedding.weight.data[PAD_IDX] = torch.zeros(EMBEDDING_DIM)\n",
        "\n",
        "print(model.embedding.weight.data)"
      ],
      "metadata": {
        "colab": {
          "base_uri": "https://localhost:8080/"
        },
        "id": "4zGvhmlja15V",
        "outputId": "ae179a2f-ec05-4a4a-b3b2-c4f12d043fe7"
      },
      "execution_count": 107,
      "outputs": [
        {
          "output_type": "stream",
          "name": "stdout",
          "text": [
            "tensor([[ 0.0000,  0.0000,  0.0000,  ...,  0.0000,  0.0000,  0.0000],\n",
            "        [ 0.0000,  0.0000,  0.0000,  ...,  0.0000,  0.0000,  0.0000],\n",
            "        [ 1.2907,  0.2612, -0.5862,  ..., -0.7711, -1.8497,  0.2240],\n",
            "        ...,\n",
            "        [-0.0997, -0.7484, -0.3954,  ..., -0.0219, -0.4788, -1.1504],\n",
            "        [-0.6693, -0.0655, -0.2100,  ...,  0.0623, -0.5882, -0.1216],\n",
            "        [-0.4310, -0.7707,  0.1562,  ..., -0.5575,  0.9139,  0.3053]])\n"
          ]
        }
      ]
    },
    {
      "cell_type": "code",
      "source": [
        "import torch.optim as optim\n",
        "\n",
        "optimizer = optim.Adam(model.parameters())"
      ],
      "metadata": {
        "id": "ieDloipFa18e"
      },
      "execution_count": 108,
      "outputs": []
    },
    {
      "cell_type": "code",
      "source": [
        "criterion = nn.CrossEntropyLoss()\n",
        "\n",
        "# device='cpu'\n",
        "model = model.to(device)\n",
        "criterion = criterion.to(device)"
      ],
      "metadata": {
        "id": "BQyW1WnMa1_x"
      },
      "execution_count": 109,
      "outputs": []
    },
    {
      "cell_type": "code",
      "source": [
        "def multiclass_accuracy(preds, y):\n",
        "    \"\"\"\n",
        "    Returns accuracy per batch, i.e. if you get 8/10 right, this returns 0.8, NOT 8\n",
        "    \"\"\"\n",
        "    # get the index of the highest prediction for each instance\n",
        "    _, preds = torch.max(preds, dim=1)\n",
        "    correct = (preds == y).float() #convert into float for division \n",
        "    acc = correct.sum() / len(correct)\n",
        "    return acc\n"
      ],
      "metadata": {
        "id": "BcQX2TKNa2Cc"
      },
      "execution_count": 110,
      "outputs": []
    },
    {
      "cell_type": "code",
      "source": [
        "def train(model, iterator, optimizer, criterion):\n",
        "    \n",
        "    epoch_loss = 0\n",
        "    epoch_acc = 0\n",
        "    \n",
        "    model.train()\n",
        "    \n",
        "    for batch in iterator:\n",
        "        \n",
        "        optimizer.zero_grad()\n",
        "        \n",
        "        # print(batch.text)\n",
        "        text, text_lengths = batch.text\n",
        "        \n",
        "        predictions = model(text, text_lengths).squeeze(1)\n",
        "\n",
        "        target = batch.label\n",
        "        target = target.type(torch.LongTensor)\n",
        "\n",
        "        # print(target)\n",
        "\n",
        "        # print(predictions)\n",
        "        \n",
        "        loss = criterion(predictions.to(device), target.to(device))\n",
        "        \n",
        "        acc = multiclass_accuracy(predictions, batch.label)\n",
        "        \n",
        "        loss.backward()\n",
        "        \n",
        "        optimizer.step()\n",
        "        \n",
        "        epoch_loss += loss.item()\n",
        "        epoch_acc += acc.item()\n",
        "        \n",
        "    return epoch_loss / len(iterator), epoch_acc / len(iterator)"
      ],
      "metadata": {
        "id": "Hb9Y1yqJa2FP"
      },
      "execution_count": 111,
      "outputs": []
    },
    {
      "cell_type": "code",
      "source": [
        "def evaluate(model, iterator, criterion):\n",
        "    \n",
        "    epoch_loss = 0\n",
        "    epoch_acc = 0\n",
        "    \n",
        "    model.eval()\n",
        "    \n",
        "    with torch.no_grad():\n",
        "    \n",
        "        for batch in iterator:\n",
        "            \n",
        "            text, text_lengths = batch.text\n",
        "            \n",
        "            predictions = model(text, text_lengths).squeeze(1)\n",
        "            target = batch.label\n",
        "            target = target.type(torch.LongTensor)\n",
        "            \n",
        "            loss = criterion(predictions.to(device), target.to(device))\n",
        "            \n",
        "            acc = multiclass_accuracy(predictions, batch.label)\n",
        "\n",
        "            epoch_loss += loss.item()\n",
        "            epoch_acc += acc.item()\n",
        "\n",
        "\n",
        "\n",
        "    return epoch_loss / len(iterator), epoch_acc / len(iterator)"
      ],
      "metadata": {
        "id": "o1x24ifjcGgs"
      },
      "execution_count": 112,
      "outputs": []
    },
    {
      "cell_type": "code",
      "source": [
        "import time\n",
        "\n",
        "def epoch_time(start_time, end_time):\n",
        "    elapsed_time = end_time - start_time\n",
        "    elapsed_mins = int(elapsed_time / 60)\n",
        "    elapsed_secs = int(elapsed_time - (elapsed_mins * 60))\n",
        "    return elapsed_mins, elapsed_secs"
      ],
      "metadata": {
        "id": "76kTNu64cKJO"
      },
      "execution_count": 113,
      "outputs": []
    },
    {
      "cell_type": "code",
      "source": [
        "N_EPOCHS = 15\n",
        "path = F\"/content/gdrive/My Drive/sentence_bilstm_model_task3.pt\"\n",
        "best_valid_loss = float('inf')\n",
        "\n",
        "for epoch in range(N_EPOCHS):\n",
        "\n",
        "    start_time = time.time()\n",
        "    \n",
        "    train_loss, train_acc = train(model, train_iter, optimizer, criterion)\n",
        "    valid_loss, valid_acc = evaluate(model, valid_iter, criterion)\n",
        "    \n",
        "    end_time = time.time()\n",
        "\n",
        "    epoch_mins, epoch_secs = epoch_time(start_time, end_time)\n",
        "    \n",
        "    if valid_loss < best_valid_loss:\n",
        "        best_valid_loss = valid_loss\n",
        "        torch.save(model.state_dict(), path)\n",
        "    \n",
        "    print(f'Epoch: {epoch+1:02} | Epoch Time: {epoch_mins}m {epoch_secs}s')\n",
        "    print(f'\\tTrain Loss: {train_loss:.3f} | Train Acc: {train_acc*100:.2f}%')\n",
        "    print(f'\\t Val. Loss: {valid_loss:.3f} |  Val. Acc: {valid_acc*100:.2f}%')"
      ],
      "metadata": {
        "colab": {
          "base_uri": "https://localhost:8080/"
        },
        "id": "F9RiGfJpcNX1",
        "outputId": "75a1a719-b716-41d2-877b-43b8d6dc76c1"
      },
      "execution_count": 118,
      "outputs": [
        {
          "output_type": "stream",
          "name": "stdout",
          "text": [
            "Epoch: 01 | Epoch Time: 3m 17s\n",
            "\tTrain Loss: 0.742 | Train Acc: 73.13%\n",
            "\t Val. Loss: 0.982 |  Val. Acc: 65.42%\n",
            "Epoch: 02 | Epoch Time: 3m 17s\n",
            "\tTrain Loss: 0.708 | Train Acc: 74.45%\n",
            "\t Val. Loss: 0.962 |  Val. Acc: 66.23%\n",
            "Epoch: 03 | Epoch Time: 3m 23s\n",
            "\tTrain Loss: 0.671 | Train Acc: 75.73%\n",
            "\t Val. Loss: 0.985 |  Val. Acc: 66.69%\n",
            "Epoch: 04 | Epoch Time: 3m 20s\n",
            "\tTrain Loss: 0.642 | Train Acc: 76.95%\n",
            "\t Val. Loss: 0.929 |  Val. Acc: 68.26%\n",
            "Epoch: 05 | Epoch Time: 3m 24s\n",
            "\tTrain Loss: 0.608 | Train Acc: 78.21%\n",
            "\t Val. Loss: 1.006 |  Val. Acc: 67.62%\n",
            "Epoch: 06 | Epoch Time: 3m 17s\n",
            "\tTrain Loss: 0.581 | Train Acc: 79.07%\n",
            "\t Val. Loss: 0.955 |  Val. Acc: 68.82%\n",
            "Epoch: 07 | Epoch Time: 3m 16s\n",
            "\tTrain Loss: 0.561 | Train Acc: 80.06%\n",
            "\t Val. Loss: 1.018 |  Val. Acc: 66.29%\n",
            "Epoch: 08 | Epoch Time: 3m 17s\n",
            "\tTrain Loss: 0.543 | Train Acc: 80.66%\n",
            "\t Val. Loss: 0.973 |  Val. Acc: 68.38%\n",
            "Epoch: 09 | Epoch Time: 3m 17s\n",
            "\tTrain Loss: 0.516 | Train Acc: 81.79%\n",
            "\t Val. Loss: 1.022 |  Val. Acc: 68.08%\n",
            "Epoch: 10 | Epoch Time: 3m 21s\n",
            "\tTrain Loss: 0.502 | Train Acc: 82.20%\n",
            "\t Val. Loss: 1.097 |  Val. Acc: 66.98%\n",
            "Epoch: 11 | Epoch Time: 3m 17s\n",
            "\tTrain Loss: 0.475 | Train Acc: 83.34%\n",
            "\t Val. Loss: 1.031 |  Val. Acc: 68.75%\n",
            "Epoch: 12 | Epoch Time: 3m 15s\n",
            "\tTrain Loss: 0.468 | Train Acc: 83.49%\n",
            "\t Val. Loss: 1.012 |  Val. Acc: 69.71%\n",
            "Epoch: 13 | Epoch Time: 3m 20s\n",
            "\tTrain Loss: 0.446 | Train Acc: 84.36%\n",
            "\t Val. Loss: 1.047 |  Val. Acc: 68.95%\n",
            "Epoch: 14 | Epoch Time: 3m 17s\n",
            "\tTrain Loss: 0.427 | Train Acc: 85.00%\n",
            "\t Val. Loss: 1.074 |  Val. Acc: 69.67%\n",
            "Epoch: 15 | Epoch Time: 3m 15s\n",
            "\tTrain Loss: 0.410 | Train Acc: 85.48%\n",
            "\t Val. Loss: 1.035 |  Val. Acc: 69.73%\n"
          ]
        }
      ]
    },
    {
      "cell_type": "code",
      "source": [
        "test_loss, test_acc = evaluate(model, test_iter, criterion)\n",
        "\n",
        "print(f'Test Loss: {test_loss:.3f} | Test Acc: {test_acc*100:.2f}%')"
      ],
      "metadata": {
        "colab": {
          "base_uri": "https://localhost:8080/"
        },
        "id": "5-Z-Ols0cbiL",
        "outputId": "f4b33a1b-530f-44ce-b5cd-573350cd4237"
      },
      "execution_count": 119,
      "outputs": [
        {
          "output_type": "stream",
          "name": "stdout",
          "text": [
            "Test Loss: 1.025 | Test Acc: 70.49%\n"
          ]
        }
      ]
    },
    {
      "cell_type": "code",
      "source": [
        " "
      ],
      "metadata": {
        "id": "Cc3WNW5GqR48"
      },
      "execution_count": 115,
      "outputs": []
    }
  ]
}