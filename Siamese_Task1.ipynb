{
  "nbformat": 4,
  "nbformat_minor": 0,
  "metadata": {
    "colab": {
      "provenance": [],
      "gpuType": "T4",
      "authorship_tag": "ABX9TyNsvymXLBtSkGnFdfjGFwXI",
      "include_colab_link": true
    },
    "kernelspec": {
      "name": "python3",
      "display_name": "Python 3"
    },
    "language_info": {
      "name": "python"
    },
    "accelerator": "GPU",
    "gpuClass": "standard"
  },
  "cells": [
    {
      "cell_type": "markdown",
      "metadata": {
        "id": "view-in-github",
        "colab_type": "text"
      },
      "source": [
        "<a href=\"https://colab.research.google.com/github/ganeshred/NLPAuthorshipAttributionNLM/blob/main/Siamese_Task1.ipynb\" target=\"_parent\"><img src=\"https://colab.research.google.com/assets/colab-badge.svg\" alt=\"Open In Colab\"/></a>"
      ]
    },
    {
      "cell_type": "code",
      "execution_count": 1,
      "metadata": {
        "colab": {
          "base_uri": "https://localhost:8080/"
        },
        "id": "YA-BlLMCW2qV",
        "outputId": "7096b626-9ee0-4e0f-92d5-75003b72e07e"
      },
      "outputs": [
        {
          "output_type": "stream",
          "name": "stdout",
          "text": [
            "Python 3.10.11\n"
          ]
        }
      ],
      "source": [
        "!python --version"
      ]
    },
    {
      "cell_type": "code",
      "source": [
        "!pip install torchtext==0.6.0"
      ],
      "metadata": {
        "colab": {
          "base_uri": "https://localhost:8080/"
        },
        "id": "DKexkWEbW70B",
        "outputId": "3c30cb61-0c4d-4652-df10-b31e5a9f57b4"
      },
      "execution_count": 2,
      "outputs": [
        {
          "output_type": "stream",
          "name": "stdout",
          "text": [
            "Looking in indexes: https://pypi.org/simple, https://us-python.pkg.dev/colab-wheels/public/simple/\n",
            "Requirement already satisfied: torchtext==0.6.0 in /usr/local/lib/python3.10/dist-packages (0.6.0)\n",
            "Requirement already satisfied: six in /usr/local/lib/python3.10/dist-packages (from torchtext==0.6.0) (1.16.0)\n",
            "Requirement already satisfied: torch in /usr/local/lib/python3.10/dist-packages (from torchtext==0.6.0) (2.0.0+cu118)\n",
            "Requirement already satisfied: requests in /usr/local/lib/python3.10/dist-packages (from torchtext==0.6.0) (2.27.1)\n",
            "Requirement already satisfied: sentencepiece in /usr/local/lib/python3.10/dist-packages (from torchtext==0.6.0) (0.1.99)\n",
            "Requirement already satisfied: tqdm in /usr/local/lib/python3.10/dist-packages (from torchtext==0.6.0) (4.65.0)\n",
            "Requirement already satisfied: numpy in /usr/local/lib/python3.10/dist-packages (from torchtext==0.6.0) (1.22.4)\n",
            "Requirement already satisfied: idna<4,>=2.5 in /usr/local/lib/python3.10/dist-packages (from requests->torchtext==0.6.0) (3.4)\n",
            "Requirement already satisfied: urllib3<1.27,>=1.21.1 in /usr/local/lib/python3.10/dist-packages (from requests->torchtext==0.6.0) (1.26.15)\n",
            "Requirement already satisfied: certifi>=2017.4.17 in /usr/local/lib/python3.10/dist-packages (from requests->torchtext==0.6.0) (2022.12.7)\n",
            "Requirement already satisfied: charset-normalizer~=2.0.0 in /usr/local/lib/python3.10/dist-packages (from requests->torchtext==0.6.0) (2.0.12)\n",
            "Requirement already satisfied: sympy in /usr/local/lib/python3.10/dist-packages (from torch->torchtext==0.6.0) (1.11.1)\n",
            "Requirement already satisfied: filelock in /usr/local/lib/python3.10/dist-packages (from torch->torchtext==0.6.0) (3.12.0)\n",
            "Requirement already satisfied: jinja2 in /usr/local/lib/python3.10/dist-packages (from torch->torchtext==0.6.0) (3.1.2)\n",
            "Requirement already satisfied: networkx in /usr/local/lib/python3.10/dist-packages (from torch->torchtext==0.6.0) (3.1)\n",
            "Requirement already satisfied: triton==2.0.0 in /usr/local/lib/python3.10/dist-packages (from torch->torchtext==0.6.0) (2.0.0)\n",
            "Requirement already satisfied: typing-extensions in /usr/local/lib/python3.10/dist-packages (from torch->torchtext==0.6.0) (4.5.0)\n",
            "Requirement already satisfied: lit in /usr/local/lib/python3.10/dist-packages (from triton==2.0.0->torch->torchtext==0.6.0) (16.0.2)\n",
            "Requirement already satisfied: cmake in /usr/local/lib/python3.10/dist-packages (from triton==2.0.0->torch->torchtext==0.6.0) (3.25.2)\n",
            "Requirement already satisfied: MarkupSafe>=2.0 in /usr/local/lib/python3.10/dist-packages (from jinja2->torch->torchtext==0.6.0) (2.1.2)\n",
            "Requirement already satisfied: mpmath>=0.19 in /usr/local/lib/python3.10/dist-packages (from sympy->torch->torchtext==0.6.0) (1.3.0)\n"
          ]
        }
      ]
    },
    {
      "cell_type": "code",
      "source": [
        "from torchtext import data\n",
        "from torchtext import datasets\n",
        "\n",
        "TEXT = data.Field(tokenize = 'spacy',\n",
        "                  tokenizer_language = 'en_core_web_sm')"
      ],
      "metadata": {
        "id": "LSuXLXbeW-32"
      },
      "execution_count": 3,
      "outputs": []
    },
    {
      "cell_type": "code",
      "source": [
        "from google.colab import drive\n",
        "drive.mount('/content/gdrive')"
      ],
      "metadata": {
        "colab": {
          "base_uri": "https://localhost:8080/"
        },
        "id": "M4orQvE_Xlky",
        "outputId": "ef698a78-d9bd-4295-c4bc-c0be948a5ddd"
      },
      "execution_count": 4,
      "outputs": [
        {
          "output_type": "stream",
          "name": "stdout",
          "text": [
            "Drive already mounted at /content/gdrive; to attempt to forcibly remount, call drive.mount(\"/content/gdrive\", force_remount=True).\n"
          ]
        }
      ]
    },
    {
      "cell_type": "code",
      "source": [],
      "metadata": {
        "id": "tq-znlZSXl4U"
      },
      "execution_count": 4,
      "outputs": []
    },
    {
      "cell_type": "code",
      "source": [
        "import torch\n",
        "from torchtext import data\n",
        "from torchtext import datasets\n",
        "\n",
        "SEED = 1234\n",
        "\n",
        "torch.manual_seed(SEED)\n",
        "torch.backends.cudnn.deterministic = True\n"
      ],
      "metadata": {
        "id": "Q2uXyOwhXEEj"
      },
      "execution_count": 5,
      "outputs": []
    },
    {
      "cell_type": "code",
      "source": [
        "import pandas as pd\n",
        "df = pd.read_csv('/content/gdrive/MyDrive/task1.csv')"
      ],
      "metadata": {
        "id": "aYkf9JOsXK-Q"
      },
      "execution_count": 6,
      "outputs": []
    },
    {
      "cell_type": "code",
      "source": [
        "df.head()"
      ],
      "metadata": {
        "colab": {
          "base_uri": "https://localhost:8080/",
          "height": 206
        },
        "id": "_alQTa2sXQlW",
        "outputId": "f18a6dfd-c341-4074-c588-f107a0991fba"
      },
      "execution_count": 7,
      "outputs": [
        {
          "output_type": "execute_result",
          "data": {
            "text/plain": [
              "                                                  T1  \\\n",
              "0  Senegal has partnered with a UK-based health d...   \n",
              "1  the man on the phone: what's it like making hi...   \n",
              "2  , Callum Michael RebelJenna Dewan has announce...   \n",
              "3  learning to live with the coronavirus q if i h...   \n",
              "4  athletes allege abuse, racism at u. of illinoi...   \n",
              "\n",
              "                                                  T2  Same  \n",
              "0  I'm relieved that Harvey Weinstein will finall...     1  \n",
              "1  flame towers: luxury atop one of the world's t...     1  \n",
              "2  The current crop of twentysomethings are going...     1  \n",
              "3  guinea-bissau: political chaos could boost coc...     1  \n",
              "4  contact tracing is key to america's coronaviru...     1  "
            ],
            "text/html": [
              "\n",
              "  <div id=\"df-18ca6ceb-afe2-41ab-b8e2-98ffaa9988e5\">\n",
              "    <div class=\"colab-df-container\">\n",
              "      <div>\n",
              "<style scoped>\n",
              "    .dataframe tbody tr th:only-of-type {\n",
              "        vertical-align: middle;\n",
              "    }\n",
              "\n",
              "    .dataframe tbody tr th {\n",
              "        vertical-align: top;\n",
              "    }\n",
              "\n",
              "    .dataframe thead th {\n",
              "        text-align: right;\n",
              "    }\n",
              "</style>\n",
              "<table border=\"1\" class=\"dataframe\">\n",
              "  <thead>\n",
              "    <tr style=\"text-align: right;\">\n",
              "      <th></th>\n",
              "      <th>T1</th>\n",
              "      <th>T2</th>\n",
              "      <th>Same</th>\n",
              "    </tr>\n",
              "  </thead>\n",
              "  <tbody>\n",
              "    <tr>\n",
              "      <th>0</th>\n",
              "      <td>Senegal has partnered with a UK-based health d...</td>\n",
              "      <td>I'm relieved that Harvey Weinstein will finall...</td>\n",
              "      <td>1</td>\n",
              "    </tr>\n",
              "    <tr>\n",
              "      <th>1</th>\n",
              "      <td>the man on the phone: what's it like making hi...</td>\n",
              "      <td>flame towers: luxury atop one of the world's t...</td>\n",
              "      <td>1</td>\n",
              "    </tr>\n",
              "    <tr>\n",
              "      <th>2</th>\n",
              "      <td>, Callum Michael RebelJenna Dewan has announce...</td>\n",
              "      <td>The current crop of twentysomethings are going...</td>\n",
              "      <td>1</td>\n",
              "    </tr>\n",
              "    <tr>\n",
              "      <th>3</th>\n",
              "      <td>learning to live with the coronavirus q if i h...</td>\n",
              "      <td>guinea-bissau: political chaos could boost coc...</td>\n",
              "      <td>1</td>\n",
              "    </tr>\n",
              "    <tr>\n",
              "      <th>4</th>\n",
              "      <td>athletes allege abuse, racism at u. of illinoi...</td>\n",
              "      <td>contact tracing is key to america's coronaviru...</td>\n",
              "      <td>1</td>\n",
              "    </tr>\n",
              "  </tbody>\n",
              "</table>\n",
              "</div>\n",
              "      <button class=\"colab-df-convert\" onclick=\"convertToInteractive('df-18ca6ceb-afe2-41ab-b8e2-98ffaa9988e5')\"\n",
              "              title=\"Convert this dataframe to an interactive table.\"\n",
              "              style=\"display:none;\">\n",
              "        \n",
              "  <svg xmlns=\"http://www.w3.org/2000/svg\" height=\"24px\"viewBox=\"0 0 24 24\"\n",
              "       width=\"24px\">\n",
              "    <path d=\"M0 0h24v24H0V0z\" fill=\"none\"/>\n",
              "    <path d=\"M18.56 5.44l.94 2.06.94-2.06 2.06-.94-2.06-.94-.94-2.06-.94 2.06-2.06.94zm-11 1L8.5 8.5l.94-2.06 2.06-.94-2.06-.94L8.5 2.5l-.94 2.06-2.06.94zm10 10l.94 2.06.94-2.06 2.06-.94-2.06-.94-.94-2.06-.94 2.06-2.06.94z\"/><path d=\"M17.41 7.96l-1.37-1.37c-.4-.4-.92-.59-1.43-.59-.52 0-1.04.2-1.43.59L10.3 9.45l-7.72 7.72c-.78.78-.78 2.05 0 2.83L4 21.41c.39.39.9.59 1.41.59.51 0 1.02-.2 1.41-.59l7.78-7.78 2.81-2.81c.8-.78.8-2.07 0-2.86zM5.41 20L4 18.59l7.72-7.72 1.47 1.35L5.41 20z\"/>\n",
              "  </svg>\n",
              "      </button>\n",
              "      \n",
              "  <style>\n",
              "    .colab-df-container {\n",
              "      display:flex;\n",
              "      flex-wrap:wrap;\n",
              "      gap: 12px;\n",
              "    }\n",
              "\n",
              "    .colab-df-convert {\n",
              "      background-color: #E8F0FE;\n",
              "      border: none;\n",
              "      border-radius: 50%;\n",
              "      cursor: pointer;\n",
              "      display: none;\n",
              "      fill: #1967D2;\n",
              "      height: 32px;\n",
              "      padding: 0 0 0 0;\n",
              "      width: 32px;\n",
              "    }\n",
              "\n",
              "    .colab-df-convert:hover {\n",
              "      background-color: #E2EBFA;\n",
              "      box-shadow: 0px 1px 2px rgba(60, 64, 67, 0.3), 0px 1px 3px 1px rgba(60, 64, 67, 0.15);\n",
              "      fill: #174EA6;\n",
              "    }\n",
              "\n",
              "    [theme=dark] .colab-df-convert {\n",
              "      background-color: #3B4455;\n",
              "      fill: #D2E3FC;\n",
              "    }\n",
              "\n",
              "    [theme=dark] .colab-df-convert:hover {\n",
              "      background-color: #434B5C;\n",
              "      box-shadow: 0px 1px 3px 1px rgba(0, 0, 0, 0.15);\n",
              "      filter: drop-shadow(0px 1px 2px rgba(0, 0, 0, 0.3));\n",
              "      fill: #FFFFFF;\n",
              "    }\n",
              "  </style>\n",
              "\n",
              "      <script>\n",
              "        const buttonEl =\n",
              "          document.querySelector('#df-18ca6ceb-afe2-41ab-b8e2-98ffaa9988e5 button.colab-df-convert');\n",
              "        buttonEl.style.display =\n",
              "          google.colab.kernel.accessAllowed ? 'block' : 'none';\n",
              "\n",
              "        async function convertToInteractive(key) {\n",
              "          const element = document.querySelector('#df-18ca6ceb-afe2-41ab-b8e2-98ffaa9988e5');\n",
              "          const dataTable =\n",
              "            await google.colab.kernel.invokeFunction('convertToInteractive',\n",
              "                                                     [key], {});\n",
              "          if (!dataTable) return;\n",
              "\n",
              "          const docLinkHtml = 'Like what you see? Visit the ' +\n",
              "            '<a target=\"_blank\" href=https://colab.research.google.com/notebooks/data_table.ipynb>data table notebook</a>'\n",
              "            + ' to learn more about interactive tables.';\n",
              "          element.innerHTML = '';\n",
              "          dataTable['output_type'] = 'display_data';\n",
              "          await google.colab.output.renderOutput(dataTable, element);\n",
              "          const docLink = document.createElement('div');\n",
              "          docLink.innerHTML = docLinkHtml;\n",
              "          element.appendChild(docLink);\n",
              "        }\n",
              "      </script>\n",
              "    </div>\n",
              "  </div>\n",
              "  "
            ]
          },
          "metadata": {},
          "execution_count": 7
        }
      ]
    },
    {
      "cell_type": "code",
      "source": [
        "\n",
        "# TEXT = data.Field(tokenize = 'spacy', tokenizer_language = 'en_core_web_sm', include_lengths = True)\n",
        "# LABEL = data.LabelField(sequential=False, use_vocab=False, dtype = torch.float)\n",
        "\n",
        "# preprocessed_text = df['T1'].apply(\n",
        "#     lambda x: TEXT.preprocess(x)\n",
        "# )\n",
        "\n",
        "# # load fastext simple embedding with 300d\n",
        "# TEXT.build_vocab(\n",
        "#     preprocessed_text, \n",
        "#     max_size = 30000,\n",
        "#     vectors='glove.6B.50d',\n",
        "#     unk_init = torch.Tensor.normal_\n",
        "# )\n",
        "\n",
        "# vocab = TEXT.vocab\n",
        "\n"
      ],
      "metadata": {
        "id": "RPMnF2Rlh-EM"
      },
      "execution_count": 8,
      "outputs": []
    },
    {
      "cell_type": "code",
      "source": [
        "import pandas as pd\n",
        "import torch\n",
        "import torchtext.data as data\n",
        "import torchtext.vocab as vocab\n",
        "\n",
        "# Load the DataFrame\n",
        "# df = pd.read_csv('data.csv')\n",
        "\n",
        "# Create the data fields\n",
        "TEXT = data.Field(tokenize='spacy', tokenizer_language='en_core_web_sm', include_lengths=True)\n",
        "LABEL = data.LabelField(sequential=False, use_vocab=False, dtype=torch.float)\n",
        "\n",
        "preprocessed_text=[]\n",
        "# Preprocess the text and combine into tuples\n",
        "for t1,t2 in zip(df['T1'], df['T2']):\n",
        "  if type(t2)==float:\n",
        "    t2=''\n",
        "  preprocessed_text.append((TEXT.preprocess(t1), TEXT.preprocess(t2)))\n",
        "\n",
        "# preprocessed_text = [(TEXT.preprocess(t1), TEXT.preprocess(t2)) for t1, t2 in zip(df['T1'], df['T2'])]\n",
        "\n",
        "# Build the vocabulary using GloVe embeddings\n",
        "glove = vocab.GloVe(name='6B', dim=50)\n",
        "TEXT.build_vocab(preprocessed_text, max_size=30000, vectors=glove)\n",
        "\n",
        "# Extract the vocabulary\n",
        "vocab = TEXT.vocab\n"
      ],
      "metadata": {
        "id": "JDfkDocnh-HA"
      },
      "execution_count": 9,
      "outputs": []
    },
    {
      "cell_type": "code",
      "source": [
        "ltoi = {l: i for i, l in enumerate(df['Same'].unique())}"
      ],
      "metadata": {
        "id": "DiIL40R7h-Jp"
      },
      "execution_count": 10,
      "outputs": []
    },
    {
      "cell_type": "code",
      "source": [
        "ltoi"
      ],
      "metadata": {
        "colab": {
          "base_uri": "https://localhost:8080/"
        },
        "id": "8Xci7KAAh-MM",
        "outputId": "85c4765a-100c-4cd5-8450-36ac9dfebdc4"
      },
      "execution_count": 11,
      "outputs": [
        {
          "output_type": "execute_result",
          "data": {
            "text/plain": [
              "{1: 0, 0: 1}"
            ]
          },
          "metadata": {},
          "execution_count": 11
        }
      ]
    },
    {
      "cell_type": "code",
      "source": [
        "df = df.dropna()"
      ],
      "metadata": {
        "id": "0U_8a48gPccR"
      },
      "execution_count": 12,
      "outputs": []
    },
    {
      "cell_type": "code",
      "source": [
        "len(df)"
      ],
      "metadata": {
        "colab": {
          "base_uri": "https://localhost:8080/"
        },
        "id": "5eupOD93PjhK",
        "outputId": "d37a2bdb-0aef-403e-e6bc-b6a02c033e52"
      },
      "execution_count": 13,
      "outputs": [
        {
          "output_type": "execute_result",
          "data": {
            "text/plain": [
              "9996"
            ]
          },
          "metadata": {},
          "execution_count": 13
        }
      ]
    },
    {
      "cell_type": "code",
      "source": [
        "examples=[]\n",
        "for i,row in df.iterrows():\n",
        "  # print(example)\n",
        "  examples.append(data.Example.fromlist(row, fields=[('text1', TEXT),('text2', TEXT), ('label', LABEL)]))"
      ],
      "metadata": {
        "id": "5cWhf7ach-Os"
      },
      "execution_count": 14,
      "outputs": []
    },
    {
      "cell_type": "code",
      "source": [
        "# list(examples[0].text1)"
      ],
      "metadata": {
        "id": "jea4tTRQ-uAN"
      },
      "execution_count": 15,
      "outputs": []
    },
    {
      "cell_type": "code",
      "source": [
        "dataset = data.Dataset(examples, fields=[('text1', TEXT),('text2', TEXT), ('label', LABEL)])"
      ],
      "metadata": {
        "id": "nrtQ3oMSh-Rh"
      },
      "execution_count": 16,
      "outputs": []
    },
    {
      "cell_type": "code",
      "source": [
        "train_dataset, test_dataset, valid_dataset = dataset.split(split_ratio=[0.65, 0.15, 0.2], stratified=True, strata_field='label')"
      ],
      "metadata": {
        "id": "NM8th0oxxaZ7"
      },
      "execution_count": 17,
      "outputs": []
    },
    {
      "cell_type": "code",
      "source": [
        "len(train_dataset)"
      ],
      "metadata": {
        "colab": {
          "base_uri": "https://localhost:8080/"
        },
        "id": "tyJcBOT7xaXI",
        "outputId": "2cd3d3f0-cb67-482e-d686-e397820935ce"
      },
      "execution_count": 18,
      "outputs": [
        {
          "output_type": "execute_result",
          "data": {
            "text/plain": [
              "6497"
            ]
          },
          "metadata": {},
          "execution_count": 18
        }
      ]
    },
    {
      "cell_type": "code",
      "source": [
        "device = torch.device('cuda' if torch.cuda.is_available() else 'cpu')\n",
        "print(\"We are working with \", device)\n",
        "# device = 'cpu'\n",
        "train_iter, test_iter, valid_iter = data.BucketIterator.splits(\n",
        "    datasets=(train_dataset, test_dataset, valid_dataset), \n",
        "    batch_size=32,\n",
        "    sort_within_batch = True,\n",
        "    sort_key=lambda x: max(len(x.text1),len(x.text2)),\n",
        "    device=device\n",
        ")"
      ],
      "metadata": {
        "colab": {
          "base_uri": "https://localhost:8080/"
        },
        "id": "J-cWj3X8xaUf",
        "outputId": "4f84b4ae-f7b5-42d2-f40f-e0966eb5abdb"
      },
      "execution_count": 19,
      "outputs": [
        {
          "output_type": "stream",
          "name": "stdout",
          "text": [
            "We are working with  cuda\n"
          ]
        }
      ]
    },
    {
      "cell_type": "code",
      "source": [],
      "metadata": {
        "id": "fbYE3i5jxaR_"
      },
      "execution_count": 19,
      "outputs": []
    },
    {
      "cell_type": "code",
      "source": [],
      "metadata": {
        "id": "NjlKhmDkxaPP"
      },
      "execution_count": 19,
      "outputs": []
    },
    {
      "cell_type": "code",
      "source": [],
      "metadata": {
        "id": "lcNiSwLNxaMg"
      },
      "execution_count": 19,
      "outputs": []
    },
    {
      "cell_type": "code",
      "source": [],
      "metadata": {
        "id": "e0BQB0AWxaJi"
      },
      "execution_count": 19,
      "outputs": []
    },
    {
      "cell_type": "code",
      "source": [
        "import torch\n",
        "import torch.nn as nn\n",
        "import torch.optim as optim\n"
      ],
      "metadata": {
        "id": "_IMC_p9cX0g7"
      },
      "execution_count": 20,
      "outputs": []
    },
    {
      "cell_type": "code",
      "source": [
        "class SiameseNetwork(nn.Module):\n",
        "    def __init__(self, vocab_size, embedding_dim, hidden_dim):\n",
        "        super(SiameseNetwork, self).__init__()\n",
        "        self.embedding = nn.Embedding(vocab_size, embedding_dim)\n",
        "        self.lstm = nn.LSTM(embedding_dim, hidden_dim, batch_first=True)\n",
        "        self.fc = nn.Linear(hidden_dim, 1)\n",
        "\n",
        "    def forward_once(self, x):\n",
        "        # x,_ = x\n",
        "        embedded = self.embedding(x)\n",
        "        output, (hidden, cell) = self.lstm(embedded)\n",
        "        out = self.fc(hidden.squeeze(0))\n",
        "        return out\n",
        "\n",
        "    def forward(self, sentence1, sentence2):\n",
        "        output1 = self.forward_once(sentence1)\n",
        "        output2 = self.forward_once(sentence2)\n",
        "        return output1, output2"
      ],
      "metadata": {
        "id": "nMyxAzn8X86c"
      },
      "execution_count": 21,
      "outputs": []
    },
    {
      "cell_type": "code",
      "source": [
        "def train(model, train_loader, criterion, optimizer, threshold):\n",
        "    model.train()\n",
        "    loss_avg = []\n",
        "    # correct_avg = []\n",
        "    correct=0\n",
        "    total=0\n",
        "    for i, batch in enumerate(train_loader):\n",
        "        sentence1, sentence2 = batch.text1, batch.text2\n",
        "        sentence1, sentence1_lengths = sentence1\n",
        "        sentence2, sentence2_lengths = sentence2\n",
        "        sentence1 = torch.transpose(sentence1, 0, 1)\n",
        "        sentence2 = torch.transpose(sentence2, 0, 1)\n",
        "        label = batch.label.float()\n",
        "        optimizer.zero_grad()\n",
        "        output1, output2 = model(sentence1, sentence2)\n",
        "        loss = criterion(output1, output2, label)\n",
        "        loss.backward()\n",
        "        optimizer.step()\n",
        "\n",
        "        # Calculate accuracy and loss for this batch\n",
        "        # predictions = (output1 - output2) < threshold\n",
        "        # correct = (predictions == label.byte()).sum().item()\n",
        "        # accuracy = correct / label.size(0)\n",
        "        loss_avg.append(loss.item())\n",
        "        total += batch.label.size(0)\n",
        "        euclidean_distance = F.pairwise_distance(output1, output2)\n",
        "        predictions = (euclidean_distance <= threshold).float()\n",
        "        correct += (predictions == batch.label).sum().item()\n",
        "        # correct_avg.append(correct/total)\n",
        "\n",
        "    # Calculate average accuracy and loss for the epoch\n",
        "    # print(correct_avg)\n",
        "    epoch_loss = sum(loss_avg) / len(loss_avg)\n",
        "    # epoch_acc = sum(correct_avg) / len(correct_avg)\n",
        "\n",
        "    # Return accuracy and loss for the epoch\n",
        "    return 100 * correct / total, epoch_loss\n",
        "\n",
        "\n",
        "\n",
        "# def train(model, train_loader, criterion, optimizer, threshold):\n",
        "#     model.train()\n",
        "#     loss_avg=[]\n",
        "#     correct_avg=[]\n",
        "#     for i,batch in enumerate(train_loader):\n",
        "#         # print(batch.size())\n",
        "#         sentence1, sentence2 = batch.text1, batch.text2\n",
        "#         sentence1,sentence1_lengths = sentence1\n",
        "#         sentence2,sentence2_lengths = sentence2\n",
        "#         sentence1 = torch.transpose(sentence1, 0, 1)\n",
        "#         sentence2 = torch.transpose(sentence2, 0, 1)\n",
        "#         # print(sentence1.size())\n",
        "#         # print(sentence2.size())\n",
        "#         label = batch.label.float()\n",
        "#         optimizer.zero_grad()\n",
        "#         output1, output2 = model(sentence1, sentence2)\n",
        "#         # print(output1.size())\n",
        "#         # print(output2.size())\n",
        "#         # print(label.size())\n",
        "#         loss = criterion(output1, output2, label)\n",
        "#         loss.backward()\n",
        "#         optimizer.step()\n",
        "#         predicted = (euclidean_distance <= threshold).float()\n",
        "#         total += batch.label.size(0)\n",
        "#         loss_avg.append(loss.item())\n",
        "\n",
        "#         # print('Step [{}/{}], Loss: {:.4f}'.format(i+1, len(train_loader), loss.item()))\n",
        "#         # correct += (predicted == batch.label).sum().item()\n",
        "\n",
        "\n",
        "\n",
        "#     return correct*100/total, sum(loss_avg)/len(loss_avg)\n",
        "\n",
        "#     # print('Accuracy of the network on the test sentences: {} %'.format(100 * correct / total))\n",
        "\n",
        "\n",
        "\n",
        "\n"
      ],
      "metadata": {
        "id": "joVQuaY6YHkI"
      },
      "execution_count": 22,
      "outputs": []
    },
    {
      "cell_type": "code",
      "source": [
        "def test(model, test_loader, threshold):\n",
        "    model.eval()\n",
        "    correct = 0\n",
        "    total = 0\n",
        "    loss_avg = []\n",
        "    with torch.no_grad():\n",
        "        for batch in test_loader:\n",
        "            sentence1, sentence2 = batch.text1, batch.text2\n",
        "            sentence1, sentence1_lengths = sentence1\n",
        "            sentence2, sentence2_lengths = sentence2\n",
        "            sentence1 = torch.transpose(sentence1, 0, 1)\n",
        "            sentence2 = torch.transpose(sentence2, 0, 1)\n",
        "            label = batch.label.float()\n",
        "            optimizer.zero_grad()\n",
        "            output1, output2 = model(sentence1, sentence2)\n",
        "            loss = criterion(output1, output2, label)\n",
        "            loss_avg.append(loss.item())\n",
        "            # output1, output2 = model(sentence1, sentence2)\n",
        "            euclidean_distance = F.pairwise_distance(output1, output2)\n",
        "            predicted = (euclidean_distance <= threshold).float()\n",
        "            total += batch.label.size(0)\n",
        "            correct += (predicted == batch.label).sum().item()\n",
        "    # print('Accuracy of the network on the test sentences: {} %'.format(100 * correct / total))\n",
        "    return sum(loss_avg) / len(loss_avg), 100 * correct / total\n"
      ],
      "metadata": {
        "id": "R-22NLk3YKO_"
      },
      "execution_count": 23,
      "outputs": []
    },
    {
      "cell_type": "code",
      "source": [
        "import torch.nn as nn\n",
        "import torch.nn.functional as F\n",
        "\n",
        "\n",
        "class ContrastiveLoss(nn.Module):\n",
        "    def __init__(self, margin=1.0):\n",
        "        super(ContrastiveLoss, self).__init__()\n",
        "        self.margin = margin\n",
        "\n",
        "    def forward(self, output1, output2, label):\n",
        "        euclidean_distance = F.pairwise_distance(output1, output2, keepdim=True)\n",
        "        loss_contrastive = torch.mean((1-label) * torch.pow(euclidean_distance, 2) +\n",
        "                                      (label) * torch.pow(torch.clamp(self.margin - euclidean_distance, min=0.0), 2))\n",
        "\n",
        "        return loss_contrastive\n"
      ],
      "metadata": {
        "id": "pxPr6ICbYTy7"
      },
      "execution_count": 24,
      "outputs": []
    },
    {
      "cell_type": "code",
      "source": [],
      "metadata": {
        "id": "1q-Qe-4Aa7NG"
      },
      "execution_count": 24,
      "outputs": []
    },
    {
      "cell_type": "code",
      "source": [
        "device = torch.device('cuda' if torch.cuda.is_available() else 'cpu')\n"
      ],
      "metadata": {
        "id": "pOT_lTHMd80A"
      },
      "execution_count": 25,
      "outputs": []
    },
    {
      "cell_type": "code",
      "source": [
        "import torch.optim as optim\n",
        "from torch.utils.data import DataLoader\n",
        "\n",
        "# Define batch size\n",
        "# batch_size = 32\n",
        "# def collate_fn(batch):\n",
        "#     text1 = torch.cat([x.text1 for x in batch], dim=1)\n",
        "#     text2 = torch.cat([x.text2 for x in batch], dim=1)\n",
        "#     label = torch.cat([x.label for x in batch])\n",
        "#     return text1, text2, label\n",
        "\n",
        "\n",
        "# # Create data loaders\n",
        "# train_loader = DataLoader(train_iter, batch_size=batch_size, shuffle=True,collate_fn=collate_fn)\n",
        "# test_loader = DataLoader(test_iter, batch_size=batch_size,collate_fn=collate_fn)\n",
        "# valid_loader = DataLoader(valid_iter, batch_size=batch_size,collate_fn=collate_fn)\n"
      ],
      "metadata": {
        "id": "XiyRjmjNfhbI"
      },
      "execution_count": 26,
      "outputs": []
    },
    {
      "cell_type": "code",
      "source": [
        "embedding_dim = 50\n",
        "hidden_dim = 50\n",
        "dropout = 0.2\n",
        "lr = 0.001\n",
        "num_epochs = 10\n",
        "\n",
        "# Initialize the model and move it to the device\n",
        "model = SiameseNetwork(len(TEXT.vocab), embedding_dim, hidden_dim)\n",
        "model.to(device)\n",
        "\n",
        "# Define loss function and optimizer\n",
        "criterion = ContrastiveLoss(margin=1)\n",
        "optimizer = optim.Adam(model.parameters(), lr=lr)\n"
      ],
      "metadata": {
        "id": "xdJPp_3Uhiy4"
      },
      "execution_count": 27,
      "outputs": []
    },
    {
      "cell_type": "code",
      "source": [
        "# for epoch in range(num_epochs):\n",
        "#     train(model, train_iter, criterion, optimizer, threshold=0.5)\n",
        "#     print(f\"Epoch {epoch+1} completed\")\n",
        "\n",
        "#     # Evaluate the model on validation set\n",
        "#     val_loss, val_acc = test(model, valid_iter, criterion)\n",
        "#     print(f\"Validation Loss: {val_loss:.4f}, Validation Accuracy: {val_acc:.4f}\")\n",
        "\n",
        "for epoch in range(num_epochs):\n",
        "    train_acc, train_loss = train(model, train_iter, criterion, optimizer, threshold=0.5)\n",
        "    print(f\"Epoch {epoch+1} completed. Train Loss: {train_loss:.4f}, Train Accuracy: {train_acc:.4f}\")\n",
        "\n",
        "    # Evaluate the model on validation setr\n",
        "    val_loss, val_acc = test(model, valid_iter, 0.5)\n",
        "    print(f\"Validation Loss: {val_loss:.4f}, Validation Accuracy: {val_acc:.4f}\")\n",
        "\n"
      ],
      "metadata": {
        "colab": {
          "base_uri": "https://localhost:8080/"
        },
        "id": "LMe4jBuIhqPt",
        "outputId": "3e2593ca-1d57-40fc-b7a5-406d1ff7ab30"
      },
      "execution_count": 28,
      "outputs": [
        {
          "output_type": "stream",
          "name": "stdout",
          "text": [
            "Epoch 1 completed. Train Loss: 0.3382, Train Accuracy: 56.6723\n",
            "Validation Loss: 0.3271, Validation Accuracy: 59.0000\n",
            "Epoch 2 completed. Train Loss: 0.3087, Train Accuracy: 60.3355\n",
            "Validation Loss: 0.3428, Validation Accuracy: 59.1333\n",
            "Epoch 3 completed. Train Loss: 0.3055, Train Accuracy: 59.7507\n",
            "Validation Loss: 0.3298, Validation Accuracy: 58.1333\n",
            "Epoch 4 completed. Train Loss: 0.2986, Train Accuracy: 60.0277\n",
            "Validation Loss: 0.3344, Validation Accuracy: 54.0000\n",
            "Epoch 5 completed. Train Loss: 0.2975, Train Accuracy: 57.5189\n",
            "Validation Loss: 0.3302, Validation Accuracy: 59.3333\n",
            "Epoch 6 completed. Train Loss: 0.2939, Train Accuracy: 55.5487\n",
            "Validation Loss: 0.3235, Validation Accuracy: 59.6667\n",
            "Epoch 7 completed. Train Loss: 0.2917, Train Accuracy: 54.6098\n",
            "Validation Loss: 0.3256, Validation Accuracy: 57.9333\n",
            "Epoch 8 completed. Train Loss: 0.2851, Train Accuracy: 52.6859\n",
            "Validation Loss: 0.3295, Validation Accuracy: 57.0000\n",
            "Epoch 9 completed. Train Loss: 0.2808, Train Accuracy: 53.2092\n",
            "Validation Loss: 0.3210, Validation Accuracy: 58.4667\n",
            "Epoch 10 completed. Train Loss: 0.2794, Train Accuracy: 50.5772\n",
            "Validation Loss: 0.3185, Validation Accuracy: 58.4000\n"
          ]
        }
      ]
    },
    {
      "cell_type": "code",
      "source": [],
      "metadata": {
        "id": "QlDaYL86-eT2"
      },
      "execution_count": 28,
      "outputs": []
    },
    {
      "cell_type": "code",
      "source": [],
      "metadata": {
        "id": "bJlMxiveO0Tl"
      },
      "execution_count": 28,
      "outputs": []
    }
  ]
}