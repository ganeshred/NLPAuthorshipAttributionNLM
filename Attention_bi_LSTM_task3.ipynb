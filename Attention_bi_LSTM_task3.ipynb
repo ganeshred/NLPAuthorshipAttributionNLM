{
  "nbformat": 4,
  "nbformat_minor": 0,
  "metadata": {
    "colab": {
      "provenance": [],
      "gpuType": "T4",
      "include_colab_link": true
    },
    "kernelspec": {
      "name": "python3",
      "display_name": "Python 3"
    },
    "language_info": {
      "name": "python"
    },
    "gpuClass": "standard",
    "accelerator": "GPU"
  },
  "cells": [
    {
      "cell_type": "markdown",
      "metadata": {
        "id": "view-in-github",
        "colab_type": "text"
      },
      "source": [
        "<a href=\"https://colab.research.google.com/github/ganeshred/NLPAuthorshipAttributionNLM/blob/main/Attention_bi_LSTM_task3.ipynb\" target=\"_parent\"><img src=\"https://colab.research.google.com/assets/colab-badge.svg\" alt=\"Open In Colab\"/></a>"
      ]
    },
    {
      "cell_type": "code",
      "source": [
        "# !apt-get update -y\n",
        "# !apt-get install python3.9 python3.9-dev python3.9-distutils libpython3.9-dev\n",
        "\n",
        "# !update-alternatives --install /usr/bin/python3 python3 /usr/bin/python3.8 1\n",
        "# !update-alternatives --install /usr/bin/python3 python3 /usr/bin/python3.9 2\n",
        "\n",
        "# !update-alternatives --config python3\n"
      ],
      "metadata": {
        "id": "sHwU7iodqGy6"
      },
      "execution_count": null,
      "outputs": []
    },
    {
      "cell_type": "code",
      "source": [
        "# !curl https://bootstrap.pypa.io/get-pip.py -o get-pip.py\n",
        "# !python3 get-pip.py --force-reinstall\n",
        "\n"
      ],
      "metadata": {
        "id": "gEw2Dax8qIdO"
      },
      "execution_count": null,
      "outputs": []
    },
    {
      "cell_type": "code",
      "source": [
        "!python --version"
      ],
      "metadata": {
        "colab": {
          "base_uri": "https://localhost:8080/"
        },
        "id": "p64rIpvTqIf7",
        "outputId": "4d9447c3-41e9-41da-caf1-f5afc6488548"
      },
      "execution_count": 1,
      "outputs": [
        {
          "output_type": "stream",
          "name": "stdout",
          "text": [
            "Python 3.10.11\n"
          ]
        }
      ]
    },
    {
      "cell_type": "code",
      "source": [
        "# !pip freeze | grep torch"
      ],
      "metadata": {
        "id": "5WslcBXMqIiv"
      },
      "execution_count": null,
      "outputs": []
    },
    {
      "cell_type": "code",
      "source": [
        "# !pip uninstall torch\n",
        "# !pip install torch==1.8.0\n",
        "# !pip uninstall torchtext\n",
        "# !pip install torchtext==0.10.1\n"
      ],
      "metadata": {
        "id": "u3gH2gceuLtY"
      },
      "execution_count": null,
      "outputs": []
    },
    {
      "cell_type": "code",
      "source": [
        "!pip install torchtext==0.6.0"
      ],
      "metadata": {
        "colab": {
          "base_uri": "https://localhost:8080/"
        },
        "id": "5G4Pj56oNRv0",
        "outputId": "71b2a461-09e5-4ed1-b0ed-74fd2ff6b81f"
      },
      "execution_count": 2,
      "outputs": [
        {
          "output_type": "stream",
          "name": "stdout",
          "text": [
            "Looking in indexes: https://pypi.org/simple, https://us-python.pkg.dev/colab-wheels/public/simple/\n",
            "Collecting torchtext==0.6.0\n",
            "  Downloading torchtext-0.6.0-py3-none-any.whl (64 kB)\n",
            "\u001b[2K     \u001b[90m━━━━━━━━━━━━━━━━━━━━━━━━━━━━━━━━━━━━━━━━\u001b[0m \u001b[32m64.2/64.2 kB\u001b[0m \u001b[31m1.4 MB/s\u001b[0m eta \u001b[36m0:00:00\u001b[0m\n",
            "\u001b[?25hRequirement already satisfied: tqdm in /usr/local/lib/python3.10/dist-packages (from torchtext==0.6.0) (4.65.0)\n",
            "Requirement already satisfied: requests in /usr/local/lib/python3.10/dist-packages (from torchtext==0.6.0) (2.27.1)\n",
            "Requirement already satisfied: torch in /usr/local/lib/python3.10/dist-packages (from torchtext==0.6.0) (2.0.0+cu118)\n",
            "Requirement already satisfied: numpy in /usr/local/lib/python3.10/dist-packages (from torchtext==0.6.0) (1.22.4)\n",
            "Requirement already satisfied: six in /usr/local/lib/python3.10/dist-packages (from torchtext==0.6.0) (1.16.0)\n",
            "Collecting sentencepiece (from torchtext==0.6.0)\n",
            "  Downloading sentencepiece-0.1.99-cp310-cp310-manylinux_2_17_x86_64.manylinux2014_x86_64.whl (1.3 MB)\n",
            "\u001b[2K     \u001b[90m━━━━━━━━━━━━━━━━━━━━━━━━━━━━━━━━━━━━━━━━\u001b[0m \u001b[32m1.3/1.3 MB\u001b[0m \u001b[31m15.3 MB/s\u001b[0m eta \u001b[36m0:00:00\u001b[0m\n",
            "\u001b[?25hRequirement already satisfied: urllib3<1.27,>=1.21.1 in /usr/local/lib/python3.10/dist-packages (from requests->torchtext==0.6.0) (1.26.15)\n",
            "Requirement already satisfied: certifi>=2017.4.17 in /usr/local/lib/python3.10/dist-packages (from requests->torchtext==0.6.0) (2022.12.7)\n",
            "Requirement already satisfied: charset-normalizer~=2.0.0 in /usr/local/lib/python3.10/dist-packages (from requests->torchtext==0.6.0) (2.0.12)\n",
            "Requirement already satisfied: idna<4,>=2.5 in /usr/local/lib/python3.10/dist-packages (from requests->torchtext==0.6.0) (3.4)\n",
            "Requirement already satisfied: filelock in /usr/local/lib/python3.10/dist-packages (from torch->torchtext==0.6.0) (3.12.0)\n",
            "Requirement already satisfied: typing-extensions in /usr/local/lib/python3.10/dist-packages (from torch->torchtext==0.6.0) (4.5.0)\n",
            "Requirement already satisfied: sympy in /usr/local/lib/python3.10/dist-packages (from torch->torchtext==0.6.0) (1.11.1)\n",
            "Requirement already satisfied: networkx in /usr/local/lib/python3.10/dist-packages (from torch->torchtext==0.6.0) (3.1)\n",
            "Requirement already satisfied: jinja2 in /usr/local/lib/python3.10/dist-packages (from torch->torchtext==0.6.0) (3.1.2)\n",
            "Requirement already satisfied: triton==2.0.0 in /usr/local/lib/python3.10/dist-packages (from torch->torchtext==0.6.0) (2.0.0)\n",
            "Requirement already satisfied: cmake in /usr/local/lib/python3.10/dist-packages (from triton==2.0.0->torch->torchtext==0.6.0) (3.25.2)\n",
            "Requirement already satisfied: lit in /usr/local/lib/python3.10/dist-packages (from triton==2.0.0->torch->torchtext==0.6.0) (16.0.3)\n",
            "Requirement already satisfied: MarkupSafe>=2.0 in /usr/local/lib/python3.10/dist-packages (from jinja2->torch->torchtext==0.6.0) (2.1.2)\n",
            "Requirement already satisfied: mpmath>=0.19 in /usr/local/lib/python3.10/dist-packages (from sympy->torch->torchtext==0.6.0) (1.3.0)\n",
            "Installing collected packages: sentencepiece, torchtext\n",
            "  Attempting uninstall: torchtext\n",
            "    Found existing installation: torchtext 0.15.1\n",
            "    Uninstalling torchtext-0.15.1:\n",
            "      Successfully uninstalled torchtext-0.15.1\n",
            "Successfully installed sentencepiece-0.1.99 torchtext-0.6.0\n"
          ]
        }
      ]
    },
    {
      "cell_type": "code",
      "source": [
        "from torchtext import data\n",
        "from torchtext import datasets"
      ],
      "metadata": {
        "id": "EsvyuxhCqG9C"
      },
      "execution_count": 3,
      "outputs": []
    },
    {
      "cell_type": "code",
      "source": [
        "# TEXT = data.Field(tokenize = 'spacy', include_lengths = True)\n",
        "TEXT = data.Field(tokenize = 'spacy',\n",
        "                  tokenizer_language = 'en_core_web_sm')\n"
      ],
      "metadata": {
        "id": "UCK3LzXeqG_z"
      },
      "execution_count": 4,
      "outputs": []
    },
    {
      "cell_type": "code",
      "source": [],
      "metadata": {
        "id": "V9A4da5Nyt4h"
      },
      "execution_count": 4,
      "outputs": []
    },
    {
      "cell_type": "code",
      "source": [],
      "metadata": {
        "id": "jhyZ_-vkyt1u"
      },
      "execution_count": 4,
      "outputs": []
    },
    {
      "cell_type": "code",
      "source": [],
      "metadata": {
        "id": "opmMLbMKytyk"
      },
      "execution_count": 4,
      "outputs": []
    },
    {
      "cell_type": "code",
      "source": [],
      "metadata": {
        "id": "DdYlezsAytWr"
      },
      "execution_count": 4,
      "outputs": []
    },
    {
      "cell_type": "code",
      "source": [
        "\n",
        "from google.colab import drive\n",
        "drive.mount('/content/gdrive')"
      ],
      "metadata": {
        "colab": {
          "base_uri": "https://localhost:8080/"
        },
        "id": "CerFcqhYNeo5",
        "outputId": "c13f7991-8a0f-4486-f6b4-48c91f55d0b3"
      },
      "execution_count": 5,
      "outputs": [
        {
          "output_type": "stream",
          "name": "stdout",
          "text": [
            "Mounted at /content/gdrive\n"
          ]
        }
      ]
    },
    {
      "cell_type": "code",
      "source": [],
      "metadata": {
        "id": "HFuLdHxYanUJ"
      },
      "execution_count": null,
      "outputs": []
    },
    {
      "cell_type": "code",
      "source": [
        "import torch\n",
        "from torchtext import data\n",
        "from torchtext import datasets\n",
        "\n",
        "SEED = 1234\n",
        "\n",
        "torch.manual_seed(SEED)\n",
        "torch.backends.cudnn.deterministic = True\n",
        "\n",
        "TEXT = data.Field(tokenize = 'spacy',tokenizer_language = 'en_core_web_sm', include_lengths = True)\n",
        "LABEL = data.LabelField(dtype = torch.float)"
      ],
      "metadata": {
        "id": "2f31E7biNer0"
      },
      "execution_count": 6,
      "outputs": []
    },
    {
      "cell_type": "code",
      "source": [
        "import pandas as pd"
      ],
      "metadata": {
        "id": "869PvF4WNeuv"
      },
      "execution_count": 7,
      "outputs": []
    },
    {
      "cell_type": "code",
      "source": [
        "df = pd.read_csv('/content/gdrive/MyDrive/Task3.csv')"
      ],
      "metadata": {
        "id": "6n41G-m4Nexk"
      },
      "execution_count": 8,
      "outputs": []
    },
    {
      "cell_type": "code",
      "source": [
        "len(df)"
      ],
      "metadata": {
        "colab": {
          "base_uri": "https://localhost:8080/"
        },
        "id": "JvnIozbaNe0T",
        "outputId": "17e9749f-31ce-4e96-d377-33ddf79fd906"
      },
      "execution_count": 9,
      "outputs": [
        {
          "output_type": "execute_result",
          "data": {
            "text/plain": [
              "11726"
            ]
          },
          "metadata": {},
          "execution_count": 9
        }
      ]
    },
    {
      "cell_type": "code",
      "source": [
        "df.head()"
      ],
      "metadata": {
        "colab": {
          "base_uri": "https://localhost:8080/",
          "height": 206
        },
        "id": "mqStd4TeNe3O",
        "outputId": "b66a02e0-abe9-4134-db46-397dc601b01d"
      },
      "execution_count": 10,
      "outputs": [
        {
          "output_type": "execute_result",
          "data": {
            "text/plain": [
              "                                          Generation        label  label_int\n",
              "0  Flint man facing 10 dog fighting and drug deal...       grover          5\n",
              "1  the 30 most troubling lines from donald trump ...         ctrl          0\n",
              "2  Wakayama rafting is a type of traditional raft...  instructgpt          7\n",
              "3  The movies that predicted an outbreak like cor...       grover          5\n",
              "4  companies that pay taxes are allowed to use ta...         pplm          8"
            ],
            "text/html": [
              "\n",
              "  <div id=\"df-4eaa458e-38fb-4b7f-ae4f-96bddd3a5b6a\">\n",
              "    <div class=\"colab-df-container\">\n",
              "      <div>\n",
              "<style scoped>\n",
              "    .dataframe tbody tr th:only-of-type {\n",
              "        vertical-align: middle;\n",
              "    }\n",
              "\n",
              "    .dataframe tbody tr th {\n",
              "        vertical-align: top;\n",
              "    }\n",
              "\n",
              "    .dataframe thead th {\n",
              "        text-align: right;\n",
              "    }\n",
              "</style>\n",
              "<table border=\"1\" class=\"dataframe\">\n",
              "  <thead>\n",
              "    <tr style=\"text-align: right;\">\n",
              "      <th></th>\n",
              "      <th>Generation</th>\n",
              "      <th>label</th>\n",
              "      <th>label_int</th>\n",
              "    </tr>\n",
              "  </thead>\n",
              "  <tbody>\n",
              "    <tr>\n",
              "      <th>0</th>\n",
              "      <td>Flint man facing 10 dog fighting and drug deal...</td>\n",
              "      <td>grover</td>\n",
              "      <td>5</td>\n",
              "    </tr>\n",
              "    <tr>\n",
              "      <th>1</th>\n",
              "      <td>the 30 most troubling lines from donald trump ...</td>\n",
              "      <td>ctrl</td>\n",
              "      <td>0</td>\n",
              "    </tr>\n",
              "    <tr>\n",
              "      <th>2</th>\n",
              "      <td>Wakayama rafting is a type of traditional raft...</td>\n",
              "      <td>instructgpt</td>\n",
              "      <td>7</td>\n",
              "    </tr>\n",
              "    <tr>\n",
              "      <th>3</th>\n",
              "      <td>The movies that predicted an outbreak like cor...</td>\n",
              "      <td>grover</td>\n",
              "      <td>5</td>\n",
              "    </tr>\n",
              "    <tr>\n",
              "      <th>4</th>\n",
              "      <td>companies that pay taxes are allowed to use ta...</td>\n",
              "      <td>pplm</td>\n",
              "      <td>8</td>\n",
              "    </tr>\n",
              "  </tbody>\n",
              "</table>\n",
              "</div>\n",
              "      <button class=\"colab-df-convert\" onclick=\"convertToInteractive('df-4eaa458e-38fb-4b7f-ae4f-96bddd3a5b6a')\"\n",
              "              title=\"Convert this dataframe to an interactive table.\"\n",
              "              style=\"display:none;\">\n",
              "        \n",
              "  <svg xmlns=\"http://www.w3.org/2000/svg\" height=\"24px\"viewBox=\"0 0 24 24\"\n",
              "       width=\"24px\">\n",
              "    <path d=\"M0 0h24v24H0V0z\" fill=\"none\"/>\n",
              "    <path d=\"M18.56 5.44l.94 2.06.94-2.06 2.06-.94-2.06-.94-.94-2.06-.94 2.06-2.06.94zm-11 1L8.5 8.5l.94-2.06 2.06-.94-2.06-.94L8.5 2.5l-.94 2.06-2.06.94zm10 10l.94 2.06.94-2.06 2.06-.94-2.06-.94-.94-2.06-.94 2.06-2.06.94z\"/><path d=\"M17.41 7.96l-1.37-1.37c-.4-.4-.92-.59-1.43-.59-.52 0-1.04.2-1.43.59L10.3 9.45l-7.72 7.72c-.78.78-.78 2.05 0 2.83L4 21.41c.39.39.9.59 1.41.59.51 0 1.02-.2 1.41-.59l7.78-7.78 2.81-2.81c.8-.78.8-2.07 0-2.86zM5.41 20L4 18.59l7.72-7.72 1.47 1.35L5.41 20z\"/>\n",
              "  </svg>\n",
              "      </button>\n",
              "      \n",
              "  <style>\n",
              "    .colab-df-container {\n",
              "      display:flex;\n",
              "      flex-wrap:wrap;\n",
              "      gap: 12px;\n",
              "    }\n",
              "\n",
              "    .colab-df-convert {\n",
              "      background-color: #E8F0FE;\n",
              "      border: none;\n",
              "      border-radius: 50%;\n",
              "      cursor: pointer;\n",
              "      display: none;\n",
              "      fill: #1967D2;\n",
              "      height: 32px;\n",
              "      padding: 0 0 0 0;\n",
              "      width: 32px;\n",
              "    }\n",
              "\n",
              "    .colab-df-convert:hover {\n",
              "      background-color: #E2EBFA;\n",
              "      box-shadow: 0px 1px 2px rgba(60, 64, 67, 0.3), 0px 1px 3px 1px rgba(60, 64, 67, 0.15);\n",
              "      fill: #174EA6;\n",
              "    }\n",
              "\n",
              "    [theme=dark] .colab-df-convert {\n",
              "      background-color: #3B4455;\n",
              "      fill: #D2E3FC;\n",
              "    }\n",
              "\n",
              "    [theme=dark] .colab-df-convert:hover {\n",
              "      background-color: #434B5C;\n",
              "      box-shadow: 0px 1px 3px 1px rgba(0, 0, 0, 0.15);\n",
              "      filter: drop-shadow(0px 1px 2px rgba(0, 0, 0, 0.3));\n",
              "      fill: #FFFFFF;\n",
              "    }\n",
              "  </style>\n",
              "\n",
              "      <script>\n",
              "        const buttonEl =\n",
              "          document.querySelector('#df-4eaa458e-38fb-4b7f-ae4f-96bddd3a5b6a button.colab-df-convert');\n",
              "        buttonEl.style.display =\n",
              "          google.colab.kernel.accessAllowed ? 'block' : 'none';\n",
              "\n",
              "        async function convertToInteractive(key) {\n",
              "          const element = document.querySelector('#df-4eaa458e-38fb-4b7f-ae4f-96bddd3a5b6a');\n",
              "          const dataTable =\n",
              "            await google.colab.kernel.invokeFunction('convertToInteractive',\n",
              "                                                     [key], {});\n",
              "          if (!dataTable) return;\n",
              "\n",
              "          const docLinkHtml = 'Like what you see? Visit the ' +\n",
              "            '<a target=\"_blank\" href=https://colab.research.google.com/notebooks/data_table.ipynb>data table notebook</a>'\n",
              "            + ' to learn more about interactive tables.';\n",
              "          element.innerHTML = '';\n",
              "          dataTable['output_type'] = 'display_data';\n",
              "          await google.colab.output.renderOutput(dataTable, element);\n",
              "          const docLink = document.createElement('div');\n",
              "          docLink.innerHTML = docLinkHtml;\n",
              "          element.appendChild(docLink);\n",
              "        }\n",
              "      </script>\n",
              "    </div>\n",
              "  </div>\n",
              "  "
            ]
          },
          "metadata": {},
          "execution_count": 10
        }
      ]
    },
    {
      "cell_type": "code",
      "source": [
        "df = df[['Generation','label']]"
      ],
      "metadata": {
        "id": "6Be0yF6sNe6A"
      },
      "execution_count": 11,
      "outputs": []
    },
    {
      "cell_type": "code",
      "source": [
        "df[['Generation']] = df[['Generation']]. astype(str)"
      ],
      "metadata": {
        "id": "Z-yGAkfcNe80"
      },
      "execution_count": 12,
      "outputs": []
    },
    {
      "cell_type": "code",
      "execution_count": 13,
      "metadata": {
        "colab": {
          "base_uri": "https://localhost:8080/"
        },
        "id": "UNZ4SOoGKjm3",
        "outputId": "c4e13fb0-523e-4584-c150-c2e9c9cde21b"
      },
      "outputs": [
        {
          "output_type": "stream",
          "name": "stderr",
          "text": [
            ".vector_cache/glove.6B.zip: 862MB [02:39, 5.40MB/s]                           \n",
            "100%|█████████▉| 399999/400000 [00:13<00:00, 29569.45it/s]\n"
          ]
        }
      ],
      "source": [
        "# text_field = data.Field(\n",
        "#     sequential=True,\n",
        "#     tokenize='basic_english', \n",
        "#     fix_length=500,\n",
        "#     lower=True\n",
        "# )\n",
        "TEXT = data.Field(tokenize = 'spacy', tokenizer_language = 'en_core_web_sm', include_lengths = True)\n",
        "LABEL = data.LabelField(sequential=False, use_vocab=False, dtype = torch.float)\n",
        "\n",
        "# label_field = data.Field(sequential=False, use_vocab=False)\n",
        "\n",
        "# sadly have to apply preprocess manually\n",
        "preprocessed_text = df['Generation'].apply(\n",
        "    lambda x: TEXT.preprocess(x)\n",
        ")\n",
        "\n",
        "# load fastext simple embedding with 300d\n",
        "TEXT.build_vocab(\n",
        "    preprocessed_text, \n",
        "    max_size = 30000,\n",
        "    vectors='glove.6B.50d',\n",
        "    unk_init = torch.Tensor.normal_\n",
        ")\n",
        "\n",
        "# get the vocab instance\n",
        "vocab = TEXT.vocab"
      ]
    },
    {
      "cell_type": "code",
      "source": [
        "ltoi = {l: i for i, l in enumerate(df['label'].unique())}"
      ],
      "metadata": {
        "id": "7fo-4PymNKox"
      },
      "execution_count": 14,
      "outputs": []
    },
    {
      "cell_type": "code",
      "source": [
        "df['label1'] = df['label'].apply(lambda y: ltoi[y])\n",
        "\n",
        "class DataFrameDataset(data.Dataset):\n",
        "    def __init__(self, df: pd.DataFrame, fields: list):\n",
        "        super(DataFrameDataset, self).__init__(\n",
        "            [\n",
        "                data.Example.fromlist(list(r), fields) \n",
        "                for i, r in df.iterrows()\n",
        "            ], \n",
        "            fields\n",
        "        )"
      ],
      "metadata": {
        "id": "hlf6Q7ioSuzm"
      },
      "execution_count": 15,
      "outputs": []
    },
    {
      "cell_type": "code",
      "source": [
        "df1=df[['Generation','label1']]"
      ],
      "metadata": {
        "id": "n7EivRJkWJAA"
      },
      "execution_count": 16,
      "outputs": []
    },
    {
      "cell_type": "code",
      "source": [
        "examples=[]\n",
        "for i,row in df1.iterrows():\n",
        "  # print(example)\n",
        "  examples.append(data.Example.fromlist(row, fields=[('text', TEXT), ('label', LABEL)]))"
      ],
      "metadata": {
        "id": "ykBCGeBlWoY6"
      },
      "execution_count": 17,
      "outputs": []
    },
    {
      "cell_type": "code",
      "source": [
        "# examples[2000].label\n",
        "c=0\n",
        "for i in examples:\n",
        "  if type(i.label) != int:\n",
        "    c+=1"
      ],
      "metadata": {
        "id": "yKl9xYuWYWbI"
      },
      "execution_count": 18,
      "outputs": []
    },
    {
      "cell_type": "code",
      "source": [
        "c"
      ],
      "metadata": {
        "colab": {
          "base_uri": "https://localhost:8080/"
        },
        "id": "lL6ysKUOePcV",
        "outputId": "c1baa464-8655-4df1-8b59-88f725bec8a6"
      },
      "execution_count": 19,
      "outputs": [
        {
          "output_type": "execute_result",
          "data": {
            "text/plain": [
              "0"
            ]
          },
          "metadata": {},
          "execution_count": 19
        }
      ]
    },
    {
      "cell_type": "code",
      "source": [
        "dataset = data.Dataset(examples, fields=[('text', TEXT), ('label', LABEL)])"
      ],
      "metadata": {
        "id": "SludIWxDW1TI"
      },
      "execution_count": 20,
      "outputs": []
    },
    {
      "cell_type": "code",
      "source": [
        "train_dataset, test_dataset, valid_dataset = dataset.split(split_ratio=[0.65, 0.15, 0.2], stratified=True, strata_field='label')"
      ],
      "metadata": {
        "id": "VnPGmyi0W8d2"
      },
      "execution_count": 21,
      "outputs": []
    },
    {
      "cell_type": "code",
      "source": [
        "len(train_dataset)"
      ],
      "metadata": {
        "colab": {
          "base_uri": "https://localhost:8080/"
        },
        "id": "hgkg66ZGX6-R",
        "outputId": "c99565e6-9de3-47a3-bc92-d0db558c7008"
      },
      "execution_count": 22,
      "outputs": [
        {
          "output_type": "execute_result",
          "data": {
            "text/plain": [
              "7623"
            ]
          },
          "metadata": {},
          "execution_count": 22
        }
      ]
    },
    {
      "cell_type": "code",
      "source": [],
      "metadata": {
        "id": "p8Co6x6lWD5i"
      },
      "execution_count": null,
      "outputs": []
    },
    {
      "cell_type": "code",
      "source": [
        "ltoi"
      ],
      "metadata": {
        "colab": {
          "base_uri": "https://localhost:8080/"
        },
        "id": "xbOzHGfaSx0l",
        "outputId": "95c5b67d-fd43-4b2d-832b-f89b589e8085"
      },
      "execution_count": 23,
      "outputs": [
        {
          "output_type": "execute_result",
          "data": {
            "text/plain": [
              "{'grover': 0,\n",
              " 'ctrl': 1,\n",
              " 'instructgpt': 2,\n",
              " 'pplm': 3,\n",
              " 'gpt2': 4,\n",
              " 'xlnet': 5,\n",
              " 'gpt': 6,\n",
              " 'xlm': 7,\n",
              " 'human': 8,\n",
              " 'gpt3': 9,\n",
              " 'fair': 10}"
            ]
          },
          "metadata": {},
          "execution_count": 23
        }
      ]
    },
    {
      "cell_type": "code",
      "source": [
        "device = torch.device('cuda' if torch.cuda.is_available() else 'cpu')\n",
        "print(\"We are working with \", device)\n",
        "# device = 'cpu'\n",
        "train_iter, test_iter, valid_iter = data.BucketIterator.splits(\n",
        "    datasets=(train_dataset, test_dataset, valid_dataset), \n",
        "    batch_size=32,\n",
        "    sort_within_batch = True,\n",
        "    sort_key=lambda x: len(x.text),\n",
        "    device=device\n",
        ")"
      ],
      "metadata": {
        "colab": {
          "base_uri": "https://localhost:8080/"
        },
        "id": "JE5GcV87TO-7",
        "outputId": "d95115e3-2962-4cb7-c7d8-1dff6713aa53"
      },
      "execution_count": 24,
      "outputs": [
        {
          "output_type": "stream",
          "name": "stdout",
          "text": [
            "We are working with  cuda\n"
          ]
        }
      ]
    },
    {
      "cell_type": "code",
      "source": [],
      "metadata": {
        "id": "CXumcJOZTSuh"
      },
      "execution_count": null,
      "outputs": []
    },
    {
      "cell_type": "code",
      "source": [],
      "metadata": {
        "id": "D_CtpAOWvV9a"
      },
      "execution_count": null,
      "outputs": []
    },
    {
      "cell_type": "code",
      "source": [
        "import torch.nn as nn\n",
        "\n",
        "class Attention(nn.Module):\n",
        "    def __init__(self, hidden_size):\n",
        "        super(Attention, self).__init__()\n",
        "        self.hidden_size = hidden_size\n",
        "        self.attn = nn.Linear(self.hidden_size * 2, self.hidden_size)\n",
        "        self.v = nn.Linear(self.hidden_size, 1, bias=False)\n",
        "        \n",
        "    def forward(self, hidden, encoder_outputs):\n",
        "        # hidden = [batch size, hidden size]\n",
        "        # encoder_outputs = [src sent len, batch size, hidden size]\n",
        "        batch_size = encoder_outputs.shape[1]\n",
        "        src_len = encoder_outputs.shape[0]\n",
        "        # print(hidden.shape)\n",
        "        # repeat the last hidden state of the decoder\n",
        "        hidden = hidden.unsqueeze(1).repeat(1, src_len, 1)\n",
        "\n",
        "        # print(hidden.shape)\n",
        "        # print(encoder_outputs.transpose(1,0).shape)\n",
        "\n",
        "        # # hidden = hidden.transpose(1, 0)\n",
        "\n",
        "        # print(hidden.shape)\n",
        "        \n",
        "        # concatenate hidden and encoder_outputs\n",
        "        energy = torch.tanh(self.attn(torch.cat((hidden, encoder_outputs.transpose(1,0)), dim=2))) \n",
        "        \n",
        "        # compute attention scores\n",
        "        attention = self.v(energy).squeeze(2)\n",
        "        attention = torch.softmax(attention, dim=1).unsqueeze(1)\n",
        "        # compute context vector\n",
        "        # print(attention.shape)\n",
        "        # print(encoder_outputs.shape)\n",
        "        context = torch.bmm(attention, encoder_outputs.transpose(0, 1))\n",
        "        return context, attention\n",
        "\n",
        "class LSTMAttention(nn.Module):\n",
        "    def __init__(self, vocab_size, embedding_dim, hidden_dim, output_dim, n_layers, \n",
        "                 bidirectional, dropout, pad_idx):\n",
        "        super().__init__()\n",
        "        #1. Initialize Embedding Layer\n",
        "        self.embedding = nn.Embedding(num_embeddings=vocab_size, embedding_dim=embedding_dim, padding_idx=pad_idx)\n",
        "        #2. Initialize LSTM layer\n",
        "        self.lstm = nn.LSTM(input_size=embedding_dim, hidden_size=hidden_dim, num_layers=n_layers, dropout=dropout, bidirectional=bidirectional)\n",
        "        #3. Initialize attention layer\n",
        "        self.attention = Attention(hidden_dim*2)\n",
        "        #4. Initialize a fully connected layer with Linear transformation\n",
        "        self.fc = nn.Linear(hidden_dim*4, output_dim)\n",
        "        #5. Initialize Dropout\n",
        "        self.dropout = nn.Dropout(dropout)\n",
        "        #6. Initialize a projection layer for hidden tensor\n",
        "        if bidirectional:\n",
        "            self.hidden_proj = nn.Linear(2*hidden_dim, 2*hidden_dim)\n",
        "        else:\n",
        "            self.hidden_proj = nn.Linear(hidden_dim, hidden_dim)\n",
        "\n",
        "    def forward(self, text, text_lengths):\n",
        "        #1. Apply embedding layer that matches each word to its vector and apply dropout. Dim [sent_len, batch_size, emb_dim]\n",
        "        embedding = self.embedding(text)\n",
        "        embedding_dropout = self.dropout(embedding)\n",
        "        #2. Run the LSTM along the sentences of length sent_len. #output = [sent len, batch size, hid dim * num directions]; #hidden = [num layers * num directions, batch size, hid dim]\n",
        "        packed_embedded = nn.utils.rnn.pack_padded_sequence(embedding_dropout, text_lengths.to('cpu'), enforce_sorted=False)\n",
        "        packed_output, (hidden, cell) = self.lstm(packed_embedded)\n",
        "        finalhidden = hidden\n",
        "        encoder_outputs, _ = nn.utils.rnn.pad_packed_sequence(packed_output)\n",
        "        #3. Compute the attention vector and apply attention to the encoder outputs\n",
        "        if self.lstm.bidirectional:\n",
        "            hidden = torch.tanh(self.hidden_proj(torch.cat((hidden[-2,:,:], hidden[-1,:,:]), dim=1)))\n",
        "        else:\n",
        "            hidden = torch.tanh(self.hidden_proj(hidden[-1,:,:]))\n",
        "        # print(hidden.shape)\n",
        "        # print(encoder_outputs.shape)\n",
        "        context, attention = self.attention(hidden, encoder_outputs)\n",
        "        # print(context.squeeze(1).shape)\n",
        "        # finalhidden = finalhidden.unsqueeze(1)\n",
        "        # print(torch.cat((finalhidden[-2,:,:], finalhidden[-1,:,:]), dim=1).shape)\n",
        "        #4. Concatenate the final hidden state and the context vector\n",
        "        output = torch.cat((torch.cat((finalhidden[-2,:,:], finalhidden[-1,:,:]), dim=1), context.squeeze(1)), dim=1)\n",
        "        #5. Apply the fully connected layer and return the output\n",
        "        output = self.dropout(output)\n",
        "        return self.fc(output)\n",
        "\n"
      ],
      "metadata": {
        "id": "qUbf6ZAfY16w"
      },
      "execution_count": 25,
      "outputs": []
    },
    {
      "cell_type": "code",
      "source": [
        "INPUT_DIM = len(TEXT.vocab)\n",
        "EMBEDDING_DIM = 50\n",
        "HIDDEN_DIM = 126\n",
        "OUTPUT_DIM = 11\n",
        "N_LAYERS = 2\n",
        "BIDIRECTIONAL = True\n",
        "DROPOUT = 0.5\n",
        "PAD_IDX = TEXT.vocab.stoi[TEXT.pad_token]\n",
        "\n",
        "model = LSTMAttention(INPUT_DIM, \n",
        "            EMBEDDING_DIM, \n",
        "            HIDDEN_DIM, \n",
        "            OUTPUT_DIM, \n",
        "            N_LAYERS, \n",
        "            BIDIRECTIONAL, \n",
        "            DROPOUT,\n",
        "            PAD_IDX)"
      ],
      "metadata": {
        "id": "wpAXkTBMTXyL"
      },
      "execution_count": 26,
      "outputs": []
    },
    {
      "cell_type": "code",
      "source": [
        "def count_parameters(model):\n",
        "    return sum(p.numel() for p in model.parameters() if p.requires_grad)\n",
        "\n",
        "print(f'The model has {count_parameters(model):,} trainable parameters')"
      ],
      "metadata": {
        "colab": {
          "base_uri": "https://localhost:8080/"
        },
        "id": "fvdde4iOa1v_",
        "outputId": "40ce9b0f-52dd-4b6b-febe-6318e95cccd7"
      },
      "execution_count": 27,
      "outputs": [
        {
          "output_type": "stream",
          "name": "stdout",
          "text": [
            "The model has 2,259,387 trainable parameters\n"
          ]
        }
      ]
    },
    {
      "cell_type": "code",
      "source": [
        "pretrained_embeddings = TEXT.vocab.vectors\n",
        "\n",
        "print(pretrained_embeddings.shape)"
      ],
      "metadata": {
        "colab": {
          "base_uri": "https://localhost:8080/"
        },
        "id": "BHmh7_nOa1zJ",
        "outputId": "1f208283-fcdd-492f-a7eb-04ef5c2da259"
      },
      "execution_count": 28,
      "outputs": [
        {
          "output_type": "stream",
          "name": "stdout",
          "text": [
            "torch.Size([30002, 50])\n"
          ]
        }
      ]
    },
    {
      "cell_type": "code",
      "source": [
        "model.embedding.weight.data.copy_(pretrained_embeddings)"
      ],
      "metadata": {
        "colab": {
          "base_uri": "https://localhost:8080/"
        },
        "id": "R1ORmYIWa12R",
        "outputId": "0759384e-d6d4-40f1-bfb9-05a5e034c6d7"
      },
      "execution_count": 29,
      "outputs": [
        {
          "output_type": "execute_result",
          "data": {
            "text/plain": [
              "tensor([[-0.1117, -0.4966,  0.1631,  ...,  0.7372,  0.3910,  0.5158],\n",
              "        [ 0.1825, -0.0737,  0.3147,  ...,  1.3226, -2.6796, -0.1297],\n",
              "        [ 0.4180,  0.2497, -0.4124,  ..., -0.1841, -0.1151, -0.7858],\n",
              "        ...,\n",
              "        [-0.9581,  0.5661,  0.2489,  ..., -0.4387, -0.5074,  1.0205],\n",
              "        [-0.1401, -0.3614, -0.8919,  ...,  0.4649,  0.3368,  0.6853],\n",
              "        [ 0.1328, -0.4302,  0.0057,  ..., -1.4743,  1.7457,  0.2557]])"
            ]
          },
          "metadata": {},
          "execution_count": 29
        }
      ]
    },
    {
      "cell_type": "code",
      "source": [
        "UNK_IDX = TEXT.vocab.stoi[TEXT.unk_token]\n",
        "\n",
        "model.embedding.weight.data[UNK_IDX] = torch.zeros(EMBEDDING_DIM)\n",
        "model.embedding.weight.data[PAD_IDX] = torch.zeros(EMBEDDING_DIM)\n",
        "\n",
        "print(model.embedding.weight.data)"
      ],
      "metadata": {
        "colab": {
          "base_uri": "https://localhost:8080/"
        },
        "id": "4zGvhmlja15V",
        "outputId": "454fa534-78ad-44ee-d328-0cd50f61371a"
      },
      "execution_count": 30,
      "outputs": [
        {
          "output_type": "stream",
          "name": "stdout",
          "text": [
            "tensor([[ 0.0000,  0.0000,  0.0000,  ...,  0.0000,  0.0000,  0.0000],\n",
            "        [ 0.0000,  0.0000,  0.0000,  ...,  0.0000,  0.0000,  0.0000],\n",
            "        [ 0.4180,  0.2497, -0.4124,  ..., -0.1841, -0.1151, -0.7858],\n",
            "        ...,\n",
            "        [-0.9581,  0.5661,  0.2489,  ..., -0.4387, -0.5074,  1.0205],\n",
            "        [-0.1401, -0.3614, -0.8919,  ...,  0.4649,  0.3368,  0.6853],\n",
            "        [ 0.1328, -0.4302,  0.0057,  ..., -1.4743,  1.7457,  0.2557]])\n"
          ]
        }
      ]
    },
    {
      "cell_type": "code",
      "source": [
        "import torch.optim as optim\n",
        "\n",
        "optimizer = optim.Adam(model.parameters())"
      ],
      "metadata": {
        "id": "ieDloipFa18e"
      },
      "execution_count": 31,
      "outputs": []
    },
    {
      "cell_type": "code",
      "source": [
        "criterion = nn.CrossEntropyLoss()\n",
        "\n",
        "# device='cpu'\n",
        "model = model.to(device)\n",
        "criterion = criterion.to(device)"
      ],
      "metadata": {
        "id": "BQyW1WnMa1_x"
      },
      "execution_count": 32,
      "outputs": []
    },
    {
      "cell_type": "code",
      "source": [
        "def multiclass_accuracy(preds, y):\n",
        "    \"\"\"\n",
        "    Returns accuracy per batch, i.e. if you get 8/10 right, this returns 0.8, NOT 8\n",
        "    \"\"\"\n",
        "    # get the index of the highest prediction for each instance\n",
        "    _, preds = torch.max(preds, dim=1)\n",
        "    correct = (preds == y).float() #convert into float for division \n",
        "    acc = correct.sum() / len(correct)\n",
        "    return acc\n"
      ],
      "metadata": {
        "id": "BcQX2TKNa2Cc"
      },
      "execution_count": 33,
      "outputs": []
    },
    {
      "cell_type": "code",
      "source": [
        "def train(model, iterator, optimizer, criterion):\n",
        "    \n",
        "    epoch_loss = 0\n",
        "    epoch_acc = 0\n",
        "    \n",
        "    model.train()\n",
        "    \n",
        "    for batch in iterator:\n",
        "        \n",
        "        optimizer.zero_grad()\n",
        "        \n",
        "        # print(batch.text)\n",
        "        text, text_lengths = batch.text\n",
        "        # print(torch.tensor(text))\n",
        "        \n",
        "        predictions = model(text, text_lengths).squeeze(1)\n",
        "\n",
        "        target = batch.label\n",
        "        target = target.type(torch.LongTensor)\n",
        "\n",
        "        # print(target.shape)\n",
        "\n",
        "        # print(predictions.shape)\n",
        "        \n",
        "        loss = criterion(predictions.to(device), target.to(device))\n",
        "        \n",
        "        acc = multiclass_accuracy(predictions, batch.label)\n",
        "        \n",
        "        loss.backward()\n",
        "        \n",
        "        optimizer.step()\n",
        "        \n",
        "        epoch_loss += loss.item()\n",
        "        epoch_acc += acc.item()\n",
        "        \n",
        "    return epoch_loss / len(iterator), epoch_acc / len(iterator)"
      ],
      "metadata": {
        "id": "Hb9Y1yqJa2FP"
      },
      "execution_count": 34,
      "outputs": []
    },
    {
      "cell_type": "code",
      "source": [
        "def evaluate(model, iterator, criterion):\n",
        "    \n",
        "    epoch_loss = 0\n",
        "    epoch_acc = 0\n",
        "    \n",
        "    model.eval()\n",
        "    \n",
        "    with torch.no_grad():\n",
        "    \n",
        "        for batch in iterator:\n",
        "            \n",
        "            text, text_lengths = batch.text\n",
        "            \n",
        "            predictions = model(text, text_lengths).squeeze(1)\n",
        "            target = batch.label\n",
        "            target = target.type(torch.LongTensor)\n",
        "            \n",
        "            loss = criterion(predictions.to(device), target.to(device))\n",
        "            \n",
        "            acc = multiclass_accuracy(predictions, batch.label)\n",
        "\n",
        "            epoch_loss += loss.item()\n",
        "            epoch_acc += acc.item()\n",
        "\n",
        "\n",
        "\n",
        "    return epoch_loss / len(iterator), epoch_acc / len(iterator)"
      ],
      "metadata": {
        "id": "o1x24ifjcGgs"
      },
      "execution_count": 35,
      "outputs": []
    },
    {
      "cell_type": "code",
      "source": [
        "import time\n",
        "\n",
        "def epoch_time(start_time, end_time):\n",
        "    elapsed_time = end_time - start_time\n",
        "    elapsed_mins = int(elapsed_time / 60)\n",
        "    elapsed_secs = int(elapsed_time - (elapsed_mins * 60))\n",
        "    return elapsed_mins, elapsed_secs"
      ],
      "metadata": {
        "id": "76kTNu64cKJO"
      },
      "execution_count": 36,
      "outputs": []
    },
    {
      "cell_type": "code",
      "source": [
        "train_losses_list = []\n",
        "valid_losses_list = []\n",
        "train_accs=[]\n",
        "valid_accs=[]"
      ],
      "metadata": {
        "id": "vOpIPCF4-fF4"
      },
      "execution_count": 37,
      "outputs": []
    },
    {
      "cell_type": "code",
      "source": [
        "N_EPOCHS = 20\n",
        "path = F\"/content/gdrive/My Drive/attentionbilstm_model_task3.pt\"\n",
        "best_valid_loss = float('inf')\n",
        "\n",
        "for epoch in range(N_EPOCHS):\n",
        "  \n",
        "    start_time = time.time()\n",
        "    \n",
        "    train_loss, train_acc = train(model, train_iter, optimizer, criterion)\n",
        "    valid_loss, valid_acc = evaluate(model, valid_iter, criterion)\n",
        "    \n",
        "    end_time = time.time()\n",
        "\n",
        "    epoch_mins, epoch_secs = epoch_time(start_time, end_time)\n",
        "    train_losses_list.append(train_loss)\n",
        "    valid_losses_list.append(valid_loss)\n",
        "    train_accs.append(train_acc*100)\n",
        "    valid_accs.append(valid_acc*100)\n",
        "    \n",
        "    if valid_loss < best_valid_loss:\n",
        "        best_valid_loss = valid_loss\n",
        "        torch.save(model.state_dict(), path)\n",
        "    \n",
        "    print(f'Epoch: {epoch+1:02} | Epoch Time: {epoch_mins}m {epoch_secs}s')\n",
        "    print(f'\\tTrain Loss: {train_loss:.3f} | Train Acc: {train_acc*100:.2f}%')\n",
        "    print(f'\\t Val. Loss: {valid_loss:.3f} |  Val. Acc: {valid_acc*100:.2f}%')"
      ],
      "metadata": {
        "id": "F9RiGfJpcNX1",
        "outputId": "07e0c0cb-168a-46e3-dc99-f3fb216266bd",
        "colab": {
          "base_uri": "https://localhost:8080/"
        }
      },
      "execution_count": 38,
      "outputs": [
        {
          "output_type": "stream",
          "name": "stdout",
          "text": [
            "Epoch: 01 | Epoch Time: 0m 22s\n",
            "\tTrain Loss: 1.827 | Train Acc: 32.78%\n",
            "\t Val. Loss: 1.537 |  Val. Acc: 45.80%\n",
            "Epoch: 02 | Epoch Time: 0m 20s\n",
            "\tTrain Loss: 1.065 | Train Acc: 58.55%\n",
            "\t Val. Loss: 0.746 |  Val. Acc: 69.60%\n",
            "Epoch: 03 | Epoch Time: 0m 21s\n",
            "\tTrain Loss: 0.748 | Train Acc: 68.79%\n",
            "\t Val. Loss: 0.619 |  Val. Acc: 74.32%\n",
            "Epoch: 04 | Epoch Time: 0m 20s\n",
            "\tTrain Loss: 0.604 | Train Acc: 74.85%\n",
            "\t Val. Loss: 0.676 |  Val. Acc: 71.48%\n",
            "Epoch: 05 | Epoch Time: 0m 21s\n",
            "\tTrain Loss: 0.489 | Train Acc: 79.28%\n",
            "\t Val. Loss: 0.492 |  Val. Acc: 79.15%\n",
            "Epoch: 06 | Epoch Time: 0m 20s\n",
            "\tTrain Loss: 0.441 | Train Acc: 81.09%\n",
            "\t Val. Loss: 0.524 |  Val. Acc: 76.93%\n",
            "Epoch: 07 | Epoch Time: 0m 21s\n",
            "\tTrain Loss: 0.407 | Train Acc: 82.81%\n",
            "\t Val. Loss: 0.613 |  Val. Acc: 75.80%\n",
            "Epoch: 08 | Epoch Time: 0m 20s\n",
            "\tTrain Loss: 0.398 | Train Acc: 83.48%\n",
            "\t Val. Loss: 0.480 |  Val. Acc: 80.45%\n",
            "Epoch: 09 | Epoch Time: 0m 21s\n",
            "\tTrain Loss: 0.347 | Train Acc: 85.70%\n",
            "\t Val. Loss: 0.411 |  Val. Acc: 83.24%\n",
            "Epoch: 10 | Epoch Time: 0m 20s\n",
            "\tTrain Loss: 0.307 | Train Acc: 87.23%\n",
            "\t Val. Loss: 0.385 |  Val. Acc: 84.72%\n",
            "Epoch: 11 | Epoch Time: 0m 21s\n",
            "\tTrain Loss: 0.279 | Train Acc: 88.40%\n",
            "\t Val. Loss: 0.425 |  Val. Acc: 83.18%\n",
            "Epoch: 12 | Epoch Time: 0m 20s\n",
            "\tTrain Loss: 0.258 | Train Acc: 89.32%\n",
            "\t Val. Loss: 0.456 |  Val. Acc: 83.01%\n",
            "Epoch: 13 | Epoch Time: 0m 21s\n",
            "\tTrain Loss: 0.245 | Train Acc: 90.09%\n",
            "\t Val. Loss: 0.406 |  Val. Acc: 85.40%\n",
            "Epoch: 14 | Epoch Time: 0m 21s\n",
            "\tTrain Loss: 0.214 | Train Acc: 91.51%\n",
            "\t Val. Loss: 0.421 |  Val. Acc: 84.66%\n",
            "Epoch: 15 | Epoch Time: 0m 19s\n",
            "\tTrain Loss: 0.189 | Train Acc: 92.66%\n",
            "\t Val. Loss: 0.501 |  Val. Acc: 83.58%\n",
            "Epoch: 16 | Epoch Time: 0m 21s\n",
            "\tTrain Loss: 0.177 | Train Acc: 93.11%\n",
            "\t Val. Loss: 0.499 |  Val. Acc: 82.50%\n",
            "Epoch: 17 | Epoch Time: 0m 21s\n",
            "\tTrain Loss: 0.178 | Train Acc: 93.18%\n",
            "\t Val. Loss: 0.477 |  Val. Acc: 84.38%\n",
            "Epoch: 18 | Epoch Time: 0m 21s\n",
            "\tTrain Loss: 0.135 | Train Acc: 95.12%\n",
            "\t Val. Loss: 0.468 |  Val. Acc: 84.83%\n",
            "Epoch: 19 | Epoch Time: 0m 20s\n",
            "\tTrain Loss: 0.142 | Train Acc: 94.76%\n",
            "\t Val. Loss: 0.431 |  Val. Acc: 86.59%\n",
            "Epoch: 20 | Epoch Time: 0m 22s\n",
            "\tTrain Loss: 0.119 | Train Acc: 95.42%\n",
            "\t Val. Loss: 0.553 |  Val. Acc: 84.09%\n"
          ]
        }
      ]
    },
    {
      "cell_type": "code",
      "source": [
        "test_loss, test_acc = evaluate(model, test_iter, criterion)\n",
        "\n",
        "print(f'Test Loss: {test_loss:.3f} | Test Acc: {test_acc*100:.2f}%')"
      ],
      "metadata": {
        "id": "5-Z-Ols0cbiL",
        "outputId": "84bd6c5e-9a88-4ae5-d61e-32985cb0e726",
        "colab": {
          "base_uri": "https://localhost:8080/"
        }
      },
      "execution_count": 39,
      "outputs": [
        {
          "output_type": "stream",
          "name": "stdout",
          "text": [
            "Test Loss: 0.590 | Test Acc: 82.81%\n"
          ]
        }
      ]
    },
    {
      "cell_type": "code",
      "source": [
        "import matplotlib.pyplot as plt\n",
        "\n",
        "plt.plot(train_losses_list)"
      ],
      "metadata": {
        "id": "Cc3WNW5GqR48",
        "outputId": "049b9629-8108-4f5a-f386-727a30564d27",
        "colab": {
          "base_uri": "https://localhost:8080/",
          "height": 447
        }
      },
      "execution_count": 40,
      "outputs": [
        {
          "output_type": "execute_result",
          "data": {
            "text/plain": [
              "[<matplotlib.lines.Line2D at 0x7f366ea6cc70>]"
            ]
          },
          "metadata": {},
          "execution_count": 40
        },
        {
          "output_type": "display_data",
          "data": {
            "text/plain": [
              "<Figure size 640x480 with 1 Axes>"
            ],
            "image/png": "[encoded data removed]"
          },
          "metadata": {}
        }
      ]
    },
    {
      "cell_type": "code",
      "source": [
        "plt.plot(valid_losses_list)"
      ],
      "metadata": {
        "id": "1ASz65Rm-sLm",
        "outputId": "16244555-4275-414a-c2cd-eb6291518256",
        "colab": {
          "base_uri": "https://localhost:8080/",
          "height": 447
        }
      },
      "execution_count": 41,
      "outputs": [
        {
          "output_type": "execute_result",
          "data": {
            "text/plain": [
              "[<matplotlib.lines.Line2D at 0x7f366e13ae30>]"
            ]
          },
          "metadata": {},
          "execution_count": 41
        },
        {
          "output_type": "display_data",
          "data": {
            "text/plain": [
              "<Figure size 640x480 with 1 Axes>"
            ],
            "image/png": "[encoded data removed]"
          },
          "metadata": {}
        }
      ]
    },
    {
      "cell_type": "code",
      "source": [
        "plt.plot(train_accs)"
      ],
      "metadata": {
        "id": "FNavhzeG-sYq",
        "outputId": "8fe1a6a1-3a23-4aba-ec98-22268b628ff7",
        "colab": {
          "base_uri": "https://localhost:8080/",
          "height": 447
        }
      },
      "execution_count": 42,
      "outputs": [
        {
          "output_type": "execute_result",
          "data": {
            "text/plain": [
              "[<matplotlib.lines.Line2D at 0x7f364e04d3f0>]"
            ]
          },
          "metadata": {},
          "execution_count": 42
        },
        {
          "output_type": "display_data",
          "data": {
            "text/plain": [
              "<Figure size 640x480 with 1 Axes>"
            ],
            "image/png": "[encoded data removed]"
          },
          "metadata": {}
        }
      ]
    },
    {
      "cell_type": "code",
      "source": [
        "plt.plot(valid_accs)"
      ],
      "metadata": {
        "id": "8cKtrInH-smT",
        "outputId": "5eaef25f-0baf-40e4-d8b1-a34037b02c57",
        "colab": {
          "base_uri": "https://localhost:8080/",
          "height": 447
        }
      },
      "execution_count": 43,
      "outputs": [
        {
          "output_type": "execute_result",
          "data": {
            "text/plain": [
              "[<matplotlib.lines.Line2D at 0x7f364e0c8670>]"
            ]
          },
          "metadata": {},
          "execution_count": 43
        },
        {
          "output_type": "display_data",
          "data": {
            "text/plain": [
              "<Figure size 640x480 with 1 Axes>"
            ],
            "image/png": "[encoded data removed]"
          },
          "metadata": {}
        }
      ]
    },
    {
      "cell_type": "code",
      "source": [],
      "metadata": {
        "id": "EIFb9_LeCXlf"
      },
      "execution_count": null,
      "outputs": []
    }
  ]
}