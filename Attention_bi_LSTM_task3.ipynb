{
  "nbformat": 4,
  "nbformat_minor": 0,
  "metadata": {
    "colab": {
      "provenance": [],
      "gpuType": "T4",
      "include_colab_link": true
    },
    "kernelspec": {
      "name": "python3",
      "display_name": "Python 3"
    },
    "language_info": {
      "name": "python"
    },
    "gpuClass": "standard",
    "accelerator": "GPU"
  },
  "cells": [
    {
      "cell_type": "markdown",
      "metadata": {
        "id": "view-in-github",
        "colab_type": "text"
      },
      "source": [
        "<a href=\"https://colab.research.google.com/github/ganeshred/NLPAuthorshipAttributionNLM/blob/main/Attention_bi_LSTM_task3.ipynb\" target=\"_parent\"><img src=\"https://colab.research.google.com/assets/colab-badge.svg\" alt=\"Open In Colab\"/></a>"
      ]
    },
    {
      "cell_type": "code",
      "source": [
        "# !apt-get update -y\n",
        "# !apt-get install python3.9 python3.9-dev python3.9-distutils libpython3.9-dev\n",
        "\n",
        "# !update-alternatives --install /usr/bin/python3 python3 /usr/bin/python3.8 1\n",
        "# !update-alternatives --install /usr/bin/python3 python3 /usr/bin/python3.9 2\n",
        "\n",
        "# !update-alternatives --config python3\n"
      ],
      "metadata": {
        "id": "sHwU7iodqGy6"
      },
      "execution_count": 1,
      "outputs": []
    },
    {
      "cell_type": "code",
      "source": [
        "# !curl https://bootstrap.pypa.io/get-pip.py -o get-pip.py\n",
        "# !python3 get-pip.py --force-reinstall\n",
        "\n"
      ],
      "metadata": {
        "id": "gEw2Dax8qIdO"
      },
      "execution_count": 2,
      "outputs": []
    },
    {
      "cell_type": "code",
      "source": [
        "!python --version"
      ],
      "metadata": {
        "colab": {
          "base_uri": "https://localhost:8080/"
        },
        "id": "p64rIpvTqIf7",
        "outputId": "edaef857-118e-4958-9a5d-43ce809e64ad"
      },
      "execution_count": 3,
      "outputs": [
        {
          "output_type": "stream",
          "name": "stdout",
          "text": [
            "Python 3.10.11\n"
          ]
        }
      ]
    },
    {
      "cell_type": "code",
      "source": [
        "# !pip freeze | grep torch"
      ],
      "metadata": {
        "id": "5WslcBXMqIiv"
      },
      "execution_count": 4,
      "outputs": []
    },
    {
      "cell_type": "code",
      "source": [
        "# !pip uninstall torch\n",
        "# !pip install torch==1.8.0\n",
        "# !pip uninstall torchtext\n",
        "# !pip install torchtext==0.10.1\n"
      ],
      "metadata": {
        "id": "u3gH2gceuLtY"
      },
      "execution_count": 5,
      "outputs": []
    },
    {
      "cell_type": "code",
      "source": [
        "!pip install torchtext==0.6.0"
      ],
      "metadata": {
        "colab": {
          "base_uri": "https://localhost:8080/"
        },
        "id": "5G4Pj56oNRv0",
        "outputId": "d2dc8202-9cd4-4166-b400-9b23a80efedc"
      },
      "execution_count": 6,
      "outputs": [
        {
          "output_type": "stream",
          "name": "stdout",
          "text": [
            "Looking in indexes: https://pypi.org/simple, https://us-python.pkg.dev/colab-wheels/public/simple/\n",
            "Collecting torchtext==0.6.0\n",
            "  Downloading torchtext-0.6.0-py3-none-any.whl (64 kB)\n",
            "\u001b[2K     \u001b[90m━━━━━━━━━━━━━━━━━━━━━━━━━━━━━━━━━━━━━━━━\u001b[0m \u001b[32m64.2/64.2 kB\u001b[0m \u001b[31m6.8 MB/s\u001b[0m eta \u001b[36m0:00:00\u001b[0m\n",
            "\u001b[?25hRequirement already satisfied: tqdm in /usr/local/lib/python3.10/dist-packages (from torchtext==0.6.0) (4.65.0)\n",
            "Requirement already satisfied: requests in /usr/local/lib/python3.10/dist-packages (from torchtext==0.6.0) (2.27.1)\n",
            "Requirement already satisfied: torch in /usr/local/lib/python3.10/dist-packages (from torchtext==0.6.0) (2.0.0+cu118)\n",
            "Requirement already satisfied: numpy in /usr/local/lib/python3.10/dist-packages (from torchtext==0.6.0) (1.22.4)\n",
            "Requirement already satisfied: six in /usr/local/lib/python3.10/dist-packages (from torchtext==0.6.0) (1.16.0)\n",
            "Collecting sentencepiece (from torchtext==0.6.0)\n",
            "  Downloading sentencepiece-0.1.99-cp310-cp310-manylinux_2_17_x86_64.manylinux2014_x86_64.whl (1.3 MB)\n",
            "\u001b[2K     \u001b[90m━━━━━━━━━━━━━━━━━━━━━━━━━━━━━━━━━━━━━━━━\u001b[0m \u001b[32m1.3/1.3 MB\u001b[0m \u001b[31m27.2 MB/s\u001b[0m eta \u001b[36m0:00:00\u001b[0m\n",
            "\u001b[?25hRequirement already satisfied: urllib3<1.27,>=1.21.1 in /usr/local/lib/python3.10/dist-packages (from requests->torchtext==0.6.0) (1.26.15)\n",
            "Requirement already satisfied: certifi>=2017.4.17 in /usr/local/lib/python3.10/dist-packages (from requests->torchtext==0.6.0) (2022.12.7)\n",
            "Requirement already satisfied: charset-normalizer~=2.0.0 in /usr/local/lib/python3.10/dist-packages (from requests->torchtext==0.6.0) (2.0.12)\n",
            "Requirement already satisfied: idna<4,>=2.5 in /usr/local/lib/python3.10/dist-packages (from requests->torchtext==0.6.0) (3.4)\n",
            "Requirement already satisfied: filelock in /usr/local/lib/python3.10/dist-packages (from torch->torchtext==0.6.0) (3.12.0)\n",
            "Requirement already satisfied: typing-extensions in /usr/local/lib/python3.10/dist-packages (from torch->torchtext==0.6.0) (4.5.0)\n",
            "Requirement already satisfied: sympy in /usr/local/lib/python3.10/dist-packages (from torch->torchtext==0.6.0) (1.11.1)\n",
            "Requirement already satisfied: networkx in /usr/local/lib/python3.10/dist-packages (from torch->torchtext==0.6.0) (3.1)\n",
            "Requirement already satisfied: jinja2 in /usr/local/lib/python3.10/dist-packages (from torch->torchtext==0.6.0) (3.1.2)\n",
            "Requirement already satisfied: triton==2.0.0 in /usr/local/lib/python3.10/dist-packages (from torch->torchtext==0.6.0) (2.0.0)\n",
            "Requirement already satisfied: cmake in /usr/local/lib/python3.10/dist-packages (from triton==2.0.0->torch->torchtext==0.6.0) (3.25.2)\n",
            "Requirement already satisfied: lit in /usr/local/lib/python3.10/dist-packages (from triton==2.0.0->torch->torchtext==0.6.0) (16.0.3)\n",
            "Requirement already satisfied: MarkupSafe>=2.0 in /usr/local/lib/python3.10/dist-packages (from jinja2->torch->torchtext==0.6.0) (2.1.2)\n",
            "Requirement already satisfied: mpmath>=0.19 in /usr/local/lib/python3.10/dist-packages (from sympy->torch->torchtext==0.6.0) (1.3.0)\n",
            "Installing collected packages: sentencepiece, torchtext\n",
            "  Attempting uninstall: torchtext\n",
            "    Found existing installation: torchtext 0.15.1\n",
            "    Uninstalling torchtext-0.15.1:\n",
            "      Successfully uninstalled torchtext-0.15.1\n",
            "Successfully installed sentencepiece-0.1.99 torchtext-0.6.0\n"
          ]
        }
      ]
    },
    {
      "cell_type": "code",
      "source": [
        "from torchtext import data\n",
        "from torchtext import datasets"
      ],
      "metadata": {
        "id": "EsvyuxhCqG9C"
      },
      "execution_count": 7,
      "outputs": []
    },
    {
      "cell_type": "code",
      "source": [
        "# TEXT = data.Field(tokenize = 'spacy', include_lengths = True)\n",
        "TEXT = data.Field(tokenize = 'spacy',\n",
        "                  tokenizer_language = 'en_core_web_sm')\n"
      ],
      "metadata": {
        "id": "UCK3LzXeqG_z"
      },
      "execution_count": 8,
      "outputs": []
    },
    {
      "cell_type": "code",
      "source": [],
      "metadata": {
        "id": "V9A4da5Nyt4h"
      },
      "execution_count": 8,
      "outputs": []
    },
    {
      "cell_type": "code",
      "source": [],
      "metadata": {
        "id": "jhyZ_-vkyt1u"
      },
      "execution_count": 8,
      "outputs": []
    },
    {
      "cell_type": "code",
      "source": [],
      "metadata": {
        "id": "opmMLbMKytyk"
      },
      "execution_count": 8,
      "outputs": []
    },
    {
      "cell_type": "code",
      "source": [],
      "metadata": {
        "id": "DdYlezsAytWr"
      },
      "execution_count": 8,
      "outputs": []
    },
    {
      "cell_type": "code",
      "source": [
        "\n",
        "from google.colab import drive\n",
        "drive.mount('/content/gdrive')"
      ],
      "metadata": {
        "colab": {
          "base_uri": "https://localhost:8080/"
        },
        "id": "CerFcqhYNeo5",
        "outputId": "1e4d873c-94e2-4432-c11c-3d38e89ee00b"
      },
      "execution_count": 9,
      "outputs": [
        {
          "output_type": "stream",
          "name": "stdout",
          "text": [
            "Mounted at /content/gdrive\n"
          ]
        }
      ]
    },
    {
      "cell_type": "code",
      "source": [],
      "metadata": {
        "id": "HFuLdHxYanUJ"
      },
      "execution_count": 9,
      "outputs": []
    },
    {
      "cell_type": "code",
      "source": [
        "import torch\n",
        "from torchtext import data\n",
        "from torchtext import datasets\n",
        "\n",
        "SEED = 1234\n",
        "\n",
        "torch.manual_seed(SEED)\n",
        "torch.backends.cudnn.deterministic = True\n",
        "\n",
        "TEXT = data.Field(tokenize = 'spacy',tokenizer_language = 'en_core_web_sm', include_lengths = True)\n",
        "LABEL = data.LabelField(dtype = torch.float)"
      ],
      "metadata": {
        "id": "2f31E7biNer0"
      },
      "execution_count": 10,
      "outputs": []
    },
    {
      "cell_type": "code",
      "source": [
        "import pandas as pd"
      ],
      "metadata": {
        "id": "869PvF4WNeuv"
      },
      "execution_count": 11,
      "outputs": []
    },
    {
      "cell_type": "code",
      "source": [
        "df = pd.read_csv('/content/Task3.csv')"
      ],
      "metadata": {
        "id": "6n41G-m4Nexk"
      },
      "execution_count": 12,
      "outputs": []
    },
    {
      "cell_type": "code",
      "source": [
        "len(df)"
      ],
      "metadata": {
        "colab": {
          "base_uri": "https://localhost:8080/"
        },
        "id": "JvnIozbaNe0T",
        "outputId": "2d67a763-69d3-4648-f583-c416b1bf47c1"
      },
      "execution_count": 13,
      "outputs": [
        {
          "output_type": "execute_result",
          "data": {
            "text/plain": [
              "11726"
            ]
          },
          "metadata": {},
          "execution_count": 13
        }
      ]
    },
    {
      "cell_type": "code",
      "source": [
        "df.head()"
      ],
      "metadata": {
        "colab": {
          "base_uri": "https://localhost:8080/",
          "height": 206
        },
        "id": "mqStd4TeNe3O",
        "outputId": "7a3f7e14-c8ab-4592-a51f-15fc73e1397e"
      },
      "execution_count": 14,
      "outputs": [
        {
          "output_type": "execute_result",
          "data": {
            "text/plain": [
              "                                          Generation        label  label_int\n",
              "0  Flint man facing 10 dog fighting and drug deal...       grover          5\n",
              "1  the 30 most troubling lines from donald trump ...         ctrl          0\n",
              "2  Wakayama rafting is a type of traditional raft...  instructgpt          7\n",
              "3  The movies that predicted an outbreak like cor...       grover          5\n",
              "4  companies that pay taxes are allowed to use ta...         pplm          8"
            ],
            "text/html": [
              "\n",
              "  <div id=\"df-b4d9ed71-4012-4e02-a9b9-018a1655117b\">\n",
              "    <div class=\"colab-df-container\">\n",
              "      <div>\n",
              "<style scoped>\n",
              "    .dataframe tbody tr th:only-of-type {\n",
              "        vertical-align: middle;\n",
              "    }\n",
              "\n",
              "    .dataframe tbody tr th {\n",
              "        vertical-align: top;\n",
              "    }\n",
              "\n",
              "    .dataframe thead th {\n",
              "        text-align: right;\n",
              "    }\n",
              "</style>\n",
              "<table border=\"1\" class=\"dataframe\">\n",
              "  <thead>\n",
              "    <tr style=\"text-align: right;\">\n",
              "      <th></th>\n",
              "      <th>Generation</th>\n",
              "      <th>label</th>\n",
              "      <th>label_int</th>\n",
              "    </tr>\n",
              "  </thead>\n",
              "  <tbody>\n",
              "    <tr>\n",
              "      <th>0</th>\n",
              "      <td>Flint man facing 10 dog fighting and drug deal...</td>\n",
              "      <td>grover</td>\n",
              "      <td>5</td>\n",
              "    </tr>\n",
              "    <tr>\n",
              "      <th>1</th>\n",
              "      <td>the 30 most troubling lines from donald trump ...</td>\n",
              "      <td>ctrl</td>\n",
              "      <td>0</td>\n",
              "    </tr>\n",
              "    <tr>\n",
              "      <th>2</th>\n",
              "      <td>Wakayama rafting is a type of traditional raft...</td>\n",
              "      <td>instructgpt</td>\n",
              "      <td>7</td>\n",
              "    </tr>\n",
              "    <tr>\n",
              "      <th>3</th>\n",
              "      <td>The movies that predicted an outbreak like cor...</td>\n",
              "      <td>grover</td>\n",
              "      <td>5</td>\n",
              "    </tr>\n",
              "    <tr>\n",
              "      <th>4</th>\n",
              "      <td>companies that pay taxes are allowed to use ta...</td>\n",
              "      <td>pplm</td>\n",
              "      <td>8</td>\n",
              "    </tr>\n",
              "  </tbody>\n",
              "</table>\n",
              "</div>\n",
              "      <button class=\"colab-df-convert\" onclick=\"convertToInteractive('df-b4d9ed71-4012-4e02-a9b9-018a1655117b')\"\n",
              "              title=\"Convert this dataframe to an interactive table.\"\n",
              "              style=\"display:none;\">\n",
              "        \n",
              "  <svg xmlns=\"http://www.w3.org/2000/svg\" height=\"24px\"viewBox=\"0 0 24 24\"\n",
              "       width=\"24px\">\n",
              "    <path d=\"M0 0h24v24H0V0z\" fill=\"none\"/>\n",
              "    <path d=\"M18.56 5.44l.94 2.06.94-2.06 2.06-.94-2.06-.94-.94-2.06-.94 2.06-2.06.94zm-11 1L8.5 8.5l.94-2.06 2.06-.94-2.06-.94L8.5 2.5l-.94 2.06-2.06.94zm10 10l.94 2.06.94-2.06 2.06-.94-2.06-.94-.94-2.06-.94 2.06-2.06.94z\"/><path d=\"M17.41 7.96l-1.37-1.37c-.4-.4-.92-.59-1.43-.59-.52 0-1.04.2-1.43.59L10.3 9.45l-7.72 7.72c-.78.78-.78 2.05 0 2.83L4 21.41c.39.39.9.59 1.41.59.51 0 1.02-.2 1.41-.59l7.78-7.78 2.81-2.81c.8-.78.8-2.07 0-2.86zM5.41 20L4 18.59l7.72-7.72 1.47 1.35L5.41 20z\"/>\n",
              "  </svg>\n",
              "      </button>\n",
              "      \n",
              "  <style>\n",
              "    .colab-df-container {\n",
              "      display:flex;\n",
              "      flex-wrap:wrap;\n",
              "      gap: 12px;\n",
              "    }\n",
              "\n",
              "    .colab-df-convert {\n",
              "      background-color: #E8F0FE;\n",
              "      border: none;\n",
              "      border-radius: 50%;\n",
              "      cursor: pointer;\n",
              "      display: none;\n",
              "      fill: #1967D2;\n",
              "      height: 32px;\n",
              "      padding: 0 0 0 0;\n",
              "      width: 32px;\n",
              "    }\n",
              "\n",
              "    .colab-df-convert:hover {\n",
              "      background-color: #E2EBFA;\n",
              "      box-shadow: 0px 1px 2px rgba(60, 64, 67, 0.3), 0px 1px 3px 1px rgba(60, 64, 67, 0.15);\n",
              "      fill: #174EA6;\n",
              "    }\n",
              "\n",
              "    [theme=dark] .colab-df-convert {\n",
              "      background-color: #3B4455;\n",
              "      fill: #D2E3FC;\n",
              "    }\n",
              "\n",
              "    [theme=dark] .colab-df-convert:hover {\n",
              "      background-color: #434B5C;\n",
              "      box-shadow: 0px 1px 3px 1px rgba(0, 0, 0, 0.15);\n",
              "      filter: drop-shadow(0px 1px 2px rgba(0, 0, 0, 0.3));\n",
              "      fill: #FFFFFF;\n",
              "    }\n",
              "  </style>\n",
              "\n",
              "      <script>\n",
              "        const buttonEl =\n",
              "          document.querySelector('#df-b4d9ed71-4012-4e02-a9b9-018a1655117b button.colab-df-convert');\n",
              "        buttonEl.style.display =\n",
              "          google.colab.kernel.accessAllowed ? 'block' : 'none';\n",
              "\n",
              "        async function convertToInteractive(key) {\n",
              "          const element = document.querySelector('#df-b4d9ed71-4012-4e02-a9b9-018a1655117b');\n",
              "          const dataTable =\n",
              "            await google.colab.kernel.invokeFunction('convertToInteractive',\n",
              "                                                     [key], {});\n",
              "          if (!dataTable) return;\n",
              "\n",
              "          const docLinkHtml = 'Like what you see? Visit the ' +\n",
              "            '<a target=\"_blank\" href=https://colab.research.google.com/notebooks/data_table.ipynb>data table notebook</a>'\n",
              "            + ' to learn more about interactive tables.';\n",
              "          element.innerHTML = '';\n",
              "          dataTable['output_type'] = 'display_data';\n",
              "          await google.colab.output.renderOutput(dataTable, element);\n",
              "          const docLink = document.createElement('div');\n",
              "          docLink.innerHTML = docLinkHtml;\n",
              "          element.appendChild(docLink);\n",
              "        }\n",
              "      </script>\n",
              "    </div>\n",
              "  </div>\n",
              "  "
            ]
          },
          "metadata": {},
          "execution_count": 14
        }
      ]
    },
    {
      "cell_type": "code",
      "source": [
        "df = df[['Generation','label']]"
      ],
      "metadata": {
        "id": "6Be0yF6sNe6A"
      },
      "execution_count": 15,
      "outputs": []
    },
    {
      "cell_type": "code",
      "source": [
        "df[['Generation']] = df[['Generation']]. astype(str)"
      ],
      "metadata": {
        "id": "Z-yGAkfcNe80"
      },
      "execution_count": 16,
      "outputs": []
    },
    {
      "cell_type": "code",
      "execution_count": 17,
      "metadata": {
        "colab": {
          "base_uri": "https://localhost:8080/"
        },
        "id": "UNZ4SOoGKjm3",
        "outputId": "90621009-ed1a-4367-c044-b0c8405eea59"
      },
      "outputs": [
        {
          "output_type": "stream",
          "name": "stderr",
          "text": [
            ".vector_cache/glove.6B.zip: 862MB [02:42, 5.31MB/s]                           \n",
            "100%|█████████▉| 399999/400000 [00:11<00:00, 33431.99it/s]\n"
          ]
        }
      ],
      "source": [
        "# text_field = data.Field(\n",
        "#     sequential=True,\n",
        "#     tokenize='basic_english', \n",
        "#     fix_length=500,\n",
        "#     lower=True\n",
        "# )\n",
        "TEXT = data.Field(tokenize = 'spacy', tokenizer_language = 'en_core_web_sm', include_lengths = True)\n",
        "LABEL = data.LabelField(sequential=False, use_vocab=False, dtype = torch.float)\n",
        "\n",
        "# label_field = data.Field(sequential=False, use_vocab=False)\n",
        "\n",
        "# sadly have to apply preprocess manually\n",
        "preprocessed_text = df['Generation'].apply(\n",
        "    lambda x: TEXT.preprocess(x)\n",
        ")\n",
        "\n",
        "# load fastext simple embedding with 300d\n",
        "TEXT.build_vocab(\n",
        "    preprocessed_text, \n",
        "    max_size = 30000,\n",
        "    vectors='glove.6B.50d',\n",
        "    unk_init = torch.Tensor.normal_\n",
        ")\n",
        "\n",
        "# get the vocab instance\n",
        "vocab = TEXT.vocab"
      ]
    },
    {
      "cell_type": "code",
      "source": [
        "ltoi = {l: i for i, l in enumerate(df['label'].unique())}"
      ],
      "metadata": {
        "id": "7fo-4PymNKox"
      },
      "execution_count": 18,
      "outputs": []
    },
    {
      "cell_type": "code",
      "source": [
        "df['label1'] = df['label'].apply(lambda y: ltoi[y])\n",
        "\n",
        "class DataFrameDataset(data.Dataset):\n",
        "    def __init__(self, df: pd.DataFrame, fields: list):\n",
        "        super(DataFrameDataset, self).__init__(\n",
        "            [\n",
        "                data.Example.fromlist(list(r), fields) \n",
        "                for i, r in df.iterrows()\n",
        "            ], \n",
        "            fields\n",
        "        )"
      ],
      "metadata": {
        "id": "hlf6Q7ioSuzm"
      },
      "execution_count": 19,
      "outputs": []
    },
    {
      "cell_type": "code",
      "source": [
        "df1=df[['Generation','label1']]"
      ],
      "metadata": {
        "id": "n7EivRJkWJAA"
      },
      "execution_count": 20,
      "outputs": []
    },
    {
      "cell_type": "code",
      "source": [
        "examples=[]\n",
        "for i,row in df1.iterrows():\n",
        "  # print(example)\n",
        "  examples.append(data.Example.fromlist(row, fields=[('text', TEXT), ('label', LABEL)]))"
      ],
      "metadata": {
        "id": "ykBCGeBlWoY6"
      },
      "execution_count": 21,
      "outputs": []
    },
    {
      "cell_type": "code",
      "source": [
        "# examples[2000].label\n",
        "c=0\n",
        "for i in examples:\n",
        "  if type(i.label) != int:\n",
        "    c+=1"
      ],
      "metadata": {
        "id": "yKl9xYuWYWbI"
      },
      "execution_count": 22,
      "outputs": []
    },
    {
      "cell_type": "code",
      "source": [
        "c"
      ],
      "metadata": {
        "colab": {
          "base_uri": "https://localhost:8080/"
        },
        "id": "lL6ysKUOePcV",
        "outputId": "42fba218-d9a2-493c-fee1-7bf14c596773"
      },
      "execution_count": 23,
      "outputs": [
        {
          "output_type": "execute_result",
          "data": {
            "text/plain": [
              "0"
            ]
          },
          "metadata": {},
          "execution_count": 23
        }
      ]
    },
    {
      "cell_type": "code",
      "source": [
        "dataset = data.Dataset(examples, fields=[('text', TEXT), ('label', LABEL)])"
      ],
      "metadata": {
        "id": "SludIWxDW1TI"
      },
      "execution_count": 24,
      "outputs": []
    },
    {
      "cell_type": "code",
      "source": [
        "train_dataset, test_dataset, valid_dataset = dataset.split(split_ratio=[0.65, 0.15, 0.2], stratified=True, strata_field='label')"
      ],
      "metadata": {
        "id": "VnPGmyi0W8d2"
      },
      "execution_count": 25,
      "outputs": []
    },
    {
      "cell_type": "code",
      "source": [
        "len(train_dataset)"
      ],
      "metadata": {
        "colab": {
          "base_uri": "https://localhost:8080/"
        },
        "id": "hgkg66ZGX6-R",
        "outputId": "1678023f-2a6b-4807-9707-1aae2c343236"
      },
      "execution_count": 26,
      "outputs": [
        {
          "output_type": "execute_result",
          "data": {
            "text/plain": [
              "7623"
            ]
          },
          "metadata": {},
          "execution_count": 26
        }
      ]
    },
    {
      "cell_type": "code",
      "source": [],
      "metadata": {
        "id": "p8Co6x6lWD5i"
      },
      "execution_count": 26,
      "outputs": []
    },
    {
      "cell_type": "code",
      "source": [
        "ltoi"
      ],
      "metadata": {
        "colab": {
          "base_uri": "https://localhost:8080/"
        },
        "id": "xbOzHGfaSx0l",
        "outputId": "57b4c32a-7625-4c08-ffa0-e185fe4627df"
      },
      "execution_count": 27,
      "outputs": [
        {
          "output_type": "execute_result",
          "data": {
            "text/plain": [
              "{'grover': 0,\n",
              " 'ctrl': 1,\n",
              " 'instructgpt': 2,\n",
              " 'pplm': 3,\n",
              " 'gpt2': 4,\n",
              " 'xlnet': 5,\n",
              " 'gpt': 6,\n",
              " 'xlm': 7,\n",
              " 'human': 8,\n",
              " 'gpt3': 9,\n",
              " 'fair': 10}"
            ]
          },
          "metadata": {},
          "execution_count": 27
        }
      ]
    },
    {
      "cell_type": "code",
      "source": [
        "device = torch.device('cuda' if torch.cuda.is_available() else 'cpu')\n",
        "print(\"We are working with \", device)\n",
        "# device = 'cpu'\n",
        "train_iter, test_iter, valid_iter = data.BucketIterator.splits(\n",
        "    datasets=(train_dataset, test_dataset, valid_dataset), \n",
        "    batch_size=32,\n",
        "    sort_within_batch = True,\n",
        "    sort_key=lambda x: len(x.text),\n",
        "    device=device\n",
        ")"
      ],
      "metadata": {
        "colab": {
          "base_uri": "https://localhost:8080/"
        },
        "id": "JE5GcV87TO-7",
        "outputId": "6d969500-f1c7-4ff3-c125-b91c13a042c8"
      },
      "execution_count": 28,
      "outputs": [
        {
          "output_type": "stream",
          "name": "stdout",
          "text": [
            "We are working with  cuda\n"
          ]
        }
      ]
    },
    {
      "cell_type": "code",
      "source": [],
      "metadata": {
        "id": "CXumcJOZTSuh"
      },
      "execution_count": 28,
      "outputs": []
    },
    {
      "cell_type": "code",
      "source": [],
      "metadata": {
        "id": "D_CtpAOWvV9a"
      },
      "execution_count": 28,
      "outputs": []
    },
    {
      "cell_type": "code",
      "source": [
        "import torch.nn as nn\n",
        "\n",
        "class Attention(nn.Module):\n",
        "    def __init__(self, hidden_size):\n",
        "        super(Attention, self).__init__()\n",
        "        self.hidden_size = hidden_size\n",
        "        self.attn = nn.Linear(self.hidden_size * 2, self.hidden_size)\n",
        "        self.v = nn.Linear(self.hidden_size, 1, bias=False)\n",
        "        \n",
        "    def forward(self, hidden, encoder_outputs):\n",
        "        # hidden = [batch size, hidden size]\n",
        "        # encoder_outputs = [src sent len, batch size, hidden size]\n",
        "        batch_size = encoder_outputs.shape[1]\n",
        "        src_len = encoder_outputs.shape[0]\n",
        "        # print(hidden.shape)\n",
        "        # repeat the last hidden state of the decoder\n",
        "        hidden = hidden.unsqueeze(1).repeat(1, src_len, 1)\n",
        "\n",
        "        # print(hidden.shape)\n",
        "        # print(encoder_outputs.transpose(1,0).shape)\n",
        "\n",
        "        # # hidden = hidden.transpose(1, 0)\n",
        "\n",
        "        # print(hidden.shape)\n",
        "        \n",
        "        # concatenate hidden and encoder_outputs\n",
        "        energy = torch.tanh(self.attn(torch.cat((hidden, encoder_outputs.transpose(1,0)), dim=2))) \n",
        "        \n",
        "        # compute attention scores\n",
        "        attention = self.v(energy).squeeze(2)\n",
        "        attention = torch.softmax(attention, dim=1).unsqueeze(1)\n",
        "        # compute context vector\n",
        "        # print(attention.shape)\n",
        "        # print(encoder_outputs.shape)\n",
        "        context = torch.bmm(attention, encoder_outputs.transpose(0, 1))\n",
        "        return context, attention\n",
        "\n",
        "class LSTMAttention(nn.Module):\n",
        "    def __init__(self, vocab_size, embedding_dim, hidden_dim, output_dim, n_layers, \n",
        "                 bidirectional, dropout, pad_idx):\n",
        "        super().__init__()\n",
        "        #1. Initialize Embedding Layer\n",
        "        self.embedding = nn.Embedding(num_embeddings=vocab_size, embedding_dim=embedding_dim, padding_idx=pad_idx)\n",
        "        #2. Initialize LSTM layer\n",
        "        self.lstm = nn.LSTM(input_size=embedding_dim, hidden_size=hidden_dim, num_layers=n_layers, dropout=dropout, bidirectional=bidirectional)\n",
        "        #3. Initialize attention layer\n",
        "        self.attention = Attention(hidden_dim*2)\n",
        "        #4. Initialize a fully connected layer with Linear transformation\n",
        "        self.fc = nn.Linear(hidden_dim*4, output_dim)\n",
        "        #5. Initialize Dropout\n",
        "        self.dropout = nn.Dropout(dropout)\n",
        "        #6. Initialize a projection layer for hidden tensor\n",
        "        if bidirectional:\n",
        "            self.hidden_proj = nn.Linear(2*hidden_dim, 2*hidden_dim)\n",
        "        else:\n",
        "            self.hidden_proj = nn.Linear(hidden_dim, hidden_dim)\n",
        "\n",
        "    def forward(self, text, text_lengths):\n",
        "        #1. Apply embedding layer that matches each word to its vector and apply dropout. Dim [sent_len, batch_size, emb_dim]\n",
        "        embedding = self.embedding(text)\n",
        "        embedding_dropout = self.dropout(embedding)\n",
        "        #2. Run the LSTM along the sentences of length sent_len. #output = [sent len, batch size, hid dim * num directions]; #hidden = [num layers * num directions, batch size, hid dim]\n",
        "        packed_embedded = nn.utils.rnn.pack_padded_sequence(embedding_dropout, text_lengths.to('cpu'), enforce_sorted=False)\n",
        "        packed_output, (hidden, cell) = self.lstm(packed_embedded)\n",
        "        finalhidden = hidden\n",
        "        encoder_outputs, _ = nn.utils.rnn.pad_packed_sequence(packed_output)\n",
        "        #3. Compute the attention vector and apply attention to the encoder outputs\n",
        "        if self.lstm.bidirectional:\n",
        "            hidden = torch.tanh(self.hidden_proj(torch.cat((hidden[-2,:,:], hidden[-1,:,:]), dim=1)))\n",
        "        else:\n",
        "            hidden = torch.tanh(self.hidden_proj(hidden[-1,:,:]))\n",
        "        # print(hidden.shape)\n",
        "        # print(encoder_outputs.shape)\n",
        "        context, attention = self.attention(hidden, encoder_outputs)\n",
        "        # print(context.squeeze(1).shape)\n",
        "        # finalhidden = finalhidden.unsqueeze(1)\n",
        "        # print(torch.cat((finalhidden[-2,:,:], finalhidden[-1,:,:]), dim=1).shape)\n",
        "        #4. Concatenate the final hidden state and the context vector\n",
        "        output = torch.cat((torch.cat((finalhidden[-2,:,:], finalhidden[-1,:,:]), dim=1), context.squeeze(1)), dim=1)\n",
        "        #5. Apply the fully connected layer and return the output\n",
        "        output = self.dropout(output)\n",
        "        return self.fc(output)\n",
        "\n"
      ],
      "metadata": {
        "id": "qUbf6ZAfY16w"
      },
      "execution_count": 29,
      "outputs": []
    },
    {
      "cell_type": "code",
      "source": [
        "INPUT_DIM = len(TEXT.vocab)\n",
        "EMBEDDING_DIM = 50\n",
        "HIDDEN_DIM = 126\n",
        "OUTPUT_DIM = 11\n",
        "N_LAYERS = 2\n",
        "BIDIRECTIONAL = True\n",
        "DROPOUT = 0.5\n",
        "PAD_IDX = TEXT.vocab.stoi[TEXT.pad_token]\n",
        "\n",
        "model = LSTMAttention(INPUT_DIM, \n",
        "            EMBEDDING_DIM, \n",
        "            HIDDEN_DIM, \n",
        "            OUTPUT_DIM, \n",
        "            N_LAYERS, \n",
        "            BIDIRECTIONAL, \n",
        "            DROPOUT,\n",
        "            PAD_IDX)"
      ],
      "metadata": {
        "id": "wpAXkTBMTXyL"
      },
      "execution_count": 30,
      "outputs": []
    },
    {
      "cell_type": "code",
      "source": [
        "def count_parameters(model):\n",
        "    return sum(p.numel() for p in model.parameters() if p.requires_grad)\n",
        "\n",
        "print(f'The model has {count_parameters(model):,} trainable parameters')"
      ],
      "metadata": {
        "colab": {
          "base_uri": "https://localhost:8080/"
        },
        "id": "fvdde4iOa1v_",
        "outputId": "badecbb7-7796-4692-9be3-33d865c4a792"
      },
      "execution_count": 31,
      "outputs": [
        {
          "output_type": "stream",
          "name": "stdout",
          "text": [
            "The model has 2,259,387 trainable parameters\n"
          ]
        }
      ]
    },
    {
      "cell_type": "code",
      "source": [
        "pretrained_embeddings = TEXT.vocab.vectors\n",
        "\n",
        "print(pretrained_embeddings.shape)"
      ],
      "metadata": {
        "colab": {
          "base_uri": "https://localhost:8080/"
        },
        "id": "BHmh7_nOa1zJ",
        "outputId": "885dae68-0157-4297-eaf4-c49bb5232354"
      },
      "execution_count": 32,
      "outputs": [
        {
          "output_type": "stream",
          "name": "stdout",
          "text": [
            "torch.Size([30002, 50])\n"
          ]
        }
      ]
    },
    {
      "cell_type": "code",
      "source": [
        "model.embedding.weight.data.copy_(pretrained_embeddings)"
      ],
      "metadata": {
        "colab": {
          "base_uri": "https://localhost:8080/"
        },
        "id": "R1ORmYIWa12R",
        "outputId": "e37a3e21-48e6-4ba7-d2a5-ba573efe7d3d"
      },
      "execution_count": 33,
      "outputs": [
        {
          "output_type": "execute_result",
          "data": {
            "text/plain": [
              "tensor([[-0.1117, -0.4966,  0.1631,  ...,  0.7372,  0.3910,  0.5158],\n",
              "        [ 0.1825, -0.0737,  0.3147,  ...,  1.3226, -2.6796, -0.1297],\n",
              "        [ 0.4180,  0.2497, -0.4124,  ..., -0.1841, -0.1151, -0.7858],\n",
              "        ...,\n",
              "        [-0.9581,  0.5661,  0.2489,  ..., -0.4387, -0.5074,  1.0205],\n",
              "        [-0.1401, -0.3614, -0.8919,  ...,  0.4649,  0.3368,  0.6853],\n",
              "        [ 0.1328, -0.4302,  0.0057,  ..., -1.4743,  1.7457,  0.2557]])"
            ]
          },
          "metadata": {},
          "execution_count": 33
        }
      ]
    },
    {
      "cell_type": "code",
      "source": [
        "UNK_IDX = TEXT.vocab.stoi[TEXT.unk_token]\n",
        "\n",
        "model.embedding.weight.data[UNK_IDX] = torch.zeros(EMBEDDING_DIM)\n",
        "model.embedding.weight.data[PAD_IDX] = torch.zeros(EMBEDDING_DIM)\n",
        "\n",
        "print(model.embedding.weight.data)"
      ],
      "metadata": {
        "colab": {
          "base_uri": "https://localhost:8080/"
        },
        "id": "4zGvhmlja15V",
        "outputId": "a3809911-08c1-42d1-e1ad-aeebe366db82"
      },
      "execution_count": 34,
      "outputs": [
        {
          "output_type": "stream",
          "name": "stdout",
          "text": [
            "tensor([[ 0.0000,  0.0000,  0.0000,  ...,  0.0000,  0.0000,  0.0000],\n",
            "        [ 0.0000,  0.0000,  0.0000,  ...,  0.0000,  0.0000,  0.0000],\n",
            "        [ 0.4180,  0.2497, -0.4124,  ..., -0.1841, -0.1151, -0.7858],\n",
            "        ...,\n",
            "        [-0.9581,  0.5661,  0.2489,  ..., -0.4387, -0.5074,  1.0205],\n",
            "        [-0.1401, -0.3614, -0.8919,  ...,  0.4649,  0.3368,  0.6853],\n",
            "        [ 0.1328, -0.4302,  0.0057,  ..., -1.4743,  1.7457,  0.2557]])\n"
          ]
        }
      ]
    },
    {
      "cell_type": "code",
      "source": [
        "import torch.optim as optim\n",
        "\n",
        "optimizer = optim.Adam(model.parameters())"
      ],
      "metadata": {
        "id": "ieDloipFa18e"
      },
      "execution_count": 35,
      "outputs": []
    },
    {
      "cell_type": "code",
      "source": [
        "criterion = nn.CrossEntropyLoss()\n",
        "\n",
        "# device='cpu'\n",
        "model = model.to(device)\n",
        "criterion = criterion.to(device)"
      ],
      "metadata": {
        "id": "BQyW1WnMa1_x"
      },
      "execution_count": 36,
      "outputs": []
    },
    {
      "cell_type": "code",
      "source": [
        "def multiclass_accuracy(preds, y):\n",
        "    \"\"\"\n",
        "    Returns accuracy per batch, i.e. if you get 8/10 right, this returns 0.8, NOT 8\n",
        "    \"\"\"\n",
        "    # get the index of the highest prediction for each instance\n",
        "    _, preds = torch.max(preds, dim=1)\n",
        "    correct = (preds == y).float() #convert into float for division \n",
        "    acc = correct.sum() / len(correct)\n",
        "    return acc\n"
      ],
      "metadata": {
        "id": "BcQX2TKNa2Cc"
      },
      "execution_count": 37,
      "outputs": []
    },
    {
      "cell_type": "code",
      "source": [
        "def train(model, iterator, optimizer, criterion):\n",
        "    \n",
        "    epoch_loss = 0\n",
        "    epoch_acc = 0\n",
        "    \n",
        "    model.train()\n",
        "    \n",
        "    for batch in iterator:\n",
        "        \n",
        "        optimizer.zero_grad()\n",
        "        \n",
        "        # print(batch.text)\n",
        "        text, text_lengths = batch.text\n",
        "        # print(torch.tensor(text))\n",
        "        \n",
        "        predictions = model(text, text_lengths).squeeze(1)\n",
        "\n",
        "        target = batch.label\n",
        "        target = target.type(torch.LongTensor)\n",
        "\n",
        "        # print(target.shape)\n",
        "\n",
        "        # print(predictions.shape)\n",
        "        \n",
        "        loss = criterion(predictions.to(device), target.to(device))\n",
        "        \n",
        "        acc = multiclass_accuracy(predictions, batch.label)\n",
        "        \n",
        "        loss.backward()\n",
        "        \n",
        "        optimizer.step()\n",
        "        \n",
        "        epoch_loss += loss.item()\n",
        "        epoch_acc += acc.item()\n",
        "        \n",
        "    return epoch_loss / len(iterator), epoch_acc / len(iterator)"
      ],
      "metadata": {
        "id": "Hb9Y1yqJa2FP"
      },
      "execution_count": 38,
      "outputs": []
    },
    {
      "cell_type": "code",
      "source": [
        "def evaluate(model, iterator, criterion):\n",
        "    \n",
        "    epoch_loss = 0\n",
        "    epoch_acc = 0\n",
        "    \n",
        "    model.eval()\n",
        "    \n",
        "    with torch.no_grad():\n",
        "    \n",
        "        for batch in iterator:\n",
        "            \n",
        "            text, text_lengths = batch.text\n",
        "            \n",
        "            predictions = model(text, text_lengths).squeeze(1)\n",
        "            target = batch.label\n",
        "            target = target.type(torch.LongTensor)\n",
        "            \n",
        "            loss = criterion(predictions.to(device), target.to(device))\n",
        "            \n",
        "            acc = multiclass_accuracy(predictions, batch.label)\n",
        "\n",
        "            epoch_loss += loss.item()\n",
        "            epoch_acc += acc.item()\n",
        "\n",
        "\n",
        "\n",
        "    return epoch_loss / len(iterator), epoch_acc / len(iterator)"
      ],
      "metadata": {
        "id": "o1x24ifjcGgs"
      },
      "execution_count": 39,
      "outputs": []
    },
    {
      "cell_type": "code",
      "source": [
        "import time\n",
        "\n",
        "def epoch_time(start_time, end_time):\n",
        "    elapsed_time = end_time - start_time\n",
        "    elapsed_mins = int(elapsed_time / 60)\n",
        "    elapsed_secs = int(elapsed_time - (elapsed_mins * 60))\n",
        "    return elapsed_mins, elapsed_secs"
      ],
      "metadata": {
        "id": "76kTNu64cKJO"
      },
      "execution_count": 40,
      "outputs": []
    },
    {
      "cell_type": "code",
      "source": [
        "train_losses_list = []\n",
        "valid_losses_list = []\n",
        "train_accs=[]\n",
        "valid_accs=[]"
      ],
      "metadata": {
        "id": "vOpIPCF4-fF4"
      },
      "execution_count": 41,
      "outputs": []
    },
    {
      "cell_type": "code",
      "source": [
        "N_EPOCHS = 20\n",
        "path = F\"/content/gdrive/My Drive/attentionbilstm_model_task3.pt\"\n",
        "best_valid_loss = float('inf')\n",
        "\n",
        "for epoch in range(N_EPOCHS):\n",
        "  \n",
        "    start_time = time.time()\n",
        "    \n",
        "    train_loss, train_acc = train(model, train_iter, optimizer, criterion)\n",
        "    valid_loss, valid_acc = evaluate(model, valid_iter, criterion)\n",
        "    \n",
        "    end_time = time.time()\n",
        "\n",
        "    epoch_mins, epoch_secs = epoch_time(start_time, end_time)\n",
        "    train_losses_list.append(train_loss)\n",
        "    valid_losses_list.append(valid_loss)\n",
        "    train_accs.append(train_acc*100)\n",
        "    valid_accs.append(valid_acc*100)\n",
        "    \n",
        "    if valid_loss < best_valid_loss:\n",
        "        best_valid_loss = valid_loss\n",
        "        torch.save(model.state_dict(), path)\n",
        "    \n",
        "    print(f'Epoch: {epoch+1:02} | Epoch Time: {epoch_mins}m {epoch_secs}s')\n",
        "    print(f'\\tTrain Loss: {train_loss:.3f} | Train Acc: {train_acc*100:.2f}%')\n",
        "    print(f'\\t Val. Loss: {valid_loss:.3f} |  Val. Acc: {valid_acc*100:.2f}%')"
      ],
      "metadata": {
        "id": "F9RiGfJpcNX1",
        "outputId": "d8231631-1386-4a3f-8055-db293811b42c",
        "colab": {
          "base_uri": "https://localhost:8080/"
        }
      },
      "execution_count": 42,
      "outputs": [
        {
          "output_type": "stream",
          "name": "stdout",
          "text": [
            "Epoch: 01 | Epoch Time: 0m 18s\n",
            "\tTrain Loss: 1.919 | Train Acc: 29.46%\n",
            "\t Val. Loss: 1.259 |  Val. Acc: 54.32%\n",
            "Epoch: 02 | Epoch Time: 0m 17s\n",
            "\tTrain Loss: 1.075 | Train Acc: 58.21%\n",
            "\t Val. Loss: 0.798 |  Val. Acc: 68.01%\n",
            "Epoch: 03 | Epoch Time: 0m 17s\n",
            "\tTrain Loss: 0.712 | Train Acc: 70.45%\n",
            "\t Val. Loss: 0.666 |  Val. Acc: 71.70%\n",
            "Epoch: 04 | Epoch Time: 0m 17s\n",
            "\tTrain Loss: 0.575 | Train Acc: 75.36%\n",
            "\t Val. Loss: 0.545 |  Val. Acc: 74.72%\n",
            "Epoch: 05 | Epoch Time: 0m 18s\n",
            "\tTrain Loss: 0.518 | Train Acc: 77.67%\n",
            "\t Val. Loss: 0.531 |  Val. Acc: 76.70%\n",
            "Epoch: 06 | Epoch Time: 0m 18s\n",
            "\tTrain Loss: 0.456 | Train Acc: 80.05%\n",
            "\t Val. Loss: 0.499 |  Val. Acc: 77.90%\n",
            "Epoch: 07 | Epoch Time: 0m 17s\n",
            "\tTrain Loss: 0.381 | Train Acc: 83.34%\n",
            "\t Val. Loss: 0.466 |  Val. Acc: 80.28%\n",
            "Epoch: 08 | Epoch Time: 0m 18s\n",
            "\tTrain Loss: 0.367 | Train Acc: 84.60%\n",
            "\t Val. Loss: 0.516 |  Val. Acc: 79.09%\n",
            "Epoch: 09 | Epoch Time: 0m 18s\n",
            "\tTrain Loss: 0.332 | Train Acc: 86.17%\n",
            "\t Val. Loss: 0.472 |  Val. Acc: 80.23%\n",
            "Epoch: 10 | Epoch Time: 0m 17s\n",
            "\tTrain Loss: 0.310 | Train Acc: 87.00%\n",
            "\t Val. Loss: 0.393 |  Val. Acc: 84.09%\n",
            "Epoch: 11 | Epoch Time: 0m 18s\n",
            "\tTrain Loss: 0.295 | Train Acc: 87.64%\n",
            "\t Val. Loss: 0.502 |  Val. Acc: 80.68%\n",
            "Epoch: 12 | Epoch Time: 0m 18s\n",
            "\tTrain Loss: 0.256 | Train Acc: 89.53%\n",
            "\t Val. Loss: 0.404 |  Val. Acc: 83.30%\n",
            "Epoch: 13 | Epoch Time: 0m 17s\n",
            "\tTrain Loss: 0.246 | Train Acc: 89.96%\n",
            "\t Val. Loss: 0.520 |  Val. Acc: 80.85%\n",
            "Epoch: 14 | Epoch Time: 0m 18s\n",
            "\tTrain Loss: 0.235 | Train Acc: 90.49%\n",
            "\t Val. Loss: 0.479 |  Val. Acc: 82.67%\n",
            "Epoch: 15 | Epoch Time: 0m 18s\n",
            "\tTrain Loss: 0.192 | Train Acc: 92.14%\n",
            "\t Val. Loss: 0.525 |  Val. Acc: 80.91%\n",
            "Epoch: 16 | Epoch Time: 0m 17s\n",
            "\tTrain Loss: 0.178 | Train Acc: 93.36%\n",
            "\t Val. Loss: 0.478 |  Val. Acc: 84.26%\n",
            "Epoch: 17 | Epoch Time: 0m 18s\n",
            "\tTrain Loss: 0.163 | Train Acc: 93.61%\n",
            "\t Val. Loss: 0.468 |  Val. Acc: 83.98%\n",
            "Epoch: 18 | Epoch Time: 0m 18s\n",
            "\tTrain Loss: 0.137 | Train Acc: 94.99%\n",
            "\t Val. Loss: 0.365 |  Val. Acc: 86.93%\n",
            "Epoch: 19 | Epoch Time: 0m 18s\n",
            "\tTrain Loss: 0.125 | Train Acc: 94.99%\n",
            "\t Val. Loss: 0.507 |  Val. Acc: 83.47%\n",
            "Epoch: 20 | Epoch Time: 0m 17s\n",
            "\tTrain Loss: 0.122 | Train Acc: 95.18%\n",
            "\t Val. Loss: 0.436 |  Val. Acc: 86.25%\n"
          ]
        }
      ]
    },
    {
      "cell_type": "code",
      "source": [
        "test_loss, test_acc = evaluate(model, test_iter, criterion)\n",
        "\n",
        "print(f'Test Loss: {test_loss:.3f} | Test Acc: {test_acc*100:.2f}%')"
      ],
      "metadata": {
        "id": "5-Z-Ols0cbiL",
        "outputId": "c6e654c2-6235-47b9-aa09-4ba3abd72608",
        "colab": {
          "base_uri": "https://localhost:8080/"
        }
      },
      "execution_count": 43,
      "outputs": [
        {
          "output_type": "stream",
          "name": "stdout",
          "text": [
            "Test Loss: 0.414 | Test Acc: 86.19%\n"
          ]
        }
      ]
    },
    {
      "cell_type": "code",
      "source": [
        "import torch\n",
        "from sklearn.metrics import accuracy_score, precision_score, recall_score, f1_score\n",
        "\n",
        "y_true = []\n",
        "y_pred = []\n",
        "\n",
        "model.load_state_dict(torch.load(path))\n",
        "model=model.to(device)\n",
        "\n",
        "for batch in test_iter:\n",
        "    text, labels = batch\n",
        "    text,text_length=text\n",
        "    text_length = text_length.to('cpu')\n",
        "    predictions = model(text,text_length).squeeze(1)\n",
        "    y_true.extend(labels.tolist())\n",
        "    y_pred.extend(predictions.argmax(dim=1).tolist())  # convert to list of labels\n",
        "\n",
        "# calculate the evaluation metrics using sklearn's functions\n",
        "accuracy = accuracy_score(y_true, y_pred)\n",
        "precision = precision_score(y_true, y_pred, average='macro')\n",
        "recall = recall_score(y_true, y_pred, average='macro')\n",
        "f1 = f1_score(y_true, y_pred, average='macro')\n",
        "\n",
        "# print the evaluation metrics\n",
        "print(\"Accuracy:\", accuracy)\n",
        "print(\"Precision:\", precision)\n",
        "print(\"Recall:\", recall)\n",
        "print(\"F1 score:\", f1)"
      ],
      "metadata": {
        "id": "wWPBhX4ULzBq",
        "colab": {
          "base_uri": "https://localhost:8080/"
        },
        "outputId": "c2fae602-47ff-47e7-d7d9-5ccede2fa355"
      },
      "execution_count": 44,
      "outputs": [
        {
          "output_type": "stream",
          "name": "stdout",
          "text": [
            "Accuracy: 0.8681177976952625\n",
            "Precision: 0.8691111698048041\n",
            "Recall: 0.8681177976952626\n",
            "F1 score: 0.8679250559916216\n"
          ]
        }
      ]
    },
    {
      "cell_type": "code",
      "source": [
        "import matplotlib.pyplot as plt\n",
        "\n",
        "plt.plot(train_losses_list)"
      ],
      "metadata": {
        "id": "Cc3WNW5GqR48",
        "outputId": "8095a38a-347d-4a6e-d6c8-ddf9eeb03ffa",
        "colab": {
          "base_uri": "https://localhost:8080/",
          "height": 451
        }
      },
      "execution_count": 45,
      "outputs": [
        {
          "output_type": "execute_result",
          "data": {
            "text/plain": [
              "[<matplotlib.lines.Line2D at 0x7f2a9b9a12d0>]"
            ]
          },
          "metadata": {},
          "execution_count": 45
        },
        {
          "output_type": "display_data",
          "data": {
            "text/plain": [
              "<Figure size 640x480 with 1 Axes>"
            ],
            "image/png": "[encoded data removed]"
          },
          "metadata": {}
        }
      ]
    },
    {
      "cell_type": "code",
      "source": [
        "plt.plot(valid_losses_list)"
      ],
      "metadata": {
        "id": "1ASz65Rm-sLm",
        "outputId": "f5d72a67-05f3-4f81-a738-55786a84cd7c",
        "colab": {
          "base_uri": "https://localhost:8080/",
          "height": 447
        }
      },
      "execution_count": 46,
      "outputs": [
        {
          "output_type": "execute_result",
          "data": {
            "text/plain": [
              "[<matplotlib.lines.Line2D at 0x7f2a9b9a3970>]"
            ]
          },
          "metadata": {},
          "execution_count": 46
        },
        {
          "output_type": "display_data",
          "data": {
            "text/plain": [
              "<Figure size 640x480 with 1 Axes>"
            ],
            "image/png": "[encoded data removed]"
          },
          "metadata": {}
        }
      ]
    },
    {
      "cell_type": "code",
      "source": [
        "plt.plot(train_accs)"
      ],
      "metadata": {
        "id": "FNavhzeG-sYq",
        "outputId": "5e44406f-5b30-4b9c-dbc5-8beaafd80b43",
        "colab": {
          "base_uri": "https://localhost:8080/",
          "height": 447
        }
      },
      "execution_count": 47,
      "outputs": [
        {
          "output_type": "execute_result",
          "data": {
            "text/plain": [
              "[<matplotlib.lines.Line2D at 0x7f2e3c186110>]"
            ]
          },
          "metadata": {},
          "execution_count": 47
        },
        {
          "output_type": "display_data",
          "data": {
            "text/plain": [
              "<Figure size 640x480 with 1 Axes>"
            ],
            "image/png": "[encoded data removed]"
          },
          "metadata": {}
        }
      ]
    },
    {
      "cell_type": "code",
      "source": [
        "plt.plot(valid_accs)"
      ],
      "metadata": {
        "id": "8cKtrInH-smT",
        "outputId": "56bee859-c27e-45e1-d889-6557fd5c7b99",
        "colab": {
          "base_uri": "https://localhost:8080/",
          "height": 447
        }
      },
      "execution_count": 48,
      "outputs": [
        {
          "output_type": "execute_result",
          "data": {
            "text/plain": [
              "[<matplotlib.lines.Line2D at 0x7f2e3c177fd0>]"
            ]
          },
          "metadata": {},
          "execution_count": 48
        },
        {
          "output_type": "display_data",
          "data": {
            "text/plain": [
              "<Figure size 640x480 with 1 Axes>"
            ],
            "image/png": "[encoded data removed]"
          },
          "metadata": {}
        }
      ]
    },
    {
      "cell_type": "code",
      "source": [],
      "metadata": {
        "id": "EIFb9_LeCXlf"
      },
      "execution_count": 48,
      "outputs": []
    },
    {
      "cell_type": "code",
      "source": [
        "reddit_gpt3 = pd.read_csv('/content/gdrive/MyDrive/NLP/reddit_data_gpt3.csv')\n",
        "reddit_gpt3.head()\n",
        "reddit_gpt3['text'] = reddit_gpt3['Generated Text'] + reddit_gpt3['Body'] + reddit_gpt3['Title']\n",
        "reddit_gpt3 = reddit_gpt3[['text']]"
      ],
      "metadata": {
        "id": "o8Wx-SAmL-Rc",
        "outputId": "0742a627-101c-420d-e5cc-acec33794c22",
        "colab": {
          "base_uri": "https://localhost:8080/",
          "height": 363
        }
      },
      "execution_count": 49,
      "outputs": [
        {
          "output_type": "error",
          "ename": "FileNotFoundError",
          "evalue": "ignored",
          "traceback": [
            "\u001b[0;31m---------------------------------------------------------------------------\u001b[0m",
            "\u001b[0;31mFileNotFoundError\u001b[0m                         Traceback (most recent call last)",
            "\u001b[0;32m<ipython-input-49-490635485565>\u001b[0m in \u001b[0;36m<cell line: 1>\u001b[0;34m()\u001b[0m\n\u001b[0;32m----> 1\u001b[0;31m \u001b[0mreddit_gpt3\u001b[0m \u001b[0;34m=\u001b[0m \u001b[0mpd\u001b[0m\u001b[0;34m.\u001b[0m\u001b[0mread_csv\u001b[0m\u001b[0;34m(\u001b[0m\u001b[0;34m'/content/gdrive/MyDrive/NLP/reddit_data_gpt3.csv'\u001b[0m\u001b[0;34m)\u001b[0m\u001b[0;34m\u001b[0m\u001b[0;34m\u001b[0m\u001b[0m\n\u001b[0m\u001b[1;32m      2\u001b[0m \u001b[0mreddit_gpt3\u001b[0m\u001b[0;34m.\u001b[0m\u001b[0mhead\u001b[0m\u001b[0;34m(\u001b[0m\u001b[0;34m)\u001b[0m\u001b[0;34m\u001b[0m\u001b[0;34m\u001b[0m\u001b[0m\n\u001b[1;32m      3\u001b[0m \u001b[0mreddit_gpt3\u001b[0m\u001b[0;34m[\u001b[0m\u001b[0;34m'text'\u001b[0m\u001b[0;34m]\u001b[0m \u001b[0;34m=\u001b[0m \u001b[0mreddit_gpt3\u001b[0m\u001b[0;34m[\u001b[0m\u001b[0;34m'Generated Text'\u001b[0m\u001b[0;34m]\u001b[0m \u001b[0;34m+\u001b[0m \u001b[0mreddit_gpt3\u001b[0m\u001b[0;34m[\u001b[0m\u001b[0;34m'Body'\u001b[0m\u001b[0;34m]\u001b[0m \u001b[0;34m+\u001b[0m \u001b[0mreddit_gpt3\u001b[0m\u001b[0;34m[\u001b[0m\u001b[0;34m'Title'\u001b[0m\u001b[0;34m]\u001b[0m\u001b[0;34m\u001b[0m\u001b[0;34m\u001b[0m\u001b[0m\n\u001b[1;32m      4\u001b[0m \u001b[0mreddit_gpt3\u001b[0m \u001b[0;34m=\u001b[0m \u001b[0mreddit_gpt3\u001b[0m\u001b[0;34m[\u001b[0m\u001b[0;34m[\u001b[0m\u001b[0;34m'text'\u001b[0m\u001b[0;34m]\u001b[0m\u001b[0;34m]\u001b[0m\u001b[0;34m\u001b[0m\u001b[0;34m\u001b[0m\u001b[0m\n",
            "\u001b[0;32m/usr/local/lib/python3.10/dist-packages/pandas/util/_decorators.py\u001b[0m in \u001b[0;36mwrapper\u001b[0;34m(*args, **kwargs)\u001b[0m\n\u001b[1;32m    209\u001b[0m                 \u001b[0;32melse\u001b[0m\u001b[0;34m:\u001b[0m\u001b[0;34m\u001b[0m\u001b[0;34m\u001b[0m\u001b[0m\n\u001b[1;32m    210\u001b[0m                     \u001b[0mkwargs\u001b[0m\u001b[0;34m[\u001b[0m\u001b[0mnew_arg_name\u001b[0m\u001b[0;34m]\u001b[0m \u001b[0;34m=\u001b[0m \u001b[0mnew_arg_value\u001b[0m\u001b[0;34m\u001b[0m\u001b[0;34m\u001b[0m\u001b[0m\n\u001b[0;32m--> 211\u001b[0;31m             \u001b[0;32mreturn\u001b[0m \u001b[0mfunc\u001b[0m\u001b[0;34m(\u001b[0m\u001b[0;34m*\u001b[0m\u001b[0margs\u001b[0m\u001b[0;34m,\u001b[0m \u001b[0;34m**\u001b[0m\u001b[0mkwargs\u001b[0m\u001b[0;34m)\u001b[0m\u001b[0;34m\u001b[0m\u001b[0;34m\u001b[0m\u001b[0m\n\u001b[0m\u001b[1;32m    212\u001b[0m \u001b[0;34m\u001b[0m\u001b[0m\n\u001b[1;32m    213\u001b[0m         \u001b[0;32mreturn\u001b[0m \u001b[0mcast\u001b[0m\u001b[0;34m(\u001b[0m\u001b[0mF\u001b[0m\u001b[0;34m,\u001b[0m \u001b[0mwrapper\u001b[0m\u001b[0;34m)\u001b[0m\u001b[0;34m\u001b[0m\u001b[0;34m\u001b[0m\u001b[0m\n",
            "\u001b[0;32m/usr/local/lib/python3.10/dist-packages/pandas/util/_decorators.py\u001b[0m in \u001b[0;36mwrapper\u001b[0;34m(*args, **kwargs)\u001b[0m\n\u001b[1;32m    329\u001b[0m                     \u001b[0mstacklevel\u001b[0m\u001b[0;34m=\u001b[0m\u001b[0mfind_stack_level\u001b[0m\u001b[0;34m(\u001b[0m\u001b[0;34m)\u001b[0m\u001b[0;34m,\u001b[0m\u001b[0;34m\u001b[0m\u001b[0;34m\u001b[0m\u001b[0m\n\u001b[1;32m    330\u001b[0m                 )\n\u001b[0;32m--> 331\u001b[0;31m             \u001b[0;32mreturn\u001b[0m \u001b[0mfunc\u001b[0m\u001b[0;34m(\u001b[0m\u001b[0;34m*\u001b[0m\u001b[0margs\u001b[0m\u001b[0;34m,\u001b[0m \u001b[0;34m**\u001b[0m\u001b[0mkwargs\u001b[0m\u001b[0;34m)\u001b[0m\u001b[0;34m\u001b[0m\u001b[0;34m\u001b[0m\u001b[0m\n\u001b[0m\u001b[1;32m    332\u001b[0m \u001b[0;34m\u001b[0m\u001b[0m\n\u001b[1;32m    333\u001b[0m         \u001b[0;31m# error: \"Callable[[VarArg(Any), KwArg(Any)], Any]\" has no\u001b[0m\u001b[0;34m\u001b[0m\u001b[0;34m\u001b[0m\u001b[0m\n",
            "\u001b[0;32m/usr/local/lib/python3.10/dist-packages/pandas/io/parsers/readers.py\u001b[0m in \u001b[0;36mread_csv\u001b[0;34m(filepath_or_buffer, sep, delimiter, header, names, index_col, usecols, squeeze, prefix, mangle_dupe_cols, dtype, engine, converters, true_values, false_values, skipinitialspace, skiprows, skipfooter, nrows, na_values, keep_default_na, na_filter, verbose, skip_blank_lines, parse_dates, infer_datetime_format, keep_date_col, date_parser, dayfirst, cache_dates, iterator, chunksize, compression, thousands, decimal, lineterminator, quotechar, quoting, doublequote, escapechar, comment, encoding, encoding_errors, dialect, error_bad_lines, warn_bad_lines, on_bad_lines, delim_whitespace, low_memory, memory_map, float_precision, storage_options)\u001b[0m\n\u001b[1;32m    948\u001b[0m     \u001b[0mkwds\u001b[0m\u001b[0;34m.\u001b[0m\u001b[0mupdate\u001b[0m\u001b[0;34m(\u001b[0m\u001b[0mkwds_defaults\u001b[0m\u001b[0;34m)\u001b[0m\u001b[0;34m\u001b[0m\u001b[0;34m\u001b[0m\u001b[0m\n\u001b[1;32m    949\u001b[0m \u001b[0;34m\u001b[0m\u001b[0m\n\u001b[0;32m--> 950\u001b[0;31m     \u001b[0;32mreturn\u001b[0m \u001b[0m_read\u001b[0m\u001b[0;34m(\u001b[0m\u001b[0mfilepath_or_buffer\u001b[0m\u001b[0;34m,\u001b[0m \u001b[0mkwds\u001b[0m\u001b[0;34m)\u001b[0m\u001b[0;34m\u001b[0m\u001b[0;34m\u001b[0m\u001b[0m\n\u001b[0m\u001b[1;32m    951\u001b[0m \u001b[0;34m\u001b[0m\u001b[0m\n\u001b[1;32m    952\u001b[0m \u001b[0;34m\u001b[0m\u001b[0m\n",
            "\u001b[0;32m/usr/local/lib/python3.10/dist-packages/pandas/io/parsers/readers.py\u001b[0m in \u001b[0;36m_read\u001b[0;34m(filepath_or_buffer, kwds)\u001b[0m\n\u001b[1;32m    603\u001b[0m \u001b[0;34m\u001b[0m\u001b[0m\n\u001b[1;32m    604\u001b[0m     \u001b[0;31m# Create the parser.\u001b[0m\u001b[0;34m\u001b[0m\u001b[0;34m\u001b[0m\u001b[0m\n\u001b[0;32m--> 605\u001b[0;31m     \u001b[0mparser\u001b[0m \u001b[0;34m=\u001b[0m \u001b[0mTextFileReader\u001b[0m\u001b[0;34m(\u001b[0m\u001b[0mfilepath_or_buffer\u001b[0m\u001b[0;34m,\u001b[0m \u001b[0;34m**\u001b[0m\u001b[0mkwds\u001b[0m\u001b[0;34m)\u001b[0m\u001b[0;34m\u001b[0m\u001b[0;34m\u001b[0m\u001b[0m\n\u001b[0m\u001b[1;32m    606\u001b[0m \u001b[0;34m\u001b[0m\u001b[0m\n\u001b[1;32m    607\u001b[0m     \u001b[0;32mif\u001b[0m \u001b[0mchunksize\u001b[0m \u001b[0;32mor\u001b[0m \u001b[0miterator\u001b[0m\u001b[0;34m:\u001b[0m\u001b[0;34m\u001b[0m\u001b[0;34m\u001b[0m\u001b[0m\n",
            "\u001b[0;32m/usr/local/lib/python3.10/dist-packages/pandas/io/parsers/readers.py\u001b[0m in \u001b[0;36m__init__\u001b[0;34m(self, f, engine, **kwds)\u001b[0m\n\u001b[1;32m   1440\u001b[0m \u001b[0;34m\u001b[0m\u001b[0m\n\u001b[1;32m   1441\u001b[0m         \u001b[0mself\u001b[0m\u001b[0;34m.\u001b[0m\u001b[0mhandles\u001b[0m\u001b[0;34m:\u001b[0m \u001b[0mIOHandles\u001b[0m \u001b[0;34m|\u001b[0m \u001b[0;32mNone\u001b[0m \u001b[0;34m=\u001b[0m \u001b[0;32mNone\u001b[0m\u001b[0;34m\u001b[0m\u001b[0;34m\u001b[0m\u001b[0m\n\u001b[0;32m-> 1442\u001b[0;31m         \u001b[0mself\u001b[0m\u001b[0;34m.\u001b[0m\u001b[0m_engine\u001b[0m \u001b[0;34m=\u001b[0m \u001b[0mself\u001b[0m\u001b[0;34m.\u001b[0m\u001b[0m_make_engine\u001b[0m\u001b[0;34m(\u001b[0m\u001b[0mf\u001b[0m\u001b[0;34m,\u001b[0m \u001b[0mself\u001b[0m\u001b[0;34m.\u001b[0m\u001b[0mengine\u001b[0m\u001b[0;34m)\u001b[0m\u001b[0;34m\u001b[0m\u001b[0;34m\u001b[0m\u001b[0m\n\u001b[0m\u001b[1;32m   1443\u001b[0m \u001b[0;34m\u001b[0m\u001b[0m\n\u001b[1;32m   1444\u001b[0m     \u001b[0;32mdef\u001b[0m \u001b[0mclose\u001b[0m\u001b[0;34m(\u001b[0m\u001b[0mself\u001b[0m\u001b[0;34m)\u001b[0m \u001b[0;34m->\u001b[0m \u001b[0;32mNone\u001b[0m\u001b[0;34m:\u001b[0m\u001b[0;34m\u001b[0m\u001b[0;34m\u001b[0m\u001b[0m\n",
            "\u001b[0;32m/usr/local/lib/python3.10/dist-packages/pandas/io/parsers/readers.py\u001b[0m in \u001b[0;36m_make_engine\u001b[0;34m(self, f, engine)\u001b[0m\n\u001b[1;32m   1733\u001b[0m                 \u001b[0;32mif\u001b[0m \u001b[0;34m\"b\"\u001b[0m \u001b[0;32mnot\u001b[0m \u001b[0;32min\u001b[0m \u001b[0mmode\u001b[0m\u001b[0;34m:\u001b[0m\u001b[0;34m\u001b[0m\u001b[0;34m\u001b[0m\u001b[0m\n\u001b[1;32m   1734\u001b[0m                     \u001b[0mmode\u001b[0m \u001b[0;34m+=\u001b[0m \u001b[0;34m\"b\"\u001b[0m\u001b[0;34m\u001b[0m\u001b[0;34m\u001b[0m\u001b[0m\n\u001b[0;32m-> 1735\u001b[0;31m             self.handles = get_handle(\n\u001b[0m\u001b[1;32m   1736\u001b[0m                 \u001b[0mf\u001b[0m\u001b[0;34m,\u001b[0m\u001b[0;34m\u001b[0m\u001b[0;34m\u001b[0m\u001b[0m\n\u001b[1;32m   1737\u001b[0m                 \u001b[0mmode\u001b[0m\u001b[0;34m,\u001b[0m\u001b[0;34m\u001b[0m\u001b[0;34m\u001b[0m\u001b[0m\n",
            "\u001b[0;32m/usr/local/lib/python3.10/dist-packages/pandas/io/common.py\u001b[0m in \u001b[0;36mget_handle\u001b[0;34m(path_or_buf, mode, encoding, compression, memory_map, is_text, errors, storage_options)\u001b[0m\n\u001b[1;32m    854\u001b[0m         \u001b[0;32mif\u001b[0m \u001b[0mioargs\u001b[0m\u001b[0;34m.\u001b[0m\u001b[0mencoding\u001b[0m \u001b[0;32mand\u001b[0m \u001b[0;34m\"b\"\u001b[0m \u001b[0;32mnot\u001b[0m \u001b[0;32min\u001b[0m \u001b[0mioargs\u001b[0m\u001b[0;34m.\u001b[0m\u001b[0mmode\u001b[0m\u001b[0;34m:\u001b[0m\u001b[0;34m\u001b[0m\u001b[0;34m\u001b[0m\u001b[0m\n\u001b[1;32m    855\u001b[0m             \u001b[0;31m# Encoding\u001b[0m\u001b[0;34m\u001b[0m\u001b[0;34m\u001b[0m\u001b[0m\n\u001b[0;32m--> 856\u001b[0;31m             handle = open(\n\u001b[0m\u001b[1;32m    857\u001b[0m                 \u001b[0mhandle\u001b[0m\u001b[0;34m,\u001b[0m\u001b[0;34m\u001b[0m\u001b[0;34m\u001b[0m\u001b[0m\n\u001b[1;32m    858\u001b[0m                 \u001b[0mioargs\u001b[0m\u001b[0;34m.\u001b[0m\u001b[0mmode\u001b[0m\u001b[0;34m,\u001b[0m\u001b[0;34m\u001b[0m\u001b[0;34m\u001b[0m\u001b[0m\n",
            "\u001b[0;31mFileNotFoundError\u001b[0m: [Errno 2] No such file or directory: '/content/gdrive/MyDrive/NLP/reddit_data_gpt3.csv'"
          ]
        }
      ]
    },
    {
      "cell_type": "code",
      "source": [
        "ltoi"
      ],
      "metadata": {
        "id": "9fiwqrUVL-Oo"
      },
      "execution_count": null,
      "outputs": []
    },
    {
      "cell_type": "code",
      "source": [
        "reddit_gpt3['label'] = 9"
      ],
      "metadata": {
        "id": "mnkwS-c_L-Lz"
      },
      "execution_count": null,
      "outputs": []
    },
    {
      "cell_type": "code",
      "source": [
        "def dataframetodataset(df):\n",
        "  examples=[]\n",
        "  for i,row in df.iterrows():\n",
        "    # print(example)\n",
        "    examples.append(data.Example.fromlist(row, fields=[('text', TEXT), ('label', LABEL)]))\n",
        "    dataset = data.Dataset(examples, fields=[('text', TEXT), ('label', LABEL)])\n",
        "    # train_dataset, test_dataset, valid_dataset = dataset.split(split_ratio=[0.4, 0.3, 0.3], stratified=True, strata_field='label')\n",
        "    # device = torch.device('cuda' if torch.cuda.is_available() else 'cpu')\n",
        "    # print(\"We are working with \", device)\n",
        "    # train_iter, test_iter, valid_iter = data.BucketIterator.splits(\n",
        "    #     datasets=(train_dataset, test_dataset, valid_dataset), \n",
        "    #     batch_size=16,\n",
        "    #     sort_within_batch = True,\n",
        "    #     sort_key=lambda x: len(x.text),\n",
        "    #     device=device\n",
        "    # )\n",
        "  return dataset#,train_iter,test_iter,valid_iter"
      ],
      "metadata": {
        "id": "2F4b1_L9L-JC"
      },
      "execution_count": null,
      "outputs": []
    },
    {
      "cell_type": "code",
      "source": [
        "dataset = dataframetodataset(reddit_gpt3)\n",
        "train_dataset, test_dataset, valid_dataset = dataset.split(split_ratio=[0.4, 0.3, 0.3], stratified=True, strata_field='label')\n",
        "device = torch.device('cuda' if torch.cuda.is_available() else 'cpu')\n",
        "print(\"We are working with \", device)\n",
        "train_iter, test_iter, valid_iter = data.BucketIterator.splits(\n",
        "    datasets=(train_dataset, test_dataset, valid_dataset), \n",
        "    batch_size=16,\n",
        "    sort_within_batch = True,\n",
        "    sort_key=lambda x: len(x.text),\n",
        "    device=device\n",
        ")\n",
        "INPUT_DIM = len(TEXT.vocab)\n",
        "EMBEDDING_DIM = 50\n",
        "HIDDEN_DIM = 126\n",
        "OUTPUT_DIM = 11\n",
        "N_LAYERS = 2\n",
        "BIDIRECTIONAL = True\n",
        "DROPOUT = 0.5\n",
        "PAD_IDX = TEXT.vocab.stoi[TEXT.pad_token]\n",
        "\n",
        "model = LSTMAttention(INPUT_DIM, \n",
        "            EMBEDDING_DIM, \n",
        "            HIDDEN_DIM, \n",
        "            OUTPUT_DIM, \n",
        "            N_LAYERS, \n",
        "            BIDIRECTIONAL, \n",
        "            DROPOUT,\n",
        "            PAD_IDX)\n"
      ],
      "metadata": {
        "id": "4iLJpt3eL-GS"
      },
      "execution_count": null,
      "outputs": []
    },
    {
      "cell_type": "code",
      "source": [
        "model.load_state_dict(torch.load(path))\n",
        "model = model.to(device)\n"
      ],
      "metadata": {
        "id": "YJD0E_WfL-Dj"
      },
      "execution_count": 50,
      "outputs": []
    },
    {
      "cell_type": "code",
      "source": [],
      "metadata": {
        "id": "QR2-MWJAL-At"
      },
      "execution_count": 50,
      "outputs": []
    },
    {
      "cell_type": "code",
      "source": [
        "evaluate(model, test_iter, criterion)"
      ],
      "metadata": {
        "id": "smMCncVGL994",
        "colab": {
          "base_uri": "https://localhost:8080/"
        },
        "outputId": "5d389099-a32d-405c-9393-460c83686dd0"
      },
      "execution_count": 51,
      "outputs": [
        {
          "output_type": "execute_result",
          "data": {
            "text/plain": [
              "(0.37476516926835757, 0.8695101351351351)"
            ]
          },
          "metadata": {},
          "execution_count": 51
        }
      ]
    },
    {
      "cell_type": "code",
      "source": [
        "evaluate(model, valid_iter, criterion)"
      ],
      "metadata": {
        "id": "MVpJK8KOL97C",
        "colab": {
          "base_uri": "https://localhost:8080/"
        },
        "outputId": "923f0596-5e2e-4dd1-d866-97ca2846c9d4"
      },
      "execution_count": 52,
      "outputs": [
        {
          "output_type": "execute_result",
          "data": {
            "text/plain": [
              "(0.36450396247991274, 0.8693181818181818)"
            ]
          },
          "metadata": {},
          "execution_count": 52
        }
      ]
    },
    {
      "cell_type": "code",
      "source": [
        "# evaluate(model, train_iter, criterion)"
      ],
      "metadata": {
        "id": "DjvMd0rNMuLP"
      },
      "execution_count": null,
      "outputs": []
    },
    {
      "cell_type": "code",
      "source": [
        "def evaluate(model, dataloader):\n",
        "    model.eval()\n",
        "    device = next(model.parameters()).device\n",
        "    running_loss = 0.0\n",
        "    correct_predictions = 0\n",
        "    class_correct = [0] * 11\n",
        "    class_total = [0] * 11\n",
        "\n",
        "    with torch.no_grad():\n",
        "        for batch in dataloader:   \n",
        "            text, text_lengths = batch.text\n",
        "            predictions = model(text, text_lengths).squeeze(1)\n",
        "            target = batch.label\n",
        "            target = target.type(torch.LongTensor)\n",
        "            \n",
        "            loss = criterion(predictions.to(device), target.to(device))\n",
        "            \n",
        "            # acc = multiclass_accuracy(predictions, batch.label)\n",
        "            _, predicted = torch.max(predictions, dim=1)\n",
        "            correct_predictions += torch.sum(predicted.to(device) == target.to(device)).item()\n",
        "\n",
        "            for i in range(len(target)):\n",
        "                label = target[i]\n",
        "                class_correct[label] += int(predicted[i] == label)\n",
        "                class_total[label] += 1\n",
        "\n",
        "            # epoch_loss += loss.item()\n",
        "    # epoch_loss = running_loss / len(dataloader)\n",
        "    # epoch_acc = correct_predictions / len(dataloader)\n",
        "    classwise_acc = [class_correct[i] / class_total[i] if class_total[i] > 0 else 0 for i in range(11)]\n",
        "    return classwise_acc"
      ],
      "metadata": {
        "id": "bkn0CRPYNk4d"
      },
      "execution_count": 53,
      "outputs": []
    },
    {
      "cell_type": "code",
      "source": [
        "evaluate(model,train_iter)"
      ],
      "metadata": {
        "id": "TOUyXSNiVwAB",
        "outputId": "bca9d33c-358e-4ed1-fc7f-ba6c4f01c988",
        "colab": {
          "base_uri": "https://localhost:8080/"
        }
      },
      "execution_count": 54,
      "outputs": [
        {
          "output_type": "execute_result",
          "data": {
            "text/plain": [
              "[0.9971139971139971,\n",
              " 0.9985569985569985,\n",
              " 0.9422799422799423,\n",
              " 0.9855699855699855,\n",
              " 0.9696969696969697,\n",
              " 0.9971139971139971,\n",
              " 1.0,\n",
              " 1.0,\n",
              " 0.9971139971139971,\n",
              " 0.961038961038961,\n",
              " 0.9552669552669553]"
            ]
          },
          "metadata": {},
          "execution_count": 54
        }
      ]
    },
    {
      "cell_type": "code",
      "source": [
        "evaluate(model,test_iter)"
      ],
      "metadata": {
        "id": "dNSdtR8QV0Ec",
        "outputId": "ac4e28e8-27d5-4c6f-92a1-04dba4cdf806",
        "colab": {
          "base_uri": "https://localhost:8080/"
        }
      },
      "execution_count": 55,
      "outputs": [
        {
          "output_type": "execute_result",
          "data": {
            "text/plain": [
              "[0.9154929577464789,\n",
              " 0.9906103286384976,\n",
              " 0.7652582159624414,\n",
              " 0.812206572769953,\n",
              " 0.6431924882629108,\n",
              " 0.9906103286384976,\n",
              " 1.0,\n",
              " 1.0,\n",
              " 0.9812206572769953,\n",
              " 0.7183098591549296,\n",
              " 0.7323943661971831]"
            ]
          },
          "metadata": {},
          "execution_count": 55
        }
      ]
    },
    {
      "cell_type": "code",
      "source": [
        "ltoi"
      ],
      "metadata": {
        "id": "l-2Tm47sV2Hp",
        "outputId": "a380bab3-5d26-4cf6-841a-c9144f52d1a4",
        "colab": {
          "base_uri": "https://localhost:8080/"
        }
      },
      "execution_count": 56,
      "outputs": [
        {
          "output_type": "execute_result",
          "data": {
            "text/plain": [
              "{'grover': 0,\n",
              " 'ctrl': 1,\n",
              " 'instructgpt': 2,\n",
              " 'pplm': 3,\n",
              " 'gpt2': 4,\n",
              " 'xlnet': 5,\n",
              " 'gpt': 6,\n",
              " 'xlm': 7,\n",
              " 'human': 8,\n",
              " 'gpt3': 9,\n",
              " 'fair': 10}"
            ]
          },
          "metadata": {},
          "execution_count": 56
        }
      ]
    },
    {
      "cell_type": "code",
      "source": [],
      "metadata": {
        "id": "MKwzTflcV3-L"
      },
      "execution_count": null,
      "outputs": []
    }
  ]
}